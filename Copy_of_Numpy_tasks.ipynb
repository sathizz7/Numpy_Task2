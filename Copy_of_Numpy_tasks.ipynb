{
  "cells": [
    {
      "cell_type": "markdown",
      "metadata": {
        "id": "view-in-github",
        "colab_type": "text"
      },
      "source": [
        "<a href=\"https://colab.research.google.com/github/sathizz7/Numpy_Task2/blob/main/Copy_of_Numpy_tasks.ipynb\" target=\"_parent\"><img src=\"https://colab.research.google.com/assets/colab-badge.svg\" alt=\"Open In Colab\"/></a>"
      ]
    },
    {
      "cell_type": "markdown",
      "metadata": {
        "id": "Ec8Xm6kfvOzd"
      },
      "source": [
        "# Numpy\n",
        "\n"
      ]
    },
    {
      "cell_type": "markdown",
      "metadata": {
        "id": "ecfUzH4TvOzl"
      },
      "source": [
        "#### 1. Import the numpy package under the name `np` (★☆☆) \n",
        "(**hint**: import … as …)"
      ]
    },
    {
      "cell_type": "code",
      "execution_count": null,
      "metadata": {
        "collapsed": true,
        "id": "VpZ0ZsgyvOzn"
      },
      "outputs": [],
      "source": [
        "import numpy as np"
      ]
    },
    {
      "cell_type": "markdown",
      "metadata": {
        "id": "uck9ZnzOvOzp"
      },
      "source": [
        "#### 2. Print the numpy version and the configuration (★☆☆) \n",
        "(**hint**: np.\\_\\_version\\_\\_, np.show\\_config)"
      ]
    },
    {
      "cell_type": "code",
      "execution_count": null,
      "metadata": {
        "id": "rW-liRYQvOzq",
        "colab": {
          "base_uri": "https://localhost:8080/",
          "height": 35
        },
        "outputId": "4d89dcd4-d4e1-4049-ba9a-ba547d2b8a2d"
      },
      "outputs": [
        {
          "output_type": "execute_result",
          "data": {
            "text/plain": [
              "'1.21.6'"
            ],
            "application/vnd.google.colaboratory.intrinsic+json": {
              "type": "string"
            }
          },
          "metadata": {},
          "execution_count": 2
        }
      ],
      "source": [
        "np.__version__"
      ]
    },
    {
      "cell_type": "code",
      "source": [
        "np.show_config()"
      ],
      "metadata": {
        "colab": {
          "base_uri": "https://localhost:8080/"
        },
        "id": "Clf31zsTz_P6",
        "outputId": "4b835667-65f9-493a-c33b-b76abec91851"
      },
      "execution_count": null,
      "outputs": [
        {
          "output_type": "stream",
          "name": "stdout",
          "text": [
            "blas_mkl_info:\n",
            "  NOT AVAILABLE\n",
            "blis_info:\n",
            "  NOT AVAILABLE\n",
            "openblas_info:\n",
            "    libraries = ['openblas', 'openblas']\n",
            "    library_dirs = ['/usr/local/lib']\n",
            "    language = c\n",
            "    define_macros = [('HAVE_CBLAS', None)]\n",
            "    runtime_library_dirs = ['/usr/local/lib']\n",
            "blas_opt_info:\n",
            "    libraries = ['openblas', 'openblas']\n",
            "    library_dirs = ['/usr/local/lib']\n",
            "    language = c\n",
            "    define_macros = [('HAVE_CBLAS', None)]\n",
            "    runtime_library_dirs = ['/usr/local/lib']\n",
            "lapack_mkl_info:\n",
            "  NOT AVAILABLE\n",
            "openblas_lapack_info:\n",
            "    libraries = ['openblas', 'openblas']\n",
            "    library_dirs = ['/usr/local/lib']\n",
            "    language = c\n",
            "    define_macros = [('HAVE_CBLAS', None)]\n",
            "    runtime_library_dirs = ['/usr/local/lib']\n",
            "lapack_opt_info:\n",
            "    libraries = ['openblas', 'openblas']\n",
            "    library_dirs = ['/usr/local/lib']\n",
            "    language = c\n",
            "    define_macros = [('HAVE_CBLAS', None)]\n",
            "    runtime_library_dirs = ['/usr/local/lib']\n",
            "Supported SIMD extensions in this NumPy install:\n",
            "    baseline = SSE,SSE2,SSE3\n",
            "    found = SSSE3,SSE41,POPCNT,SSE42,AVX,F16C,FMA3,AVX2\n",
            "    not found = AVX512F,AVX512CD,AVX512_KNL,AVX512_KNM,AVX512_SKX,AVX512_CLX,AVX512_CNL,AVX512_ICL\n"
          ]
        }
      ]
    },
    {
      "cell_type": "markdown",
      "metadata": {
        "id": "tL-lx5BtvOzr"
      },
      "source": [
        "#### 3. Create a null vector of size 10 (★☆☆) \n",
        "(**hint**: np.zeros)"
      ]
    },
    {
      "cell_type": "code",
      "execution_count": null,
      "metadata": {
        "id": "cf80t-srvOzr",
        "colab": {
          "base_uri": "https://localhost:8080/"
        },
        "outputId": "e23f064d-31fc-49a3-df2e-89c588617772"
      },
      "outputs": [
        {
          "output_type": "stream",
          "name": "stdout",
          "text": [
            "[0. 0. 0. 0. 0. 0. 0. 0. 0. 0.]\n"
          ]
        }
      ],
      "source": [
        "X = np.zeros(10)\n",
        "print(X)"
      ]
    },
    {
      "cell_type": "markdown",
      "metadata": {
        "id": "GmWGsr1ovOzt"
      },
      "source": [
        "#### 4.  How to find the memory size of any array (★☆☆) \n",
        "(**hint**: size, itemsize)"
      ]
    },
    {
      "cell_type": "code",
      "execution_count": null,
      "metadata": {
        "id": "WVxV2awtvOzu",
        "colab": {
          "base_uri": "https://localhost:8080/"
        },
        "outputId": "45756f17-9990-46f0-87a1-5416cb00991c"
      },
      "outputs": [
        {
          "output_type": "execute_result",
          "data": {
            "text/plain": [
              "10"
            ]
          },
          "metadata": {},
          "execution_count": 4
        }
      ],
      "source": [
        "X.size"
      ]
    },
    {
      "cell_type": "code",
      "source": [
        "X.itemsize"
      ],
      "metadata": {
        "colab": {
          "base_uri": "https://localhost:8080/"
        },
        "id": "Raq0492r1UDt",
        "outputId": "a59c48f7-5a65-4804-8b83-cb887f8f35e9"
      },
      "execution_count": null,
      "outputs": [
        {
          "output_type": "execute_result",
          "data": {
            "text/plain": [
              "8"
            ]
          },
          "metadata": {},
          "execution_count": 5
        }
      ]
    },
    {
      "cell_type": "markdown",
      "metadata": {
        "id": "AdfxiKyWvOzv"
      },
      "source": [
        "#### 5.  How to get the documentation of the numpy add function from the command line? (★☆☆) \n",
        "(**hint**: np.info)"
      ]
    },
    {
      "cell_type": "code",
      "execution_count": null,
      "metadata": {
        "collapsed": true,
        "id": "9oxuaugwvOzw",
        "colab": {
          "base_uri": "https://localhost:8080/"
        },
        "outputId": "ed773557-94b3-4800-9f38-6f0edfc47478"
      },
      "outputs": [
        {
          "output_type": "stream",
          "name": "stdout",
          "text": [
            "add(x1, x2, /, out=None, *, where=True, casting='same_kind', order='K', dtype=None, subok=True[, signature, extobj])\n",
            "\n",
            "Add arguments element-wise.\n",
            "\n",
            "Parameters\n",
            "----------\n",
            "x1, x2 : array_like\n",
            "    The arrays to be added.\n",
            "    If ``x1.shape != x2.shape``, they must be broadcastable to a common\n",
            "    shape (which becomes the shape of the output).\n",
            "out : ndarray, None, or tuple of ndarray and None, optional\n",
            "    A location into which the result is stored. If provided, it must have\n",
            "    a shape that the inputs broadcast to. If not provided or None,\n",
            "    a freshly-allocated array is returned. A tuple (possible only as a\n",
            "    keyword argument) must have length equal to the number of outputs.\n",
            "where : array_like, optional\n",
            "    This condition is broadcast over the input. At locations where the\n",
            "    condition is True, the `out` array will be set to the ufunc result.\n",
            "    Elsewhere, the `out` array will retain its original value.\n",
            "    Note that if an uninitialized `out` array is created via the default\n",
            "    ``out=None``, locations within it where the condition is False will\n",
            "    remain uninitialized.\n",
            "**kwargs\n",
            "    For other keyword-only arguments, see the\n",
            "    :ref:`ufunc docs <ufuncs.kwargs>`.\n",
            "\n",
            "Returns\n",
            "-------\n",
            "add : ndarray or scalar\n",
            "    The sum of `x1` and `x2`, element-wise.\n",
            "    This is a scalar if both `x1` and `x2` are scalars.\n",
            "\n",
            "Notes\n",
            "-----\n",
            "Equivalent to `x1` + `x2` in terms of array broadcasting.\n",
            "\n",
            "Examples\n",
            "--------\n",
            ">>> np.add(1.0, 4.0)\n",
            "5.0\n",
            ">>> x1 = np.arange(9.0).reshape((3, 3))\n",
            ">>> x2 = np.arange(3.0)\n",
            ">>> np.add(x1, x2)\n",
            "array([[  0.,   2.,   4.],\n",
            "       [  3.,   5.,   7.],\n",
            "       [  6.,   8.,  10.]])\n",
            "\n",
            "The ``+`` operator can be used as a shorthand for ``np.add`` on ndarrays.\n",
            "\n",
            ">>> x1 = np.arange(9.0).reshape((3, 3))\n",
            ">>> x2 = np.arange(3.0)\n",
            ">>> x1 + x2\n",
            "array([[ 0.,  2.,  4.],\n",
            "       [ 3.,  5.,  7.],\n",
            "       [ 6.,  8., 10.]])\n"
          ]
        }
      ],
      "source": [
        "np.info(np.add)"
      ]
    },
    {
      "cell_type": "markdown",
      "metadata": {
        "id": "ZUW5tJzdvOzw"
      },
      "source": [
        "#### 6.  Create a null vector of size 10 but the fifth value which is 1 (★☆☆) \n",
        "(**hint**: array\\[4\\])"
      ]
    },
    {
      "cell_type": "code",
      "execution_count": null,
      "metadata": {
        "id": "sm13pZLQvOzw"
      },
      "outputs": [],
      "source": [
        "y = np.zeros(10)"
      ]
    },
    {
      "cell_type": "code",
      "source": [
        "y[4] = 1"
      ],
      "metadata": {
        "id": "L3lwY_GKWWpS"
      },
      "execution_count": null,
      "outputs": []
    },
    {
      "cell_type": "code",
      "source": [
        "y"
      ],
      "metadata": {
        "colab": {
          "base_uri": "https://localhost:8080/"
        },
        "id": "mvZvx3vBWbGp",
        "outputId": "0c498152-078a-49f7-d1f6-688511b56feb"
      },
      "execution_count": null,
      "outputs": [
        {
          "output_type": "execute_result",
          "data": {
            "text/plain": [
              "array([0., 0., 0., 0., 1., 0., 0., 0., 0., 0.])"
            ]
          },
          "metadata": {},
          "execution_count": 12
        }
      ]
    },
    {
      "cell_type": "markdown",
      "metadata": {
        "id": "shsKrPAXvOzx"
      },
      "source": [
        "#### 7.  Create a vector with values ranging from 10 to 49 (★☆☆) \n",
        "(**hint**: np.arange)"
      ]
    },
    {
      "cell_type": "code",
      "execution_count": null,
      "metadata": {
        "id": "hNkmF1XRvOzx",
        "colab": {
          "base_uri": "https://localhost:8080/"
        },
        "outputId": "0588a4ca-e80b-473b-994b-97b040543cc0"
      },
      "outputs": [
        {
          "output_type": "stream",
          "name": "stdout",
          "text": [
            "[10 11 12 13 14 15 16 17 18 19 20 21 22 23 24 25 26 27 28 29 30 31 32 33\n",
            " 34 35 36 37 38 39 40 41 42 43 44 45 46 47 48 49]\n"
          ]
        }
      ],
      "source": [
        "A = np.arange(10,50)\n",
        "print(A)"
      ]
    },
    {
      "cell_type": "markdown",
      "metadata": {
        "id": "D2OfdteyvOzy"
      },
      "source": [
        "#### 8.  Reverse a vector (first element becomes last) (★☆☆) \n",
        "(**hint**: array\\[::-1\\])"
      ]
    },
    {
      "cell_type": "code",
      "execution_count": null,
      "metadata": {
        "id": "OQpFB_KdvOzy",
        "colab": {
          "base_uri": "https://localhost:8080/"
        },
        "outputId": "51faf64c-1139-4a64-fdf7-0d13a7f35ffa"
      },
      "outputs": [
        {
          "output_type": "stream",
          "name": "stdout",
          "text": [
            "[49 48 47 46 45 44 43 42 41 40 39 38 37 36 35 34 33 32 31 30 29 28 27 26\n",
            " 25 24 23 22 21 20 19 18 17 16 15 14 13 12 11 10]\n"
          ]
        }
      ],
      "source": [
        "A = A[::-1]\n",
        "print(A)"
      ]
    },
    {
      "cell_type": "markdown",
      "metadata": {
        "id": "lhOOaBQQvOzy"
      },
      "source": [
        "#### 9.  Create a 3x3 matrix with values ranging from 0 to 8 (★☆☆) \n",
        "(**hint**: reshape)"
      ]
    },
    {
      "cell_type": "code",
      "execution_count": null,
      "metadata": {
        "id": "FQiKEEDtvOzz",
        "colab": {
          "base_uri": "https://localhost:8080/"
        },
        "outputId": "ba08a7a3-c89f-447a-ff48-98b5a59a78ce"
      },
      "outputs": [
        {
          "output_type": "execute_result",
          "data": {
            "text/plain": [
              "array([[0, 1, 2],\n",
              "       [3, 4, 5],\n",
              "       [6, 7, 8]])"
            ]
          },
          "metadata": {},
          "execution_count": 19
        }
      ],
      "source": [
        "B = np.arange(0,9)\n",
        "B.reshape(3,3)"
      ]
    },
    {
      "cell_type": "markdown",
      "metadata": {
        "id": "OU_mDqkjvOzz"
      },
      "source": [
        "#### 10. Find indices of non-zero elements from \\[1,2,0,0,4,0\\] (★☆☆) \n",
        "(**hint**: np.nonzero)"
      ]
    },
    {
      "cell_type": "code",
      "execution_count": null,
      "metadata": {
        "id": "Bt0Y6J0MvOzz",
        "colab": {
          "base_uri": "https://localhost:8080/"
        },
        "outputId": "1639536a-00b7-4209-a9ff-6338e13856d5"
      },
      "outputs": [
        {
          "output_type": "execute_result",
          "data": {
            "text/plain": [
              "(array([0, 1, 4]),)"
            ]
          },
          "metadata": {},
          "execution_count": 25
        }
      ],
      "source": [
        "c = [1,2,0,0,4,0]\n",
        "np.nonzero(c)"
      ]
    },
    {
      "cell_type": "markdown",
      "metadata": {
        "id": "KQsDtmmLvOz0"
      },
      "source": [
        "#### 11. Create a 3x3 identity matrix (★☆☆) \n",
        "(**hint**: np.eye)"
      ]
    },
    {
      "cell_type": "code",
      "source": [
        "np.eye(3)"
      ],
      "metadata": {
        "colab": {
          "base_uri": "https://localhost:8080/"
        },
        "id": "Kt4V74pfgaC_",
        "outputId": "97c66d08-1151-4e5e-eac1-37b0c866af13"
      },
      "execution_count": null,
      "outputs": [
        {
          "output_type": "execute_result",
          "data": {
            "text/plain": [
              "array([[1., 0., 0.],\n",
              "       [0., 1., 0.],\n",
              "       [0., 0., 1.]])"
            ]
          },
          "metadata": {},
          "execution_count": 27
        }
      ]
    },
    {
      "cell_type": "code",
      "execution_count": null,
      "metadata": {
        "id": "TNyxRJCPvOz0",
        "colab": {
          "base_uri": "https://localhost:8080/"
        },
        "outputId": "93c0c8b2-b705-4b2e-be2c-aaa0b6d093bb"
      },
      "outputs": [
        {
          "output_type": "execute_result",
          "data": {
            "text/plain": [
              "array([[1., 0., 0.],\n",
              "       [0., 1., 0.],\n",
              "       [0., 0., 1.]])"
            ]
          },
          "metadata": {},
          "execution_count": 26
        }
      ],
      "source": [
        "np.identity(3)"
      ]
    },
    {
      "cell_type": "markdown",
      "metadata": {
        "id": "8_H2DhyrvOz0"
      },
      "source": [
        "#### 12. Create a 3x3x3 array with random values (★☆☆) \n",
        "(**hint**: np.random.random)"
      ]
    },
    {
      "cell_type": "code",
      "execution_count": null,
      "metadata": {
        "collapsed": true,
        "id": "76hGS5TkvOz0",
        "colab": {
          "base_uri": "https://localhost:8080/"
        },
        "outputId": "974715ab-fed3-4ea5-8077-c2db0b1d8f47"
      },
      "outputs": [
        {
          "output_type": "execute_result",
          "data": {
            "text/plain": [
              "array([[[0.59589784, 0.42944161, 0.18972871],\n",
              "        [0.02369433, 0.61048204, 0.70606912],\n",
              "        [0.86441503, 0.79785221, 0.35567585]],\n",
              "\n",
              "       [[0.95232933, 0.80784902, 0.85785598],\n",
              "        [0.42105955, 0.64839598, 0.54141607],\n",
              "        [0.58609294, 0.94771254, 0.4574179 ]],\n",
              "\n",
              "       [[0.83398666, 0.44488006, 0.63670469],\n",
              "        [0.94585791, 0.71957875, 0.75575806],\n",
              "        [0.4877922 , 0.78765635, 0.87705883]]])"
            ]
          },
          "metadata": {},
          "execution_count": 28
        }
      ],
      "source": [
        "np.random.rand(3,3,3)"
      ]
    },
    {
      "cell_type": "markdown",
      "metadata": {
        "id": "tCtSnCecvOz1"
      },
      "source": [
        "#### 13. Create a 10x10 array with random values and find the minimum and maximum values (★☆☆) \n",
        "(**hint**: min, max)"
      ]
    },
    {
      "cell_type": "code",
      "execution_count": null,
      "metadata": {
        "id": "0jyqoNw7vOz1",
        "colab": {
          "base_uri": "https://localhost:8080/"
        },
        "outputId": "a3d81a18-4971-423b-a595-8197551ac9c7"
      },
      "outputs": [
        {
          "output_type": "stream",
          "name": "stdout",
          "text": [
            "[[0.88350542 0.07823495 0.49813096 0.9463563  0.39505033 0.48881247\n",
            "  0.86649404 0.39626522 0.74404775 0.31763579]\n",
            " [0.36761807 0.40878359 0.42316048 0.12350478 0.41837358 0.5161031\n",
            "  0.35066752 0.28142651 0.97789749 0.53487998]\n",
            " [0.87265814 0.70065549 0.75865419 0.36527769 0.12444376 0.04112342\n",
            "  0.84205096 0.52500021 0.21314962 0.81570249]\n",
            " [0.71653605 0.3606342  0.8576052  0.53113779 0.80585532 0.54411802\n",
            "  0.96374887 0.78065929 0.77839655 0.5835528 ]\n",
            " [0.74318156 0.68768773 0.7375797  0.52800315 0.97248601 0.12054044\n",
            "  0.93218141 0.76585782 0.56660243 0.1264133 ]\n",
            " [0.06354745 0.77572554 0.32071683 0.20137015 0.04474373 0.46278604\n",
            "  0.81684909 0.35921137 0.07912645 0.7643231 ]\n",
            " [0.05795447 0.7102677  0.74666566 0.5147476  0.89352844 0.11486281\n",
            "  0.43009847 0.03996072 0.79755119 0.17847177]\n",
            " [0.59399869 0.70779068 0.182538   0.29649137 0.17555569 0.16145153\n",
            "  0.15686951 0.29822761 0.16754332 0.51693758]\n",
            " [0.85682413 0.23403916 0.19092304 0.62750433 0.42720041 0.9838479\n",
            "  0.38059625 0.88543929 0.11948458 0.21655264]\n",
            " [0.86953267 0.19168043 0.36511321 0.8518997  0.03808272 0.01923163\n",
            "  0.85974815 0.54108059 0.58714621 0.07508944]]\n"
          ]
        }
      ],
      "source": [
        "x = np.random.rand(10,10)\n",
        "print(x)"
      ]
    },
    {
      "cell_type": "code",
      "source": [
        "x.min()"
      ],
      "metadata": {
        "colab": {
          "base_uri": "https://localhost:8080/"
        },
        "id": "QbbHGV1qhkIr",
        "outputId": "2e5e619a-7d6a-498e-c71d-44eab6bb0d02"
      },
      "execution_count": null,
      "outputs": [
        {
          "output_type": "execute_result",
          "data": {
            "text/plain": [
              "0.044507206846067016"
            ]
          },
          "metadata": {},
          "execution_count": 32
        }
      ]
    },
    {
      "cell_type": "code",
      "source": [
        "x.max()"
      ],
      "metadata": {
        "colab": {
          "base_uri": "https://localhost:8080/"
        },
        "id": "wUWs_mW5hwBt",
        "outputId": "d062cc20-2204-444e-d41f-66e1b4751409"
      },
      "execution_count": null,
      "outputs": [
        {
          "output_type": "execute_result",
          "data": {
            "text/plain": [
              "0.983847897268718"
            ]
          },
          "metadata": {},
          "execution_count": 34
        }
      ]
    },
    {
      "cell_type": "markdown",
      "metadata": {
        "id": "emyJaQTRvOz1"
      },
      "source": [
        "#### 14. Create a random vector of size 30 and find the mean value (★☆☆) \n",
        "(**hint**: mean)"
      ]
    },
    {
      "cell_type": "code",
      "execution_count": null,
      "metadata": {
        "id": "vzUeYhBmvOz1",
        "colab": {
          "base_uri": "https://localhost:8080/"
        },
        "outputId": "f2b03f03-3cb0-4b97-bd97-8f5505416a6c"
      },
      "outputs": [
        {
          "output_type": "execute_result",
          "data": {
            "text/plain": [
              "0.5166287430134677"
            ]
          },
          "metadata": {},
          "execution_count": 36
        }
      ],
      "source": [
        "y = np.random.rand(30)\n",
        "y.mean()"
      ]
    },
    {
      "cell_type": "markdown",
      "metadata": {
        "id": "hJUnCxXEvOz2"
      },
      "source": [
        "#### 15. Create a 2d array with 1 on the border and 0 inside (★☆☆) \n",
        "(**hint**: array\\[1:-1, 1:-1\\])"
      ]
    },
    {
      "cell_type": "code",
      "execution_count": null,
      "metadata": {
        "id": "H_U0NlkevOz2"
      },
      "outputs": [],
      "source": [
        "ones = np.ones(16)\n",
        "ones = ones.reshape(4,4)"
      ]
    },
    {
      "cell_type": "code",
      "source": [
        "ones[1:-1, 1:-1] = 0"
      ],
      "metadata": {
        "id": "7R8KBz52lLQg"
      },
      "execution_count": null,
      "outputs": []
    },
    {
      "cell_type": "code",
      "source": [
        "print(ones)"
      ],
      "metadata": {
        "colab": {
          "base_uri": "https://localhost:8080/"
        },
        "id": "4GkzdxnilokL",
        "outputId": "f204669b-5f6c-46e3-9ed4-26a2486f00ea"
      },
      "execution_count": null,
      "outputs": [
        {
          "output_type": "stream",
          "name": "stdout",
          "text": [
            "[[1. 1. 1. 1.]\n",
            " [1. 0. 0. 1.]\n",
            " [1. 0. 0. 1.]\n",
            " [1. 1. 1. 1.]]\n"
          ]
        }
      ]
    },
    {
      "cell_type": "markdown",
      "metadata": {
        "id": "nnD5-6X3vOz2"
      },
      "source": [
        "#### 16. How to add a border (filled with 0's) around an existing array? (★☆☆) \n",
        "(**hint**: np.pad)"
      ]
    },
    {
      "cell_type": "code",
      "execution_count": null,
      "metadata": {
        "id": "I-Aj-baXvOz2"
      },
      "outputs": [],
      "source": [
        "x = np.ones((3,3))"
      ]
    },
    {
      "cell_type": "code",
      "source": [
        "x = np.pad(x, pad_width= 1, mode = 'constant', constant_values = 0)"
      ],
      "metadata": {
        "id": "hsb0prZ8oESP"
      },
      "execution_count": null,
      "outputs": []
    },
    {
      "cell_type": "code",
      "source": [
        "print(x)"
      ],
      "metadata": {
        "colab": {
          "base_uri": "https://localhost:8080/"
        },
        "id": "tqxJTrGzoax6",
        "outputId": "266511c8-d5a3-4688-98d7-020b2913bd4c"
      },
      "execution_count": null,
      "outputs": [
        {
          "output_type": "stream",
          "name": "stdout",
          "text": [
            "[[0. 0. 0. 0. 0.]\n",
            " [0. 1. 1. 1. 0.]\n",
            " [0. 1. 1. 1. 0.]\n",
            " [0. 1. 1. 1. 0.]\n",
            " [0. 0. 0. 0. 0.]]\n"
          ]
        }
      ]
    },
    {
      "cell_type": "markdown",
      "metadata": {
        "id": "hqKjV5AWvOz2"
      },
      "source": [
        "#### 17. What is the result of the following expression? (★☆☆) \n",
        "(**hint**: NaN = not a number, inf = infinity)"
      ]
    },
    {
      "cell_type": "markdown",
      "metadata": {
        "id": "oehVnC5avOz3"
      },
      "source": [
        "```python\n",
        "0 * np.nan\n",
        "np.nan == np.nan\n",
        "np.inf > np.nan\n",
        "np.nan - np.nan\n",
        "0.3 == 3 * 0.1\n",
        "```"
      ]
    },
    {
      "cell_type": "code",
      "execution_count": null,
      "metadata": {
        "id": "m5jENowXvOz3"
      },
      "outputs": [],
      "source": [
        "nan\n",
        "False\n",
        "False\n",
        "nan\n",
        "False"
      ]
    },
    {
      "cell_type": "markdown",
      "metadata": {
        "id": "uH9aXSzzvOz4"
      },
      "source": [
        "#### 18. Create a 5x5 matrix with values 1,2,3,4 just below the diagonal (★☆☆) \n",
        "(**hint**: np.diag)"
      ]
    },
    {
      "cell_type": "code",
      "execution_count": null,
      "metadata": {
        "id": "6r9hq6LwvOz4",
        "colab": {
          "base_uri": "https://localhost:8080/"
        },
        "outputId": "26741e83-6f6f-48dd-8f54-a2c26dad2afe"
      },
      "outputs": [
        {
          "output_type": "execute_result",
          "data": {
            "text/plain": [
              "array([[0, 0, 0, 0, 0],\n",
              "       [1, 0, 0, 0, 0],\n",
              "       [0, 2, 0, 0, 0],\n",
              "       [0, 0, 3, 0, 0],\n",
              "       [0, 0, 0, 4, 0]])"
            ]
          },
          "metadata": {},
          "execution_count": 18
        }
      ],
      "source": [
        "np.diag(1 + np.arange(4), k = -1)"
      ]
    },
    {
      "cell_type": "markdown",
      "metadata": {
        "id": "baIAe_BEvOz4"
      },
      "source": [
        "#### 19. Create a 8x8 matrix and fill it with a checkerboard pattern (★☆☆) \n",
        "(**hint**: array\\[::2\\])"
      ]
    },
    {
      "cell_type": "code",
      "execution_count": null,
      "metadata": {
        "id": "WQezxaT6vOz4",
        "colab": {
          "base_uri": "https://localhost:8080/"
        },
        "outputId": "b71b6e7f-0b04-4125-f825-565eb1d3857e"
      },
      "outputs": [
        {
          "output_type": "stream",
          "name": "stdout",
          "text": [
            "[[0 1 0 1 0 1 0 1]\n",
            " [1 0 1 0 1 0 1 0]\n",
            " [0 1 0 1 0 1 0 1]\n",
            " [1 0 1 0 1 0 1 0]\n",
            " [0 1 0 1 0 1 0 1]\n",
            " [1 0 1 0 1 0 1 0]\n",
            " [0 1 0 1 0 1 0 1]\n",
            " [1 0 1 0 1 0 1 0]]\n"
          ]
        }
      ],
      "source": [
        "a = np.zeros((8, 8), dtype = int)\n",
        "a[1::2 , ::2] = 1\n",
        "a[::2 , 1::2] = 1\n",
        "print(a)"
      ]
    },
    {
      "cell_type": "markdown",
      "metadata": {
        "id": "NdoBHVfCvOz4"
      },
      "source": [
        "#### 20. Consider a (6,7,8) shape array, what is the index (x,y,z) of the 100th element? \n",
        "(**hint**: np.unravel_index)"
      ]
    },
    {
      "cell_type": "code",
      "execution_count": null,
      "metadata": {
        "id": "ge-OcTULvOz5",
        "colab": {
          "base_uri": "https://localhost:8080/"
        },
        "outputId": "084693a3-18e8-4f2b-f60d-a0d90bc75c56"
      },
      "outputs": [
        {
          "output_type": "stream",
          "name": "stdout",
          "text": [
            "(1, 5, 4)\n"
          ]
        }
      ],
      "source": [
        "print(np.unravel_index(100, (6,7,8)))##"
      ]
    },
    {
      "cell_type": "markdown",
      "metadata": {
        "id": "hxEl1r6IvOz5"
      },
      "source": [
        "#### 21. Create a checkerboard 8x8 matrix using the tile function (★☆☆) \n",
        "(**hint**: np.tile)"
      ]
    },
    {
      "cell_type": "code",
      "execution_count": null,
      "metadata": {
        "id": "zNGQkcvtvOz6",
        "colab": {
          "base_uri": "https://localhost:8080/"
        },
        "outputId": "5a3154ee-07f7-4170-f91b-8445ca0fc132"
      },
      "outputs": [
        {
          "output_type": "execute_result",
          "data": {
            "text/plain": [
              "array([[0, 1, 0, 1, 0, 1, 0, 1],\n",
              "       [1, 0, 1, 0, 1, 0, 1, 0],\n",
              "       [0, 1, 0, 1, 0, 1, 0, 1],\n",
              "       [1, 0, 1, 0, 1, 0, 1, 0],\n",
              "       [0, 1, 0, 1, 0, 1, 0, 1],\n",
              "       [1, 0, 1, 0, 1, 0, 1, 0],\n",
              "       [0, 1, 0, 1, 0, 1, 0, 1],\n",
              "       [1, 0, 1, 0, 1, 0, 1, 0]])"
            ]
          },
          "metadata": {},
          "execution_count": 30
        }
      ],
      "source": [
        "obj = np.array([[0,1],[1,0]])\n",
        "np.tile(obj,(4,4))"
      ]
    },
    {
      "cell_type": "markdown",
      "metadata": {
        "id": "5m0WM58nvOz6"
      },
      "source": [
        "#### 22. Normalize a 5x5 random matrix (★☆☆) \n",
        "(**hint**: (x - min) / (max - min))"
      ]
    },
    {
      "cell_type": "code",
      "execution_count": null,
      "metadata": {
        "id": "iDEm2d_WvOz7",
        "colab": {
          "base_uri": "https://localhost:8080/"
        },
        "outputId": "fb4e37ae-ee85-41da-b5e1-0964740e1985"
      },
      "outputs": [
        {
          "output_type": "stream",
          "name": "stdout",
          "text": [
            "[[0.12326844 0.         0.17627162 0.82545074 0.83710597]\n",
            " [0.50223375 0.46244491 0.85105522 1.         0.37477902]\n",
            " [0.76507035 0.43577701 0.58805342 0.59093558 0.42726428]\n",
            " [0.24166493 0.18072681 0.07899513 0.69140397 0.53149565]\n",
            " [0.38445002 0.96951331 0.30250211 0.96397899 0.88028449]]\n"
          ]
        }
      ],
      "source": [
        "x = np.random.rand(5,5)\n",
        "xmax, xmin = x.max() , x.min()\n",
        "\n",
        "x = (x - xmin) / (xmax - xmin)\n",
        "print(x)"
      ]
    },
    {
      "cell_type": "markdown",
      "metadata": {
        "id": "NLO18r-1vOz7"
      },
      "source": [
        "#### 23. Create a custom dtype that describes a color as four unsigned bytes (RGBA) (★☆☆) \n",
        "(**hint**: np.dtype)"
      ]
    },
    {
      "cell_type": "code",
      "execution_count": null,
      "metadata": {
        "collapsed": true,
        "id": "z9mzt0LbvOz8"
      },
      "outputs": [],
      "source": [
        "color = np.dtype([('r', np.ubyte),\n",
        "                  ('g', np.ubyte),\n",
        "                  ('b', np.ubyte),\n",
        "                  ('a', np.ubyte)])"
      ]
    },
    {
      "cell_type": "markdown",
      "metadata": {
        "id": "SZJx16tivOz9"
      },
      "source": [
        "#### 25. Given a 1D array, negate all elements which are between 3 and 8, in place. (★☆☆) \n",
        "(**hint**: >, <=)"
      ]
    },
    {
      "cell_type": "code",
      "execution_count": null,
      "metadata": {
        "id": "H5QnuTD_vOz9"
      },
      "outputs": [],
      "source": [
        "a = np.arange(10)\n",
        "arr = (a >=2 ) & (a <= 8)\n",
        "a[arr] *= -1"
      ]
    },
    {
      "cell_type": "code",
      "source": [
        "a"
      ],
      "metadata": {
        "colab": {
          "base_uri": "https://localhost:8080/"
        },
        "id": "6v73Rk-pOglk",
        "outputId": "b33cdbfc-6481-42bc-d9a8-c8839ad7b208"
      },
      "execution_count": null,
      "outputs": [
        {
          "output_type": "execute_result",
          "data": {
            "text/plain": [
              "array([ 0,  1, -2, -3, -4, -5, -6, -7, -8,  9])"
            ]
          },
          "metadata": {},
          "execution_count": 45
        }
      ]
    },
    {
      "cell_type": "markdown",
      "metadata": {
        "id": "clRgyBcSvOz9"
      },
      "source": [
        "#### 26. What is the output of the following script? (★☆☆) \n",
        "(**hint**: np.sum)"
      ]
    },
    {
      "cell_type": "markdown",
      "metadata": {
        "id": "D21JXwJMvOz-"
      },
      "source": [
        "```python\n",
        "# Author: Jake VanderPlas\n",
        "\n",
        "print(sum(range(5),-1))\n",
        "from numpy import *\n",
        "print(sum(range(5),-1))\n",
        "```"
      ]
    },
    {
      "cell_type": "code",
      "execution_count": null,
      "metadata": {
        "id": "qrjPPBFkvOz-"
      },
      "outputs": [],
      "source": [
        "10\n",
        "True\n",
        "10"
      ]
    },
    {
      "cell_type": "markdown",
      "metadata": {
        "id": "R1sWY465vOz-"
      },
      "source": [
        "#### 27. Consider an integer vector Z, which of these expressions are legal? (★☆☆)"
      ]
    },
    {
      "cell_type": "markdown",
      "metadata": {
        "id": "zTmitoCpvOz-"
      },
      "source": [
        "```python\n",
        "Z**Z\n",
        "2 << Z >> 2\n",
        "Z <- Z\n",
        "1j*Z\n",
        "Z/1/1\n",
        "Z<Z>Z\n",
        "```"
      ]
    },
    {
      "cell_type": "code",
      "execution_count": null,
      "metadata": {
        "id": "Je8rQ-juvOz-"
      },
      "outputs": [],
      "source": [
        "notlegal\n",
        "legal\n",
        "notlegal\n",
        "legal\n",
        "legal\n",
        "notlegal"
      ]
    },
    {
      "cell_type": "markdown",
      "metadata": {
        "id": "IAfyurFvvOz-"
      },
      "source": [
        "#### 28. What are the result of the following expressions?"
      ]
    },
    {
      "cell_type": "markdown",
      "metadata": {
        "id": "gSQmSh7svOz_"
      },
      "source": [
        "```python\n",
        "np.array(0) / np.array(0)\n",
        "np.array(0) // np.array(0)\n",
        "np.array([np.nan]).astype(int).astype(float)\n",
        "```"
      ]
    },
    {
      "cell_type": "code",
      "execution_count": null,
      "metadata": {
        "id": "i3lI0piAvOz_"
      },
      "outputs": [],
      "source": [
        "nan\n",
        "0\n",
        "[-9.22337204e+18]"
      ]
    },
    {
      "cell_type": "code",
      "source": [
        "np.array([np.nan]).astype(int).astype(float)"
      ],
      "metadata": {
        "colab": {
          "base_uri": "https://localhost:8080/"
        },
        "id": "BlKkwxa799cL",
        "outputId": "27e88b5d-887e-4ab1-f774-6065ff5f9871"
      },
      "execution_count": null,
      "outputs": [
        {
          "output_type": "execute_result",
          "data": {
            "text/plain": [
              "array([-9.22337204e+18])"
            ]
          },
          "metadata": {},
          "execution_count": 17
        }
      ]
    },
    {
      "cell_type": "markdown",
      "metadata": {
        "id": "uA3DgVxfvOz_"
      },
      "source": [
        "#### 29. How to round away from zero a float array ? (★☆☆) \n",
        "(**hint**: np.uniform, np.copysign, np.ceil, np.abs)"
      ]
    },
    {
      "cell_type": "code",
      "execution_count": null,
      "metadata": {
        "id": "tkxSZDUivOz_"
      },
      "outputs": [],
      "source": []
    },
    {
      "cell_type": "markdown",
      "metadata": {
        "id": "aNDY9dvavOz_"
      },
      "source": [
        "#### 30. How to find common values between two arrays? (★☆☆) \n",
        "(**hint**: np.intersect1d)"
      ]
    },
    {
      "cell_type": "code",
      "execution_count": null,
      "metadata": {
        "id": "VsN4MYxGvOz_",
        "colab": {
          "base_uri": "https://localhost:8080/"
        },
        "outputId": "7d598db7-ee99-4205-9a04-221c35f37ed2"
      },
      "outputs": [
        {
          "output_type": "execute_result",
          "data": {
            "text/plain": [
              "array([1, 3, 4])"
            ]
          },
          "metadata": {},
          "execution_count": 30
        }
      ],
      "source": [
        "X = np.array([0,1,2,3,4])\n",
        "y = np.array([1,3,4])\n",
        "\n",
        "np.intersect1d(X,y)"
      ]
    },
    {
      "cell_type": "markdown",
      "metadata": {
        "id": "YXlr6gXUvO0A"
      },
      "source": [
        "#### 31. How to ignore all numpy warnings (not recommended)? (★☆☆) \n",
        "(**hint**: np.seterr, np.errstate)"
      ]
    },
    {
      "cell_type": "code",
      "execution_count": null,
      "metadata": {
        "id": "UxcoT4V5vO0A"
      },
      "outputs": [],
      "source": []
    },
    {
      "cell_type": "markdown",
      "metadata": {
        "id": "Tjc4hL4pvO0A"
      },
      "source": [
        "#### 32. Is the following expressions true? (★☆☆) \n",
        "(**hint**: imaginary number)"
      ]
    },
    {
      "cell_type": "markdown",
      "metadata": {
        "id": "-xd9PE6OvO0A"
      },
      "source": [
        "```python\n",
        "np.sqrt(-1) == np.emath.sqrt(-1)\n",
        "```"
      ]
    },
    {
      "cell_type": "code",
      "execution_count": null,
      "metadata": {
        "id": "5EB3KJHDvO0A",
        "colab": {
          "base_uri": "https://localhost:8080/"
        },
        "outputId": "c338d5f7-e806-42d9-d7f8-c4f6614d2d09"
      },
      "outputs": [
        {
          "output_type": "execute_result",
          "data": {
            "text/plain": [
              "False"
            ]
          },
          "metadata": {},
          "execution_count": 19
        }
      ],
      "source": [
        "False"
      ]
    },
    {
      "cell_type": "markdown",
      "metadata": {
        "id": "tI7PjbL3vO0B"
      },
      "source": [
        "#### 33. How to get the dates of yesterday, today and tomorrow? (★☆☆) \n",
        "(**hint**: np.datetime64, np.timedelta64)"
      ]
    },
    {
      "cell_type": "code",
      "source": [
        "print('yesterday',np.datetime64('today') - np.timedelta64(1,'D'))"
      ],
      "metadata": {
        "colab": {
          "base_uri": "https://localhost:8080/"
        },
        "id": "cGmy2jpgddml",
        "outputId": "147c58a4-acab-46c6-9805-6859decc8b74"
      },
      "execution_count": null,
      "outputs": [
        {
          "output_type": "stream",
          "name": "stdout",
          "text": [
            "yesterday 2022-11-01\n"
          ]
        }
      ]
    },
    {
      "cell_type": "code",
      "execution_count": null,
      "metadata": {
        "collapsed": true,
        "id": "8U7FHR6_vO0B",
        "colab": {
          "base_uri": "https://localhost:8080/"
        },
        "outputId": "6a075db0-c7b6-42c6-8bb7-3b7279ebe86f"
      },
      "outputs": [
        {
          "output_type": "stream",
          "name": "stdout",
          "text": [
            "today 2022-11-02\n"
          ]
        }
      ],
      "source": [
        "print('today',np.datetime64('today'))"
      ]
    },
    {
      "cell_type": "code",
      "source": [
        "print('tommrow',np.datetime64('today') + np.timedelta64(1,'D'))"
      ],
      "metadata": {
        "colab": {
          "base_uri": "https://localhost:8080/"
        },
        "id": "C8CckKKseBLU",
        "outputId": "645dbcbb-f76c-4d88-81a8-7c66e9295b94"
      },
      "execution_count": null,
      "outputs": [
        {
          "output_type": "stream",
          "name": "stdout",
          "text": [
            "tommrow 2022-11-03\n"
          ]
        }
      ]
    },
    {
      "cell_type": "markdown",
      "metadata": {
        "id": "vSRn2ORNvO0B"
      },
      "source": [
        "#### 34. How to get all the dates corresponding to the month of July 2016? (★★☆) \n",
        "(**hint**: np.arange(dtype=datetime64\\['D'\\]))"
      ]
    },
    {
      "cell_type": "code",
      "execution_count": null,
      "metadata": {
        "id": "z6K-43IQvO0B",
        "colab": {
          "base_uri": "https://localhost:8080/"
        },
        "outputId": "e515f886-6600-4fe4-9b01-f02e49c28caf"
      },
      "outputs": [
        {
          "output_type": "stream",
          "name": "stdout",
          "text": [
            "['2016-06-01' '2016-06-02' '2016-06-03' '2016-06-04' '2016-06-05'\n",
            " '2016-06-06' '2016-06-07' '2016-06-08' '2016-06-09' '2016-06-10'\n",
            " '2016-06-11' '2016-06-12' '2016-06-13' '2016-06-14' '2016-06-15'\n",
            " '2016-06-16' '2016-06-17' '2016-06-18' '2016-06-19' '2016-06-20'\n",
            " '2016-06-21' '2016-06-22' '2016-06-23' '2016-06-24' '2016-06-25'\n",
            " '2016-06-26' '2016-06-27' '2016-06-28' '2016-06-29' '2016-06-30']\n"
          ]
        }
      ],
      "source": [
        "print(np.arange('2016-06', '2016-07', dtype = 'datetime64[D]'))"
      ]
    },
    {
      "cell_type": "markdown",
      "metadata": {
        "id": "S2Hg4Ry6vO0B"
      },
      "source": [
        "#### 35. How to compute ((A+B)\\*(-A/2)) in place (without copy)? (★★☆) \n",
        "(**hint**: np.add(out=), np.negative(out=), np.multiply(out=), np.divide(out=))"
      ]
    },
    {
      "cell_type": "code",
      "execution_count": null,
      "metadata": {
        "id": "fD4bzAm0vO0B",
        "colab": {
          "base_uri": "https://localhost:8080/"
        },
        "outputId": "14518bc5-485a-4bef-935a-f0cc6bc56381"
      },
      "outputs": [
        {
          "output_type": "execute_result",
          "data": {
            "text/plain": [
              "array([-1.5, -1.5, -1.5])"
            ]
          },
          "metadata": {},
          "execution_count": 46
        }
      ],
      "source": [
        "A = np.ones(3)\n",
        "B = np.ones(3)*2\n",
        "\n",
        "np.add(A,B,out = B)\n",
        "np.divide(A,2,out = A)\n",
        "np.negative(A , out = A)\n",
        "np.multiply(A, B , out = A)"
      ]
    },
    {
      "cell_type": "markdown",
      "metadata": {
        "id": "a8kwNUoOvO0B"
      },
      "source": [
        "#### 36. Extract the integer part of a random array using 5 different methods (★★☆) \n",
        "(**hint**: %, np.floor, np.ceil, astype, np.trunc)"
      ]
    },
    {
      "cell_type": "code",
      "execution_count": null,
      "metadata": {
        "id": "ipIjkh2cvO0C",
        "colab": {
          "base_uri": "https://localhost:8080/"
        },
        "outputId": "3b22b33d-9fa7-4e0f-c8d5-5bd702588613"
      },
      "outputs": [
        {
          "output_type": "stream",
          "name": "stdout",
          "text": [
            "[14.73100063  3.42709449 13.10137162 12.67339331  8.13093386  4.96890264\n",
            "  5.25833877  7.88362354 12.83597608 10.88836407]\n",
            "[14.  3. 13. 12.  8.  4.  5.  7. 12. 10.]\n"
          ]
        }
      ],
      "source": [
        "n = np.random.uniform(0,15,10)\n",
        "print(n)\n",
        "\n",
        "print(np.floor(n))"
      ]
    },
    {
      "cell_type": "code",
      "source": [
        "print(np.ceil(n))"
      ],
      "metadata": {
        "colab": {
          "base_uri": "https://localhost:8080/"
        },
        "id": "6SNa9GtprUTZ",
        "outputId": "e404af73-029d-4aa5-9bb0-b5ef2e31a7e3"
      },
      "execution_count": null,
      "outputs": [
        {
          "output_type": "stream",
          "name": "stdout",
          "text": [
            "[15.  4. 14. 13.  9.  5.  6.  8. 13. 11.]\n"
          ]
        }
      ]
    },
    {
      "cell_type": "code",
      "source": [
        "n.astype(int)"
      ],
      "metadata": {
        "colab": {
          "base_uri": "https://localhost:8080/"
        },
        "id": "jJgOtxTQrW9o",
        "outputId": "e43ee8d6-ccda-4dd0-e644-8a4abe278635"
      },
      "execution_count": null,
      "outputs": [
        {
          "output_type": "execute_result",
          "data": {
            "text/plain": [
              "array([14,  3, 13, 12,  8,  4,  5,  7, 12, 10])"
            ]
          },
          "metadata": {},
          "execution_count": 59
        }
      ]
    },
    {
      "cell_type": "code",
      "source": [
        "np.trunc(n)"
      ],
      "metadata": {
        "colab": {
          "base_uri": "https://localhost:8080/"
        },
        "id": "dOrKHq-brkVL",
        "outputId": "9b6cb735-c1bf-4da1-f2bb-7071e5c40f63"
      },
      "execution_count": null,
      "outputs": [
        {
          "output_type": "execute_result",
          "data": {
            "text/plain": [
              "array([14.,  3., 13., 12.,  8.,  4.,  5.,  7., 12., 10.])"
            ]
          },
          "metadata": {},
          "execution_count": 60
        }
      ]
    },
    {
      "cell_type": "markdown",
      "metadata": {
        "id": "pqg63PJcvO0C"
      },
      "source": [
        "#### 37. Create a 5x5 matrix with row values ranging from 0 to 4 (★★☆) \n",
        "(**hint**: np.arange)"
      ]
    },
    {
      "cell_type": "code",
      "execution_count": null,
      "metadata": {
        "id": "RGPIoXjKvO0C",
        "colab": {
          "base_uri": "https://localhost:8080/"
        },
        "outputId": "2dc589e3-08da-4ac6-ae91-6396a05be2bb"
      },
      "outputs": [
        {
          "output_type": "stream",
          "name": "stdout",
          "text": [
            "[[0. 1. 2. 3. 4.]\n",
            " [0. 1. 2. 3. 4.]\n",
            " [0. 1. 2. 3. 4.]\n",
            " [0. 1. 2. 3. 4.]\n",
            " [0. 1. 2. 3. 4.]]\n"
          ]
        }
      ],
      "source": [
        "n= np.zeros((5,5))\n",
        "n += np.arange(5)\n",
        "print(n)"
      ]
    },
    {
      "cell_type": "markdown",
      "metadata": {
        "id": "iDRsbxxsvO0C"
      },
      "source": [
        "#### 38. Consider a generator function that generates 10 integers and use it to build an array (★☆☆) \n",
        "(**hint**: np.fromiter)"
      ]
    },
    {
      "cell_type": "code",
      "execution_count": null,
      "metadata": {
        "id": "-CVbQk83vO0D",
        "colab": {
          "base_uri": "https://localhost:8080/"
        },
        "outputId": "17cc32e3-39d9-4cb1-f813-6b10d121cfe0"
      },
      "outputs": [
        {
          "output_type": "stream",
          "name": "stdout",
          "text": [
            "[ 0.  1.  2.  3.  4.  5.  6.  7.  8.  9. 10.]\n"
          ]
        }
      ],
      "source": [
        "def gen():\n",
        "  for n in range(11):\n",
        "    yield n\n",
        "nums = np.fromiter(gen(), dtype = float)\n",
        "print(nums)"
      ]
    },
    {
      "cell_type": "markdown",
      "metadata": {
        "id": "lAakrMo6vO0D"
      },
      "source": [
        "#### 39. Create a vector of size 10 with values ranging from 0 to 1, both excluded (★★☆) \n",
        "(**hint**: np.linspace)"
      ]
    },
    {
      "cell_type": "code",
      "execution_count": null,
      "metadata": {
        "id": "ikp75y87vO0D",
        "colab": {
          "base_uri": "https://localhost:8080/"
        },
        "outputId": "319c6cad-0e38-4e7a-abe7-4c34ee023bb5"
      },
      "outputs": [
        {
          "output_type": "execute_result",
          "data": {
            "text/plain": [
              "array([0.        , 0.11111111, 0.22222222, 0.33333333, 0.44444444,\n",
              "       0.55555556, 0.66666667, 0.77777778, 0.88888889, 1.        ])"
            ]
          },
          "metadata": {},
          "execution_count": 72
        }
      ],
      "source": [
        "np.linspace(0, 1, 10)"
      ]
    },
    {
      "cell_type": "markdown",
      "metadata": {
        "id": "VsVnf_yqvO0D"
      },
      "source": [
        "#### 40. Create a random vector of size 10 and sort it (★★☆) \n",
        "(**hint**: sort)"
      ]
    },
    {
      "cell_type": "code",
      "execution_count": null,
      "metadata": {
        "id": "t-J497_fvO0D",
        "colab": {
          "base_uri": "https://localhost:8080/"
        },
        "outputId": "2f18486e-803c-4fea-e60c-ac5b10f116b0"
      },
      "outputs": [
        {
          "output_type": "stream",
          "name": "stdout",
          "text": [
            "[[0.70585866 0.74770629 0.02969538 0.28081266 0.59507386 0.83086612\n",
            "  0.91264167 0.07342701 0.5538842  0.26345761]]\n"
          ]
        }
      ],
      "source": [
        "n = np.random.rand(1,10)\n",
        "print(n)"
      ]
    },
    {
      "cell_type": "code",
      "source": [
        "np.sort(n)"
      ],
      "metadata": {
        "colab": {
          "base_uri": "https://localhost:8080/"
        },
        "id": "TttJ2QRM5ztb",
        "outputId": "8914c719-199f-4704-a72a-8ed6d3eee646"
      },
      "execution_count": null,
      "outputs": [
        {
          "output_type": "execute_result",
          "data": {
            "text/plain": [
              "array([[0.02969538, 0.07342701, 0.26345761, 0.28081266, 0.5538842 ,\n",
              "        0.59507386, 0.70585866, 0.74770629, 0.83086612, 0.91264167]])"
            ]
          },
          "metadata": {},
          "execution_count": 81
        }
      ]
    },
    {
      "cell_type": "markdown",
      "metadata": {
        "id": "lP0TBeqCvO0D"
      },
      "source": [
        "#### 41. How to sum a small array faster than np.sum? (★★☆) \n",
        "(**hint**: np.add.reduce)"
      ]
    },
    {
      "cell_type": "code",
      "execution_count": null,
      "metadata": {
        "id": "HRpWPYH-vO0E",
        "colab": {
          "base_uri": "https://localhost:8080/"
        },
        "outputId": "25c9642d-7700-47ab-a98a-21168f28e33c"
      },
      "outputs": [
        {
          "output_type": "execute_result",
          "data": {
            "text/plain": [
              "10"
            ]
          },
          "metadata": {},
          "execution_count": 8
        }
      ],
      "source": [
        "n = np.ones(10)\n",
        "np.add.reduce(n, dtype = int)"
      ]
    },
    {
      "cell_type": "markdown",
      "metadata": {
        "id": "8Bpx8wvfvO0E"
      },
      "source": [
        "#### 42. Consider two random array A and B, check if they are equal (★★☆) \n",
        "(**hint**: np.allclose, np.array\\_equal)"
      ]
    },
    {
      "cell_type": "code",
      "execution_count": null,
      "metadata": {
        "id": "BEf3ez24vO0E",
        "colab": {
          "base_uri": "https://localhost:8080/"
        },
        "outputId": "430c775a-4fdc-46e2-fb90-3a195b948fc0"
      },
      "outputs": [
        {
          "output_type": "execute_result",
          "data": {
            "text/plain": [
              "True"
            ]
          },
          "metadata": {},
          "execution_count": 10
        }
      ],
      "source": [
        "a = np.ones(10)\n",
        "b = np.ones(10)\n",
        "\n",
        "np.array_equal(a,b)"
      ]
    },
    {
      "cell_type": "code",
      "source": [
        "np.allclose(a,b)"
      ],
      "metadata": {
        "colab": {
          "base_uri": "https://localhost:8080/"
        },
        "id": "IKxdxRUjcuvI",
        "outputId": "8f80b0a2-95e4-43ac-d690-b879107321e3"
      },
      "execution_count": null,
      "outputs": [
        {
          "output_type": "execute_result",
          "data": {
            "text/plain": [
              "True"
            ]
          },
          "metadata": {},
          "execution_count": 11
        }
      ]
    },
    {
      "cell_type": "markdown",
      "metadata": {
        "id": "MqFhIUXSvO0E"
      },
      "source": [
        "#### 43. Make an array immutable (read-only) (★★☆) \n",
        "(**hint**: flags.writeable)"
      ]
    },
    {
      "cell_type": "code",
      "execution_count": null,
      "metadata": {
        "id": "m1BnPZtMvO0E",
        "colab": {
          "base_uri": "https://localhost:8080/"
        },
        "outputId": "da6f96cc-cc8f-4e39-9cbd-65cf147df8d9"
      },
      "outputs": [
        {
          "output_type": "execute_result",
          "data": {
            "text/plain": [
              "True"
            ]
          },
          "metadata": {},
          "execution_count": 7
        }
      ],
      "source": [
        "n = np.ones(10)\n",
        "n.flags.writeable"
      ]
    },
    {
      "cell_type": "code",
      "source": [
        "n.dtype"
      ],
      "metadata": {
        "colab": {
          "base_uri": "https://localhost:8080/"
        },
        "id": "oB-W_msqhfDl",
        "outputId": "e80e0cee-f3d3-4837-b640-cd4af49a7b38"
      },
      "execution_count": null,
      "outputs": [
        {
          "output_type": "execute_result",
          "data": {
            "text/plain": [
              "dtype('float64')"
            ]
          },
          "metadata": {},
          "execution_count": 8
        }
      ]
    },
    {
      "cell_type": "markdown",
      "metadata": {
        "id": "sXjWAEJ1vO0E"
      },
      "source": [
        "#### 44. Consider a random 10x2 matrix representing cartesian coordinates, convert them to polar coordinates (★★☆) \n",
        "(**hint**: np.sqrt, np.arctan2)"
      ]
    },
    {
      "cell_type": "code",
      "execution_count": null,
      "metadata": {
        "id": "WGxuaYsrvO0F",
        "colab": {
          "base_uri": "https://localhost:8080/"
        },
        "outputId": "e9982aba-258b-4031-b865-9fc627afe250"
      },
      "outputs": [
        {
          "output_type": "stream",
          "name": "stdout",
          "text": [
            "[0.96317502 0.0866361  0.86468708 1.02960213 0.79495259 0.15016197\n",
            " 1.06609246 0.51405545 1.13846542 0.99405275]\n",
            "[0.81502545 0.74254737 0.67463065 0.63153014 1.41643212 0.6514335\n",
            " 0.6782569  0.81966249 0.52196788 1.12477094]\n"
          ]
        }
      ],
      "source": [
        "n = np.random.random((10,2))\n",
        "x,y = n[:,0] , n[:,1]\n",
        "\n",
        "r = np.sqrt(x**2 + y**2)\n",
        "s = np.arctan2(y, x)\n",
        "\n",
        "print(r)\n",
        "print(s)"
      ]
    },
    {
      "cell_type": "markdown",
      "metadata": {
        "id": "NvIR6VhMvO0F"
      },
      "source": [
        "#### 45. Create random vector of size 10 and replace the maximum value by 0 (★★☆) \n",
        "(**hint**: argmax)"
      ]
    },
    {
      "cell_type": "code",
      "execution_count": null,
      "metadata": {
        "id": "nt7oX3OXvO0F",
        "colab": {
          "base_uri": "https://localhost:8080/"
        },
        "outputId": "58cdd1a7-fd5d-4e65-f442-2c10f7435d10"
      },
      "outputs": [
        {
          "output_type": "stream",
          "name": "stdout",
          "text": [
            "[0.45720084 0.30522629 0.80798205 0.87023692 0.3527855  0.\n",
            " 0.52335933 0.18210927 0.68922013 0.0443369 ]\n"
          ]
        }
      ],
      "source": [
        "n = np.random.random(10)\n",
        "n[n.argmax()] = 0\n",
        "\n",
        "print(n)"
      ]
    },
    {
      "cell_type": "markdown",
      "metadata": {
        "id": "GNOfd2ChvO0F"
      },
      "source": [
        "#### 46. Create a structured array with `x` and `y` coordinates covering the \\[0,1\\]x\\[0,1\\] area (★★☆) \n",
        "(**hint**: np.meshgrid)"
      ]
    },
    {
      "cell_type": "code",
      "execution_count": null,
      "metadata": {
        "id": "Rmp_IdKYvO0F",
        "colab": {
          "base_uri": "https://localhost:8080/"
        },
        "outputId": "bf590a97-8a35-4ea7-f2b4-9830b420a91d"
      },
      "outputs": [
        {
          "output_type": "stream",
          "name": "stdout",
          "text": [
            "[[(0.  , 0.  ) (0.25, 0.  ) (0.5 , 0.  ) (0.75, 0.  ) (1.  , 0.  )]\n",
            " [(0.  , 0.25) (0.25, 0.25) (0.5 , 0.25) (0.75, 0.25) (1.  , 0.25)]\n",
            " [(0.  , 0.5 ) (0.25, 0.5 ) (0.5 , 0.5 ) (0.75, 0.5 ) (1.  , 0.5 )]\n",
            " [(0.  , 0.75) (0.25, 0.75) (0.5 , 0.75) (0.75, 0.75) (1.  , 0.75)]\n",
            " [(0.  , 1.  ) (0.25, 1.  ) (0.5 , 1.  ) (0.75, 1.  ) (1.  , 1.  )]]\n"
          ]
        }
      ],
      "source": [
        "Z = np.zeros((5,5), [('x', float),('y', float)])\n",
        "Z['x'] , Z['y'] = np.meshgrid(np.linspace(0,1,5), np.linspace(0,1,5))\n",
        "print(Z)"
      ]
    },
    {
      "cell_type": "markdown",
      "metadata": {
        "id": "KYsl2jb2vO0F"
      },
      "source": [
        "####  47. Given two arrays, X and Y, construct the Cauchy matrix C (Cij =1/(xi - yj)) \n",
        "(**hint**: np.subtract.outer)"
      ]
    },
    {
      "cell_type": "code",
      "execution_count": null,
      "metadata": {
        "id": "Bc-LRUc_vO0G",
        "colab": {
          "base_uri": "https://localhost:8080/"
        },
        "outputId": "6fcefedc-1b20-4cc5-83e9-c62caf13d1fc"
      },
      "outputs": [
        {
          "output_type": "stream",
          "name": "stdout",
          "text": [
            "cauchy matrix [[2. 2. 2. 2. 2. 2. 2. 2. 2. 2.]\n",
            " [2. 2. 2. 2. 2. 2. 2. 2. 2. 2.]\n",
            " [2. 2. 2. 2. 2. 2. 2. 2. 2. 2.]\n",
            " [2. 2. 2. 2. 2. 2. 2. 2. 2. 2.]\n",
            " [2. 2. 2. 2. 2. 2. 2. 2. 2. 2.]\n",
            " [2. 2. 2. 2. 2. 2. 2. 2. 2. 2.]\n",
            " [2. 2. 2. 2. 2. 2. 2. 2. 2. 2.]\n",
            " [2. 2. 2. 2. 2. 2. 2. 2. 2. 2.]\n",
            " [2. 2. 2. 2. 2. 2. 2. 2. 2. 2.]\n",
            " [2. 2. 2. 2. 2. 2. 2. 2. 2. 2.]]\n"
          ]
        }
      ],
      "source": [
        "x = np.ones(10)\n",
        "y = x* 0.5\n",
        "\n",
        "x = x.reshape(-1, 1)\n",
        "\n",
        "z = x - y\n",
        "\n",
        "z = 1 / z\n",
        "print('cauchy matrix',z)"
      ]
    },
    {
      "cell_type": "markdown",
      "metadata": {
        "id": "qjE_MmSZvO0G"
      },
      "source": [
        "#### 48. Print the minimum and maximum representable value for each numpy scalar type (★★☆) \n",
        "(**hint**: np.iinfo, np.finfo, eps)"
      ]
    },
    {
      "cell_type": "code",
      "execution_count": null,
      "metadata": {
        "id": "8M_d_kkivO0G",
        "colab": {
          "base_uri": "https://localhost:8080/"
        },
        "outputId": "f9e29f7a-ab87-4044-f079-b005204004c6"
      },
      "outputs": [
        {
          "output_type": "stream",
          "name": "stdout",
          "text": [
            "-128\n",
            "127\n",
            "-2147483648\n",
            "2147483647\n",
            "-9223372036854775808\n",
            "9223372036854775807\n"
          ]
        }
      ],
      "source": [
        "for dtype in [np.int8, np.int32, np.int64]:\n",
        "\n",
        "  print(np.iinfo(dtype).min)\n",
        "  print(np.iinfo(dtype).max)"
      ]
    },
    {
      "cell_type": "code",
      "source": [
        "for dtype in [np.float32, np.float64]:\n",
        "  print(np.finfo(dtype).min)\n",
        "  print(np.finfo(dtype).max)\n",
        "  print(np.finfo(dtype).eps)"
      ],
      "metadata": {
        "colab": {
          "base_uri": "https://localhost:8080/"
        },
        "id": "3VHPU-NbSGOr",
        "outputId": "8d8e3ba9-20f4-4feb-fbc1-f3fd27c3c440"
      },
      "execution_count": null,
      "outputs": [
        {
          "output_type": "stream",
          "name": "stdout",
          "text": [
            "-3.4028235e+38\n",
            "3.4028235e+38\n",
            "1.1920929e-07\n",
            "-1.7976931348623157e+308\n",
            "1.7976931348623157e+308\n",
            "2.220446049250313e-16\n"
          ]
        }
      ]
    },
    {
      "cell_type": "markdown",
      "metadata": {
        "id": "eJ3qCuUovO0G"
      },
      "source": [
        "#### 49. How to print all the values of an array? (★★☆) \n",
        "(**hint**: np.set\\_printoptions)"
      ]
    },
    {
      "cell_type": "code",
      "execution_count": null,
      "metadata": {
        "id": "_MGM9ecmvO0H",
        "colab": {
          "base_uri": "https://localhost:8080/"
        },
        "outputId": "0e77335e-1c2b-45dd-c0b4-c59468d5ae4a"
      },
      "outputs": [
        {
          "output_type": "stream",
          "name": "stdout",
          "text": [
            "[[0. 0. 0. 0. 0. 0. 0. 0. 0. 0. 0. 0. 0. 0. 0. 0. 0. 0. 0. 0. 0. 0. 0. 0.\n",
            "  0. 0. 0. 0. 0. 0. 0. 0. 0. 0. 0. 0. 0. 0. 0. 0.]\n",
            " [0. 0. 0. 0. 0. 0. 0. 0. 0. 0. 0. 0. 0. 0. 0. 0. 0. 0. 0. 0. 0. 0. 0. 0.\n",
            "  0. 0. 0. 0. 0. 0. 0. 0. 0. 0. 0. 0. 0. 0. 0. 0.]\n",
            " [0. 0. 0. 0. 0. 0. 0. 0. 0. 0. 0. 0. 0. 0. 0. 0. 0. 0. 0. 0. 0. 0. 0. 0.\n",
            "  0. 0. 0. 0. 0. 0. 0. 0. 0. 0. 0. 0. 0. 0. 0. 0.]\n",
            " [0. 0. 0. 0. 0. 0. 0. 0. 0. 0. 0. 0. 0. 0. 0. 0. 0. 0. 0. 0. 0. 0. 0. 0.\n",
            "  0. 0. 0. 0. 0. 0. 0. 0. 0. 0. 0. 0. 0. 0. 0. 0.]\n",
            " [0. 0. 0. 0. 0. 0. 0. 0. 0. 0. 0. 0. 0. 0. 0. 0. 0. 0. 0. 0. 0. 0. 0. 0.\n",
            "  0. 0. 0. 0. 0. 0. 0. 0. 0. 0. 0. 0. 0. 0. 0. 0.]\n",
            " [0. 0. 0. 0. 0. 0. 0. 0. 0. 0. 0. 0. 0. 0. 0. 0. 0. 0. 0. 0. 0. 0. 0. 0.\n",
            "  0. 0. 0. 0. 0. 0. 0. 0. 0. 0. 0. 0. 0. 0. 0. 0.]\n",
            " [0. 0. 0. 0. 0. 0. 0. 0. 0. 0. 0. 0. 0. 0. 0. 0. 0. 0. 0. 0. 0. 0. 0. 0.\n",
            "  0. 0. 0. 0. 0. 0. 0. 0. 0. 0. 0. 0. 0. 0. 0. 0.]\n",
            " [0. 0. 0. 0. 0. 0. 0. 0. 0. 0. 0. 0. 0. 0. 0. 0. 0. 0. 0. 0. 0. 0. 0. 0.\n",
            "  0. 0. 0. 0. 0. 0. 0. 0. 0. 0. 0. 0. 0. 0. 0. 0.]\n",
            " [0. 0. 0. 0. 0. 0. 0. 0. 0. 0. 0. 0. 0. 0. 0. 0. 0. 0. 0. 0. 0. 0. 0. 0.\n",
            "  0. 0. 0. 0. 0. 0. 0. 0. 0. 0. 0. 0. 0. 0. 0. 0.]\n",
            " [0. 0. 0. 0. 0. 0. 0. 0. 0. 0. 0. 0. 0. 0. 0. 0. 0. 0. 0. 0. 0. 0. 0. 0.\n",
            "  0. 0. 0. 0. 0. 0. 0. 0. 0. 0. 0. 0. 0. 0. 0. 0.]\n",
            " [0. 0. 0. 0. 0. 0. 0. 0. 0. 0. 0. 0. 0. 0. 0. 0. 0. 0. 0. 0. 0. 0. 0. 0.\n",
            "  0. 0. 0. 0. 0. 0. 0. 0. 0. 0. 0. 0. 0. 0. 0. 0.]\n",
            " [0. 0. 0. 0. 0. 0. 0. 0. 0. 0. 0. 0. 0. 0. 0. 0. 0. 0. 0. 0. 0. 0. 0. 0.\n",
            "  0. 0. 0. 0. 0. 0. 0. 0. 0. 0. 0. 0. 0. 0. 0. 0.]\n",
            " [0. 0. 0. 0. 0. 0. 0. 0. 0. 0. 0. 0. 0. 0. 0. 0. 0. 0. 0. 0. 0. 0. 0. 0.\n",
            "  0. 0. 0. 0. 0. 0. 0. 0. 0. 0. 0. 0. 0. 0. 0. 0.]\n",
            " [0. 0. 0. 0. 0. 0. 0. 0. 0. 0. 0. 0. 0. 0. 0. 0. 0. 0. 0. 0. 0. 0. 0. 0.\n",
            "  0. 0. 0. 0. 0. 0. 0. 0. 0. 0. 0. 0. 0. 0. 0. 0.]\n",
            " [0. 0. 0. 0. 0. 0. 0. 0. 0. 0. 0. 0. 0. 0. 0. 0. 0. 0. 0. 0. 0. 0. 0. 0.\n",
            "  0. 0. 0. 0. 0. 0. 0. 0. 0. 0. 0. 0. 0. 0. 0. 0.]\n",
            " [0. 0. 0. 0. 0. 0. 0. 0. 0. 0. 0. 0. 0. 0. 0. 0. 0. 0. 0. 0. 0. 0. 0. 0.\n",
            "  0. 0. 0. 0. 0. 0. 0. 0. 0. 0. 0. 0. 0. 0. 0. 0.]\n",
            " [0. 0. 0. 0. 0. 0. 0. 0. 0. 0. 0. 0. 0. 0. 0. 0. 0. 0. 0. 0. 0. 0. 0. 0.\n",
            "  0. 0. 0. 0. 0. 0. 0. 0. 0. 0. 0. 0. 0. 0. 0. 0.]\n",
            " [0. 0. 0. 0. 0. 0. 0. 0. 0. 0. 0. 0. 0. 0. 0. 0. 0. 0. 0. 0. 0. 0. 0. 0.\n",
            "  0. 0. 0. 0. 0. 0. 0. 0. 0. 0. 0. 0. 0. 0. 0. 0.]\n",
            " [0. 0. 0. 0. 0. 0. 0. 0. 0. 0. 0. 0. 0. 0. 0. 0. 0. 0. 0. 0. 0. 0. 0. 0.\n",
            "  0. 0. 0. 0. 0. 0. 0. 0. 0. 0. 0. 0. 0. 0. 0. 0.]\n",
            " [0. 0. 0. 0. 0. 0. 0. 0. 0. 0. 0. 0. 0. 0. 0. 0. 0. 0. 0. 0. 0. 0. 0. 0.\n",
            "  0. 0. 0. 0. 0. 0. 0. 0. 0. 0. 0. 0. 0. 0. 0. 0.]\n",
            " [0. 0. 0. 0. 0. 0. 0. 0. 0. 0. 0. 0. 0. 0. 0. 0. 0. 0. 0. 0. 0. 0. 0. 0.\n",
            "  0. 0. 0. 0. 0. 0. 0. 0. 0. 0. 0. 0. 0. 0. 0. 0.]\n",
            " [0. 0. 0. 0. 0. 0. 0. 0. 0. 0. 0. 0. 0. 0. 0. 0. 0. 0. 0. 0. 0. 0. 0. 0.\n",
            "  0. 0. 0. 0. 0. 0. 0. 0. 0. 0. 0. 0. 0. 0. 0. 0.]\n",
            " [0. 0. 0. 0. 0. 0. 0. 0. 0. 0. 0. 0. 0. 0. 0. 0. 0. 0. 0. 0. 0. 0. 0. 0.\n",
            "  0. 0. 0. 0. 0. 0. 0. 0. 0. 0. 0. 0. 0. 0. 0. 0.]\n",
            " [0. 0. 0. 0. 0. 0. 0. 0. 0. 0. 0. 0. 0. 0. 0. 0. 0. 0. 0. 0. 0. 0. 0. 0.\n",
            "  0. 0. 0. 0. 0. 0. 0. 0. 0. 0. 0. 0. 0. 0. 0. 0.]\n",
            " [0. 0. 0. 0. 0. 0. 0. 0. 0. 0. 0. 0. 0. 0. 0. 0. 0. 0. 0. 0. 0. 0. 0. 0.\n",
            "  0. 0. 0. 0. 0. 0. 0. 0. 0. 0. 0. 0. 0. 0. 0. 0.]\n",
            " [0. 0. 0. 0. 0. 0. 0. 0. 0. 0. 0. 0. 0. 0. 0. 0. 0. 0. 0. 0. 0. 0. 0. 0.\n",
            "  0. 0. 0. 0. 0. 0. 0. 0. 0. 0. 0. 0. 0. 0. 0. 0.]\n",
            " [0. 0. 0. 0. 0. 0. 0. 0. 0. 0. 0. 0. 0. 0. 0. 0. 0. 0. 0. 0. 0. 0. 0. 0.\n",
            "  0. 0. 0. 0. 0. 0. 0. 0. 0. 0. 0. 0. 0. 0. 0. 0.]\n",
            " [0. 0. 0. 0. 0. 0. 0. 0. 0. 0. 0. 0. 0. 0. 0. 0. 0. 0. 0. 0. 0. 0. 0. 0.\n",
            "  0. 0. 0. 0. 0. 0. 0. 0. 0. 0. 0. 0. 0. 0. 0. 0.]\n",
            " [0. 0. 0. 0. 0. 0. 0. 0. 0. 0. 0. 0. 0. 0. 0. 0. 0. 0. 0. 0. 0. 0. 0. 0.\n",
            "  0. 0. 0. 0. 0. 0. 0. 0. 0. 0. 0. 0. 0. 0. 0. 0.]\n",
            " [0. 0. 0. 0. 0. 0. 0. 0. 0. 0. 0. 0. 0. 0. 0. 0. 0. 0. 0. 0. 0. 0. 0. 0.\n",
            "  0. 0. 0. 0. 0. 0. 0. 0. 0. 0. 0. 0. 0. 0. 0. 0.]\n",
            " [0. 0. 0. 0. 0. 0. 0. 0. 0. 0. 0. 0. 0. 0. 0. 0. 0. 0. 0. 0. 0. 0. 0. 0.\n",
            "  0. 0. 0. 0. 0. 0. 0. 0. 0. 0. 0. 0. 0. 0. 0. 0.]\n",
            " [0. 0. 0. 0. 0. 0. 0. 0. 0. 0. 0. 0. 0. 0. 0. 0. 0. 0. 0. 0. 0. 0. 0. 0.\n",
            "  0. 0. 0. 0. 0. 0. 0. 0. 0. 0. 0. 0. 0. 0. 0. 0.]\n",
            " [0. 0. 0. 0. 0. 0. 0. 0. 0. 0. 0. 0. 0. 0. 0. 0. 0. 0. 0. 0. 0. 0. 0. 0.\n",
            "  0. 0. 0. 0. 0. 0. 0. 0. 0. 0. 0. 0. 0. 0. 0. 0.]\n",
            " [0. 0. 0. 0. 0. 0. 0. 0. 0. 0. 0. 0. 0. 0. 0. 0. 0. 0. 0. 0. 0. 0. 0. 0.\n",
            "  0. 0. 0. 0. 0. 0. 0. 0. 0. 0. 0. 0. 0. 0. 0. 0.]\n",
            " [0. 0. 0. 0. 0. 0. 0. 0. 0. 0. 0. 0. 0. 0. 0. 0. 0. 0. 0. 0. 0. 0. 0. 0.\n",
            "  0. 0. 0. 0. 0. 0. 0. 0. 0. 0. 0. 0. 0. 0. 0. 0.]\n",
            " [0. 0. 0. 0. 0. 0. 0. 0. 0. 0. 0. 0. 0. 0. 0. 0. 0. 0. 0. 0. 0. 0. 0. 0.\n",
            "  0. 0. 0. 0. 0. 0. 0. 0. 0. 0. 0. 0. 0. 0. 0. 0.]\n",
            " [0. 0. 0. 0. 0. 0. 0. 0. 0. 0. 0. 0. 0. 0. 0. 0. 0. 0. 0. 0. 0. 0. 0. 0.\n",
            "  0. 0. 0. 0. 0. 0. 0. 0. 0. 0. 0. 0. 0. 0. 0. 0.]\n",
            " [0. 0. 0. 0. 0. 0. 0. 0. 0. 0. 0. 0. 0. 0. 0. 0. 0. 0. 0. 0. 0. 0. 0. 0.\n",
            "  0. 0. 0. 0. 0. 0. 0. 0. 0. 0. 0. 0. 0. 0. 0. 0.]\n",
            " [0. 0. 0. 0. 0. 0. 0. 0. 0. 0. 0. 0. 0. 0. 0. 0. 0. 0. 0. 0. 0. 0. 0. 0.\n",
            "  0. 0. 0. 0. 0. 0. 0. 0. 0. 0. 0. 0. 0. 0. 0. 0.]\n",
            " [0. 0. 0. 0. 0. 0. 0. 0. 0. 0. 0. 0. 0. 0. 0. 0. 0. 0. 0. 0. 0. 0. 0. 0.\n",
            "  0. 0. 0. 0. 0. 0. 0. 0. 0. 0. 0. 0. 0. 0. 0. 0.]]\n"
          ]
        }
      ],
      "source": [
        "np.set_printoptions(threshold = float('inf'))\n",
        "\n",
        "n = np.zeros((40,40))\n",
        "print(n)"
      ]
    },
    {
      "cell_type": "markdown",
      "metadata": {
        "id": "JWzopZ_SvO0H"
      },
      "source": [
        "#### 50. How to find the closest value (to a given scalar) in a vector? (★★☆) \n",
        "(**hint**: argmin)"
      ]
    },
    {
      "cell_type": "code",
      "execution_count": null,
      "metadata": {
        "id": "CkdSl71uvO0H",
        "colab": {
          "base_uri": "https://localhost:8080/"
        },
        "outputId": "4e81a0bf-6d67-4fdf-c20e-a5a114e3cb9e"
      },
      "outputs": [
        {
          "output_type": "stream",
          "name": "stdout",
          "text": [
            "5\n"
          ]
        }
      ],
      "source": [
        "z = np.arange(100)\n",
        "v = np.random.uniform(0,100)\n",
        "\n",
        "index = (np.abs(z - v)).argmin()\n",
        "print(index)"
      ]
    },
    {
      "cell_type": "markdown",
      "metadata": {
        "id": "ZUQzW1iWvO0H"
      },
      "source": [
        "#### 51. Create a structured array representing a position (x,y) and a color (r,g,b) (★★☆) \n",
        "(**hint**: dtype)"
      ]
    },
    {
      "cell_type": "code",
      "source": [
        "Z = np.zeros(10, [ ('position', [ ('x', float, 1),\n",
        "                                  ('y', float, 1)]),\n",
        "                   ('color',    [ ('r', float, 1),\n",
        "                                  ('g', float, 1),\n",
        "                                  ('b', float, 1)])])"
      ],
      "metadata": {
        "colab": {
          "base_uri": "https://localhost:8080/"
        },
        "id": "ejc_4_caacIC",
        "outputId": "8d715fec-dde9-4b55-fa5d-5d16673325e5"
      },
      "execution_count": null,
      "outputs": [
        {
          "output_type": "stream",
          "name": "stderr",
          "text": [
            "/usr/local/lib/python3.7/dist-packages/ipykernel_launcher.py:5: FutureWarning: Passing (type, 1) or '1type' as a synonym of type is deprecated; in a future version of numpy, it will be understood as (type, (1,)) / '(1,)type'.\n",
            "  \"\"\"\n"
          ]
        }
      ]
    },
    {
      "cell_type": "code",
      "source": [
        "print(Z)"
      ],
      "metadata": {
        "colab": {
          "base_uri": "https://localhost:8080/"
        },
        "id": "_3yPbNsdae3O",
        "outputId": "4621bf3e-ff01-41e0-a9ab-a852312757b8"
      },
      "execution_count": null,
      "outputs": [
        {
          "output_type": "stream",
          "name": "stdout",
          "text": [
            "[((0., 0.), (0., 0., 0.)) ((0., 0.), (0., 0., 0.))\n",
            " ((0., 0.), (0., 0., 0.)) ((0., 0.), (0., 0., 0.))\n",
            " ((0., 0.), (0., 0., 0.)) ((0., 0.), (0., 0., 0.))\n",
            " ((0., 0.), (0., 0., 0.)) ((0., 0.), (0., 0., 0.))\n",
            " ((0., 0.), (0., 0., 0.)) ((0., 0.), (0., 0., 0.))]\n"
          ]
        }
      ]
    },
    {
      "cell_type": "markdown",
      "metadata": {
        "id": "WMlDbrUUvO0H"
      },
      "source": [
        "#### 52. Consider a random vector with shape (100,2) representing coordinates, find point by point distances (★★☆) \n",
        "(**hint**: np.atleast\\_2d, T, np.sqrt)"
      ]
    },
    {
      "cell_type": "code",
      "execution_count": null,
      "metadata": {
        "id": "mydjaPHXvO0I",
        "colab": {
          "base_uri": "https://localhost:8080/"
        },
        "outputId": "9753792e-acaa-4e23-c864-8bd008fc989e"
      },
      "outputs": [
        {
          "output_type": "stream",
          "name": "stdout",
          "text": [
            "[[0.         0.5003364  0.48434696 0.51049714 0.28913818 0.4477541\n",
            "  0.28901209 0.59714942 0.79314652 0.72372308 0.64211895 0.32233052\n",
            "  0.51565615 0.94139901 0.71657536 0.64179242 0.26766388 0.28538023\n",
            "  0.93309709 0.88746432 0.61078305 0.7712784  0.24829998 0.36058117\n",
            "  0.43834531 0.08928701 0.62293038 0.80672548 0.31988578 0.74279883\n",
            "  0.36105684 0.43578529 0.88097889 0.57155249 0.43246042 0.54714907\n",
            "  0.62162636 0.59863291 0.58221529 0.83304649 0.50375033 0.71985484\n",
            "  0.77013945 0.56200747 0.41980154 0.70057821 0.69672528 0.26992719\n",
            "  0.95158998 0.33966859 0.74237669 0.93335969 0.61711295 0.3885264\n",
            "  0.45038974 0.64438209 0.1911929  0.1676286  0.66624893 0.27122336\n",
            "  0.31948286 0.46714256 0.78285858 0.54564365 0.93867485 1.03067207\n",
            "  0.19124286 0.64526788 0.17521308 0.80659282 0.3875752  1.06889925\n",
            "  0.471618   0.78642906 0.15225759 0.44006504 0.78138962 0.17948468\n",
            "  0.63077831 0.80571961 0.92876122 0.65097096 0.7104463  0.72482372\n",
            "  0.80478909 0.14736453 0.44194624 0.01859755 0.10297291 0.87759694\n",
            "  0.81295498 0.73755695 0.85528837 0.31873235 0.37699895 0.83875095\n",
            "  0.27574984 0.62079984 0.77846851 0.62017811]\n",
            " [0.5003364  0.         0.73977156 0.09922539 0.3249629  0.4068329\n",
            "  0.2232689  0.80168484 0.31154565 0.76444236 0.28782151 0.20250135\n",
            "  0.76874726 0.88898298 0.65469384 0.68104697 0.38965268 0.63735059\n",
            "  0.52096295 0.43117902 0.14288257 0.38438188 0.35830862 0.26622566\n",
            "  0.172397   0.41844499 0.16960553 0.46598472 0.75874817 0.38635514\n",
            "  0.18950296 0.26572418 0.87442013 0.42705309 0.38017261 0.11776179\n",
            "  0.92719886 0.39862276 0.40429006 0.3464985  0.25215807 0.27809992\n",
            "  0.78460546 0.36955127 0.60203433 0.36738454 0.74953453 0.30163458\n",
            "  0.71769645 0.48872696 0.84005397 0.72998015 0.68662297 0.12080915\n",
            "  0.12603179 0.56323267 0.31156122 0.36631575 0.89059915 0.66577508\n",
            "  0.26050239 0.86215025 0.31613343 0.07220134 0.45656299 0.95193422\n",
            "  0.48493335 0.69081052 0.38828561 0.61165028 0.53473525 0.97170926\n",
            "  0.37877441 0.33969976 0.63371298 0.37396759 0.38536301 0.35426932\n",
            "  0.88187486 0.89034417 0.48025278 0.18388514 0.28039349 0.51099322\n",
            "  0.39006133 0.38885332 0.13859964 0.49259535 0.41907705 0.82226625\n",
            "  0.81201169 0.69167861 0.37205476 0.39223361 0.73384755 0.40007504\n",
            "  0.22551202 1.00576802 0.5060229  0.9526949 ]\n",
            " [0.48434696 0.73977156 0.         0.6799013  0.71917267 0.37274464\n",
            "  0.63706132 0.11875747 0.91259678 0.33321304 0.67323254 0.67185276\n",
            "  0.0323614  0.5682389  0.42575397 0.29122852 0.72525928 0.20516669\n",
            "  0.91608484 0.94224599 0.76604781 0.77396578 0.69268707 0.76238921\n",
            "  0.57933647 0.53306532 0.75735991 0.74763357 0.29787008 0.72554293\n",
            "  0.55156166 0.49839837 0.48497297 0.46149559 0.39010725 0.7019283\n",
            "  0.18910709 0.51879051 0.49487713 0.95475442 0.55493206 0.80255819\n",
            "  0.38641037 0.5055069  0.14231263 0.68028492 0.30583842 0.68470001\n",
            "  0.73734806 0.81760917 0.30070872 0.69489763 0.25029251 0.62849688\n",
            "  0.62226062 0.41503963 0.56368317 0.60236076 0.1822561  0.24349902\n",
            "  0.71554265 0.23566971 0.879278   0.7372847  1.0311683  0.66142963\n",
            "  0.31738936 0.28630408 0.62782538 0.6030974  0.20827756 0.7077149\n",
            "  0.41649009 0.85360021 0.40323993 0.40049202 0.79022071 0.60829518\n",
            "  0.15258737 0.36039053 0.96261093 0.78930354 0.78332159 0.57734255\n",
            "  0.8267966  0.43614725 0.77166765 0.46885163 0.55793473 0.52164578\n",
            "  0.42924916 0.42138391 0.96518036 0.34764711 0.15690615 0.88041441\n",
            "  0.57478861 0.31360737 0.66236721 0.22378135]\n",
            " [0.51049714 0.09922539 0.6799013  0.         0.38848125 0.32715193\n",
            "  0.26588834 0.73123775 0.28315174 0.67518631 0.19416578 0.25744493\n",
            "  0.70714509 0.79153471 0.55937453 0.59396523 0.45053089 0.60155979\n",
            "  0.45181937 0.38183061 0.10181208 0.30312793 0.41436641 0.34303785\n",
            "  0.10101691 0.43789125 0.11273892 0.37656917 0.73527147 0.29749184\n",
            "  0.15644693 0.18622925 0.77956389 0.33198238 0.30226452 0.03713355\n",
            "  0.86890272 0.30054742 0.30742875 0.32391554 0.15774283 0.21632233\n",
            "  0.69259075 0.27295329 0.53882171 0.27365502 0.66184128 0.35835529\n",
            "  0.62058443 0.55816962 0.75484146 0.63153157 0.60273353 0.12863497\n",
            "  0.06449191 0.46860802 0.33454886 0.40163896 0.8202252  0.63662305\n",
            "  0.32679342 0.82389637 0.27308958 0.05821948 0.42822296 0.85329986\n",
            "  0.45700026 0.60408141 0.42918278 0.51251236 0.4718436  0.87266836\n",
            "  0.29396736 0.28274687 0.62897153 0.29446414 0.3070081  0.39105937\n",
            "  0.81582409 0.80275018 0.4268922  0.14060544 0.21200406 0.41180023\n",
            "  0.31868228 0.38028361 0.22880674 0.4995848  0.44416629 0.72518456\n",
            "  0.7183433  0.59677471 0.34518511 0.33819271 0.69278245 0.33996566\n",
            "  0.24059685 0.96128413 0.40910023 0.89865009]\n",
            " [0.28913818 0.3249629  0.71917267 0.38848125 0.         0.52591047\n",
            "  0.1350582  0.81743663 0.63505343 0.87686807 0.57426051 0.13163131\n",
            "  0.75152602 1.05964292 0.81804045 0.78854067 0.06503901 0.54483072\n",
            "  0.83920537 0.75598488 0.46595479 0.69114781 0.04586923 0.08146388\n",
            "  0.37441223 0.20512384 0.48970691 0.75804412 0.60756587 0.68100797\n",
            "  0.30828981 0.43249457 1.01934656 0.61418421 0.50016308 0.42251091\n",
            "  0.8819302  0.6142017  0.6078374  0.66774844 0.47269003 0.59880155\n",
            "  0.91328781 0.57647433 0.61476512 0.65034496 0.85399548 0.03988859\n",
            "  0.97308255 0.17089101 0.92331192 0.97143271 0.77672561 0.26925455\n",
            "  0.35456362 0.72976475 0.15842332 0.12461633 0.89811596 0.54599279\n",
            "  0.06461149 0.74923261 0.64108186 0.39316101 0.7782182  1.13883622\n",
            "  0.40244708 0.79538203 0.11506957 0.84318827 0.55950683 1.16882031\n",
            "  0.52519938 0.66268451 0.44100169 0.50157421 0.69545758 0.1151662\n",
            "  0.87166139 0.98372049 0.8046681  0.507836   0.59787345 0.74545254\n",
            "  0.70633445 0.28319218 0.20701106 0.29366937 0.18651288 0.99167986\n",
            "  0.95087634 0.84867896 0.69430145 0.42845969 0.6448204  0.72241113\n",
            "  0.19840641 0.90329877 0.76944756 0.88906404]\n",
            " [0.4477541  0.4068329  0.37274464 0.32715193 0.52591047 0.\n",
            "  0.39975792 0.40727531 0.53996595 0.36588365 0.30217344 0.4230921\n",
            "  0.39581923 0.53373711 0.2925006  0.27901171 0.56382792 0.36620253\n",
            "  0.56546573 0.57423227 0.40126377 0.41214524 0.52251812 0.53118473\n",
            "  0.23451319 0.42835499 0.3890231  0.40702314 0.5210298  0.36739642\n",
            "  0.24466762 0.14178706 0.49653013 0.12892744 0.02785894 0.34190761\n",
            "  0.55967468 0.1718522  0.1498013  0.58204706 0.18474053 0.42992171\n",
            "  0.39466768 0.14526508 0.2317446  0.32072171 0.34772907 0.48602458\n",
            "  0.50480273 0.67908664 0.434407   0.48563632 0.28051663 0.32136878\n",
            "  0.28088876 0.20684748 0.38127695 0.45327466 0.49579425 0.41697429\n",
            "  0.49088958 0.56062938 0.50663555 0.385216   0.65982669 0.614072\n",
            "  0.28361432 0.28799875 0.48777235 0.3590571  0.17240872 0.64604025\n",
            "  0.04457194 0.48246103 0.48959408 0.03291252 0.42743527 0.45093522\n",
            "  0.49585377 0.48720455 0.59896259 0.42032424 0.41089891 0.28268548\n",
            "  0.4621474  0.30825815 0.48335627 0.42973104 0.44982686 0.46581225\n",
            "  0.42906886 0.32278696 0.59251643 0.12924781 0.43109112 0.513309\n",
            "  0.33024228 0.67730687 0.34906891 0.59649634]\n",
            " [0.28901209 0.2232689  0.63706132 0.26588834 0.1350582  0.39975792\n",
            "  0.         0.72484252 0.53231392 0.75882662 0.44396866 0.03680479\n",
            "  0.66891734 0.93208284 0.68987521 0.67039023 0.19003545 0.48706651\n",
            "  0.71724767 0.64427324 0.35414296 0.56458926 0.15095945 0.13333019\n",
            "  0.24020826 0.20187022 0.37408018 0.62692544 0.58085437 0.55107198\n",
            "  0.17340103 0.29826649 0.89600614 0.48108246 0.37303358 0.30197515\n",
            "  0.81221026 0.47941493 0.47354333 0.56877477 0.33778718 0.48138481\n",
            "  0.79221484 0.44182597 0.51828379 0.51850155 0.73744821 0.09812933\n",
            "  0.83803708 0.30427663 0.81276491 0.83653284 0.66238019 0.13968318\n",
            "  0.22403349 0.60023222 0.09898403 0.14308092 0.809553   0.50135325\n",
            "  0.09113469 0.7062639  0.53164013 0.2823204  0.67826251 1.00922092\n",
            "  0.33289517 0.67798318 0.16596435 0.70844958 0.45727092 1.03795499\n",
            "  0.39495482 0.54715626 0.43399733 0.37329875 0.57016696 0.13100133\n",
            "  0.78877768 0.87131676 0.69098107 0.39640542 0.47787179 0.61047247\n",
            "  0.58411572 0.2142423  0.15547593 0.2848622  0.19859388 0.86392029\n",
            "  0.82814484 0.72179498 0.59366049 0.31621239 0.58856769 0.60535668\n",
            "  0.07017405 0.8579119  0.63490705 0.82677976]\n",
            " [0.59714942 0.80168484 0.11875747 0.73123775 0.81743663 0.40727531\n",
            "  0.72484252 0.         0.93937307 0.24752124 0.69311804 0.75800755\n",
            "  0.09427427 0.47311679 0.37259833 0.23446385 0.82875015 0.3228835\n",
            "  0.90913808 0.9522     0.80853615 0.77946222 0.79423004 0.85424565\n",
            "  0.63355379 0.63973996 0.79570301 0.73856354 0.41162242 0.72907574\n",
            "  0.61882557 0.5452155  0.38542903 0.4671893  0.43003468 0.74850122\n",
            "  0.1877032  0.52511763 0.50232123 0.9803067  0.59150996 0.82613601\n",
            "  0.29816025 0.52036824 0.2068782  0.68640586 0.22385107 0.78128799\n",
            "  0.68463649 0.92558339 0.19211842 0.637093   0.19535701 0.6979754\n",
            "  0.67880768 0.38760345 0.6596953  0.70497425 0.08903807 0.36225181\n",
            "  0.80784947 0.32344054 0.90212188 0.78944073 1.04691097 0.56446922\n",
            "  0.42114331 0.22606815 0.73239229 0.56240924 0.27124916 0.61189879\n",
            "  0.44696631 0.87067338 0.52182256 0.43883926 0.79629766 0.70982405\n",
            "  0.09603626 0.24763881 0.96655875 0.82661957 0.80567293 0.55656792\n",
            "  0.83412378 0.53503095 0.84967615 0.58095389 0.66492839 0.43467875\n",
            "  0.3375386  0.3584471  0.9875217  0.41774703 0.27183249 0.88990386\n",
            "  0.65898085 0.35475248 0.64344694 0.23992201]\n",
            " [0.79314652 0.31154565 0.91259678 0.28315174 0.63505343 0.53996595\n",
            "  0.53231392 0.93937307 0.         0.81846679 0.24796956 0.51387363\n",
            "  0.93570223 0.86050308 0.6705632  0.75363842 0.70002633 0.86791668\n",
            "  0.26231445 0.13595667 0.1823961  0.21428368 0.66970053 0.57009032\n",
            "  0.36964422 0.71812664 0.17266266 0.31090884 1.00928848 0.25671465\n",
            "  0.43802405 0.42386235 0.8783142  0.47816228 0.52298468 0.24725277\n",
            "  1.09951259 0.42311151 0.44330611 0.04280814 0.35931241 0.11441819\n",
            "  0.81837168 0.42044532 0.77093606 0.28055696 0.81396401 0.61310226\n",
            "  0.58769799 0.79395457 0.91323558 0.62206641 0.77535815 0.40624\n",
            "  0.34569324 0.59600123 0.61269984 0.67425429 1.02550661 0.90780896\n",
            "  0.57044284 1.08430371 0.04685706 0.25078409 0.14630976 0.89629293\n",
            "  0.73186878 0.7646301  0.69823284 0.54158369 0.7080591  0.90081761\n",
            "  0.49674048 0.09803579 0.91124801 0.51236117 0.20112462 0.66268356\n",
            "  1.03172974 0.94770277 0.18725715 0.14263644 0.13577741 0.46256095\n",
            "  0.17385725 0.66288335 0.4350771  0.78255795 0.72235006 0.80347069\n",
            "  0.83067151 0.7081378  0.0621549  0.5953582  0.95218234 0.13948548\n",
            "  0.5201411  1.2123502  0.40572095 1.13623723]\n",
            " [0.72372308 0.76444236 0.33321304 0.67518631 0.87686807 0.36588365\n",
            "  0.75882662 0.24752124 0.81846679 0.         0.57426725 0.78512949\n",
            "  0.32446986 0.23625718 0.15921812 0.08847126 0.90537029 0.49856169\n",
            "  0.72924445 0.79929142 0.72724747 0.62688377 0.86575966 0.89189809\n",
            "  0.59354244 0.73866822 0.70648572 0.56290016 0.62458374 0.57617733\n",
            "  0.61052567 0.50061802 0.15993168 0.35072162 0.39374153 0.68049737\n",
            "  0.42898438 0.39924203 0.3825635  0.85524233 0.51818673 0.70488365\n",
            "  0.05328272 0.41256742 0.31010448 0.54153075 0.02851158 0.83739581\n",
            "  0.4507622  1.01551377 0.10120682 0.39947995 0.10663551 0.68697776\n",
            "  0.63928699 0.22250573 0.72234278 0.78531471 0.29118946 0.54982355\n",
            "  0.84938881 0.5640717  0.77532479 0.73067847 0.90100852 0.32986314\n",
            "  0.53249014 0.08158572 0.81787401 0.34798787 0.33665563 0.37532334\n",
            "  0.38662767 0.73443786 0.69302886 0.39701576 0.64378336 0.78621353\n",
            "  0.3291527  0.13001373 0.80265781 0.73318857 0.68327511 0.3749608\n",
            "  0.68180583 0.61783839 0.84913314 0.70543791 0.76335599 0.18903567\n",
            "  0.09703112 0.13004729 0.85600732 0.4487053  0.48549984 0.73877544\n",
            "  0.68865296 0.60093877 0.45744345 0.48322892]\n",
            " [0.64211895 0.28782151 0.67323254 0.19416578 0.57426051 0.30217344\n",
            "  0.44396866 0.69311804 0.24796956 0.57426725 0.         0.44278127\n",
            "  0.69452607 0.64262309 0.43244462 0.50655465 0.63350511 0.6538107\n",
            "  0.29130599 0.27330306 0.17843419 0.12917755 0.59492799 0.53530387\n",
            "  0.21061114 0.58473884 0.14968112 0.18400741 0.80370005 0.10712167\n",
            "  0.28925499 0.2149119  0.647764   0.23021966 0.28980383 0.17012049\n",
            "  0.85773702 0.17593386 0.195467   0.2878149  0.14279966 0.13367273\n",
            "  0.57824366 0.17294462 0.53353397 0.07967039 0.56820294 0.54089873\n",
            "  0.43148737 0.74511722 0.66713332 0.44801304 0.52748876 0.30523196\n",
            "  0.22006893 0.3521561  0.4922142  0.56632167 0.77853107 0.69948601\n",
            "  0.51524557 0.85995698 0.20904427 0.2212267  0.3579678  0.69254359\n",
            "  0.53577431 0.51751909 0.59754627 0.33851828 0.47420384 0.70584956\n",
            "  0.25770148 0.18042692 0.7336001  0.27859318 0.14004237 0.55755503\n",
            "  0.78641518 0.70412094 0.30265559 0.16819135 0.11275034 0.24296598\n",
            "  0.16809182 0.49733532 0.42259332 0.62775429 0.59672647 0.58037705\n",
            "  0.59471157 0.4706631  0.29442972 0.382425   0.72884335 0.21386554\n",
            "  0.40112704 0.97947548 0.22034338 0.89685833]\n",
            " [0.32233052 0.20250135 0.67185276 0.25744493 0.13163131 0.4230921\n",
            "  0.03680479 0.75800755 0.51387363 0.78512949 0.44278127 0.\n",
            "  0.70360012 0.95299163 0.71073129 0.69683612 0.19310094 0.52373393\n",
            "  0.70894008 0.63005356 0.33923601 0.55968189 0.15794178 0.10852869\n",
            "  0.24624526 0.23411109 0.36134227 0.6266621  0.61730063 0.54944018\n",
            "  0.18750511 0.31325954 0.91958201 0.49732397 0.39587018 0.29211936\n",
            "  0.84798487 0.49161905 0.48741964 0.54896867 0.34604357 0.46995904\n",
            "  0.81710608 0.45472187 0.55122156 0.5192529  0.76439258 0.10133612\n",
            "  0.846668   0.30236511 0.84164823 0.84752632 0.69030605 0.13829025\n",
            "  0.22345259 0.62018933 0.13424042 0.16908467 0.84324097 0.53815243\n",
            "  0.07445612 0.74306839 0.51612188 0.26651426 0.65906414 1.02842059\n",
            "  0.36935484 0.70471897 0.18723092 0.72036739 0.48926291 1.05595587\n",
            "  0.41508063 0.53476735 0.46892668 0.39527611 0.56421111 0.15640774\n",
            "  0.82326828 0.89951813 0.67781537 0.38147016 0.46804008 0.62122622\n",
            "  0.57588937 0.25100634 0.1200531  0.3190594  0.22856536 0.88477446\n",
            "  0.85214571 0.74351117 0.57454756 0.34641289 0.62520866 0.59391121\n",
            "  0.09948644 0.89468949 0.64085465 0.86302837]\n",
            " [0.51565615 0.76874726 0.0323614  0.70714509 0.75152602 0.39581923\n",
            "  0.66891734 0.09427427 0.93570223 0.32446986 0.69452607 0.70360012\n",
            "  0.         0.55716869 0.42778956 0.29076232 0.75755138 0.23470449\n",
            "  0.93189203 0.96191277 0.79190003 0.7923769  0.7250343  0.79454165\n",
            "  0.60687313 0.56521941 0.78244932 0.76262048 0.31747874 0.74340799\n",
            "  0.58104903 0.52444391 0.47190906 0.47888162 0.4143768  0.72839879\n",
            "  0.16386408 0.53661464 0.51284068 0.97766862 0.57924817 0.82486903\n",
            "  0.37719802 0.52517076 0.1683601  0.69861973 0.29802069 0.71702062\n",
            "  0.74079465 0.84957468 0.28300455 0.69673839 0.24954042 0.65839825\n",
            "  0.65025694 0.42399689 0.59596863 0.63469354 0.15060767 0.27033471\n",
            "  0.74770744 0.23968254 0.90155638 0.7647476  1.05217208 0.64979196\n",
            "  0.34974116 0.28476563 0.66008488 0.60954717 0.2353503  0.69661198\n",
            "  0.43901047 0.87465516 0.43105519 0.42451022 0.80879329 0.64064752\n",
            "  0.12030583 0.34071627 0.9809842  0.81425229 0.80535084 0.58893051\n",
            "  0.84571338 0.46848438 0.80270962 0.50032695 0.5900561  0.51350391\n",
            "  0.41902894 0.42052864 0.9874656  0.37701172 0.17756312 0.8998925\n",
            "  0.60630848 0.30132446 0.67471832 0.20328458]\n",
            " [0.94139901 0.88898298 0.5682389  0.79153471 1.05964292 0.53373711\n",
            "  0.93208284 0.47311679 0.86050308 0.23625718 0.64262309 0.95299163\n",
            "  0.55716869 0.         0.24228026 0.30349769 1.09642645 0.73262209\n",
            "  0.70111703 0.80393577 0.8169925  0.64840498 1.05538166 1.06152032\n",
            "  0.73018669 0.94529571 0.79052403 0.56012539 0.86084048 0.60378957\n",
            "  0.76758699 0.64469606 0.09106624 0.4643157  0.5596291  0.78625761\n",
            "  0.64085541 0.49114253 0.48474237 0.89000016 0.63759732 0.75593258\n",
            "  0.18315518 0.51954461 0.54005978 0.58444043 0.26452803 1.01975848\n",
            "  0.34066231 1.21063918 0.28649159 0.28530826 0.3358719  0.8362032\n",
            "  0.77190327 0.33322921 0.91288026 0.9820238  0.49485267 0.78474661\n",
            "  1.02299881 0.79542865 0.81395449 0.84015767 0.90775725 0.09362925\n",
            "  0.75141684 0.30239283 1.01595753 0.32008711 0.55574342 0.13950209\n",
            "  0.53791693 0.7654137  0.92389702 0.55883589 0.66342275 0.98098248\n",
            "  0.54099589 0.25135276 0.79215017 0.8108133  0.73514463 0.40160728\n",
            "  0.69760308 0.82249242 0.99579665 0.92284773 0.96899081 0.06821899\n",
            "  0.13929681 0.2111058  0.88321358 0.64296501 0.72163304 0.75071289\n",
            "  0.86324631 0.8161282  0.45645121 0.69566384]\n",
            " [0.71657536 0.65469384 0.42575397 0.55937453 0.81804045 0.2925006\n",
            "  0.68987521 0.37259833 0.6705632  0.15921812 0.43244462 0.71073129\n",
            "  0.42778956 0.24228026 0.         0.13862445 0.85621539 0.54378229\n",
            "  0.57007034 0.64309757 0.59698558 0.47221496 0.8149625  0.81925936\n",
            "  0.49128495 0.71199434 0.57325978 0.40438882 0.68878467 0.42212621\n",
            "  0.52564612 0.40371644 0.22030494 0.22765375 0.31787922 0.55831744\n",
            "  0.56028452 0.26420992 0.25293286 0.70560037 0.40257968 0.5586674\n",
            "  0.14819696 0.2867691  0.34807693 0.39063213 0.16631378 0.77817555\n",
            "  0.31339336 0.97116771 0.26037965 0.26918458 0.17929408 0.59542883\n",
            "  0.53433189 0.09213667 0.67322537 0.74390821 0.43458683 0.59861698\n",
            "  0.7807524  0.66092022 0.62610244 0.61115302 0.74566071 0.32177738\n",
            "  0.5311724  0.14655077 0.77816292 0.19279331 0.34331479 0.3554276\n",
            "  0.29568095 0.58287953 0.71966606 0.31674397 0.48893263 0.74222292\n",
            "  0.46464483 0.28171869 0.64465498 0.59734782 0.53707829 0.21722428\n",
            "  0.52660876 0.58931909 0.75606141 0.69799319 0.73493388 0.17407682\n",
            "  0.16249973 0.03831405 0.70448687 0.40738385 0.55948395 0.58335598\n",
            "  0.62118749 0.72405586 0.29839914 0.61223409]\n",
            " [0.64179242 0.68104697 0.29122852 0.59396523 0.78854067 0.27901171\n",
            "  0.67039023 0.23446385 0.75363842 0.08847126 0.50655465 0.69683612\n",
            "  0.29076232 0.30349769 0.13862445 0.         0.81760043 0.43184613\n",
            "  0.68801595 0.74586087 0.65126585 0.57200203 0.77783263 0.80349219\n",
            "  0.50930156 0.65313612 0.63213139 0.5182503  0.5678858  0.52090624\n",
            "  0.52334987 0.41599989 0.23937113 0.27774706 0.30684684 0.6014254\n",
            "  0.42213974 0.33067966 0.31155668 0.79196997 0.43833174 0.63930508\n",
            "  0.12872076 0.33875897 0.23713756 0.48254937 0.06877743 0.74903553\n",
            "  0.4518475  0.92827961 0.16230436 0.40635286 0.041222   0.60037914\n",
            "  0.55536127 0.16458642 0.63435481 0.69805321 0.30107966 0.48516903\n",
            "  0.7609268  0.52688621 0.71209423 0.65033556 0.8453547  0.39585364\n",
            "  0.45077018 0.01100997 0.73084499 0.32818331 0.25431433 0.43827663\n",
            "  0.3023124  0.67414976 0.620606   0.31067299 0.58903265 0.69871214\n",
            "  0.3277481  0.20930097 0.75399324 0.66007107 0.61786657 0.33129436\n",
            "  0.6273022  0.53162537 0.76233119 0.62336195 0.6776347  0.24505574\n",
            "  0.17116331 0.13016797 0.794887   0.360582   0.43309378 0.68421798\n",
            "  0.60021793 0.5854904  0.41754959 0.47376872]\n",
            " [0.26766388 0.38965268 0.72525928 0.45053089 0.06503901 0.56382792\n",
            "  0.19003545 0.82875015 0.70002633 0.90537029 0.63350511 0.19310094\n",
            "  0.75755138 1.09642645 0.85621539 0.81760043 0.         0.54063807\n",
            "  0.90199881 0.82046225 0.53014012 0.75234989 0.04165014 0.14085768\n",
            "  0.42993147 0.19466495 0.55342652 0.81678304 0.58705345 0.74052742\n",
            "  0.35978243 0.4811721  1.05193452 0.65972501 0.53925295 0.48516084\n",
            "  0.87963389 0.6637779  0.65586241 0.73278674 0.52625558 0.66237902\n",
            "  0.94418895 0.62564317 0.63056334 0.70848273 0.88141246 0.09265757\n",
            "  1.02490109 0.11672344 0.9458231  1.02096225 0.80289947 0.32837015\n",
            "  0.41343642 0.76985947 0.18386956 0.12389509 0.90639666 0.53523461\n",
            "  0.12960609 0.73449932 0.70569478 0.45729848 0.84325663 1.17789248\n",
            "  0.40835148 0.82379999 0.09792367 0.8921021  0.57964537 1.2094932\n",
            "  0.56730466 0.7266291  0.4152686  0.54176763 0.7571432  0.12033924\n",
            "  0.87679398 1.00732519 0.86895343 0.57212897 0.66094296 0.79581049\n",
            "  0.76897295 0.29530771 0.27135257 0.27603606 0.17140437 1.02885536\n",
            "  0.98312235 0.88535825 0.75932967 0.45738308 0.63805844 0.78616223\n",
            "  0.24558099 0.88832458 0.82387428 0.88275558]\n",
            " [0.28538023 0.63735059 0.20516669 0.60155979 0.54483072 0.36620253\n",
            "  0.48706651 0.3228835  0.86791668 0.49856169 0.6538107  0.52373393\n",
            "  0.23470449 0.73262209 0.54378229 0.43184613 0.54063807 0.\n",
            "  0.93013272 0.92617237 0.69938774 0.77331669 0.5124223  0.59969058\n",
            "  0.50320933 0.34597952 0.69889507 0.7732059  0.15547764 0.73111815\n",
            "  0.45122699 0.44598015 0.6579963  0.48869923 0.36951678 0.63130557\n",
            "  0.33902261 0.53741762 0.51458487 0.91067997 0.51551898 0.76856641\n",
            "  0.55048421 0.51120289 0.19646056 0.68443403 0.47006195 0.5145881\n",
            "  0.83328122 0.62395526 0.49106563 0.80050087 0.39691077 0.51739697\n",
            "  0.53783357 0.49965253 0.39923391 0.42205527 0.3841377  0.05508605\n",
            "  0.55323665 0.22485555 0.84299753 0.653892   1.00190377 0.82594392\n",
            "  0.15574099 0.43136738 0.44286362 0.68820608 0.21134896 0.86949311\n",
            "  0.40824185 0.82870353 0.20034564 0.38073018 0.78768759 0.43011062\n",
            "  0.34624639 0.5535731  0.95622573 0.73102319 0.75254153 0.63391642\n",
            "  0.82023714 0.27311016 0.63613908 0.271547   0.36952596 0.67673867\n",
            "  0.594839   0.55235415 0.92645258 0.27354372 0.10158397 0.86763846\n",
            "  0.43600076 0.37227125 0.70944953 0.34429552]\n",
            " [0.93309709 0.52096295 0.91608484 0.45181937 0.83920537 0.56546573\n",
            "  0.71724767 0.90913808 0.26231445 0.72924445 0.29130599 0.70894008\n",
            "  0.93189203 0.70111703 0.57007034 0.68801595 0.90199881 0.93013272\n",
            "  0.         0.13679673 0.37848397 0.16230357 0.86617886 0.78679132\n",
            "  0.49755719 0.87327352 0.35152359 0.17059273 1.08344264 0.19922223\n",
            "  0.57656147 0.50432697 0.74246546 0.45544377 0.56062047 0.41683824\n",
            "  1.08911133 0.39962413 0.42358298 0.26375753 0.43282726 0.24299135\n",
            "  0.71247744 0.4204093  0.78544469 0.24578851 0.73390234 0.81007021\n",
            "  0.37940376 1.00733323 0.83029636 0.42661509 0.7204268  0.57815462\n",
            "  0.49708928 0.52442825 0.77692633 0.84865762 0.98611099 0.97888147\n",
            "  0.77629608 1.1236297  0.22774143 0.44926737 0.22517602 0.71411595\n",
            "  0.82273936 0.69855289 0.87811753 0.39274212 0.73469276 0.70762382\n",
            "  0.52228835 0.18656151 1.02339646 0.54942186 0.15172735 0.83893442\n",
            "  1.00517121 0.84875663 0.10060655 0.33939672 0.24152923 0.35692544\n",
            "  0.13315107 0.7886345  0.65800938 0.91891205 0.88385744 0.65688669\n",
            "  0.71117217 0.60214761 0.24187599 0.66539398 0.99578465 0.12740568\n",
            "  0.68370233 1.22930699 0.27197717 1.13433905]\n",
            " [0.88746432 0.43117902 0.94224599 0.38183061 0.75598488 0.57423227\n",
            "  0.64427324 0.9522     0.13595667 0.79929142 0.27330306 0.63005356\n",
            "  0.96191277 0.80393577 0.64309757 0.74586087 0.82046225 0.92617237\n",
            "  0.13679673 0.         0.29081896 0.17393564 0.78774431 0.6955283\n",
            "  0.45063958 0.81867858 0.27043291 0.24482265 1.0745285  0.22501206\n",
            "  0.52650176 0.48243056 0.8348856  0.48540667 0.56294936 0.34473715\n",
            "  1.12379233 0.4273294  0.45053542 0.12878739 0.41125556 0.16760983\n",
            "  0.79038268 0.43681409 0.80438101 0.26587285 0.79953727 0.73096001\n",
            "  0.50034062 0.91914616 0.8984638  0.5425165  0.77345779 0.51023385\n",
            "  0.43786256 0.58190142 0.71630007 0.78297163 1.03443161 0.97074189\n",
            "  0.69162654 1.1332144  0.11550038 0.36357546 0.10404926 0.82707526\n",
            "  0.80245831 0.75678854 0.80951036 0.48559083 0.74661317 0.82518262\n",
            "  0.52966034 0.1012111  0.99370007 0.55170576 0.15690944 0.77211001\n",
            "  1.04728004 0.92480238 0.05145532 0.24859229 0.1782923  0.42611346\n",
            "  0.11866553 0.74925796 0.56197851 0.87514145 0.82578415 0.75339406\n",
            "  0.79557135 0.67847421 0.10537151 0.65349496 1.00214639 0.06229764\n",
            "  0.62224489 1.25105634 0.35174286 1.16505721]\n",
            " [0.61078305 0.14288257 0.76604781 0.10181208 0.46595479 0.40126377\n",
            "  0.35414296 0.80853615 0.1823961  0.72724747 0.17843419 0.33923601\n",
            "  0.79190003 0.8169925  0.59698558 0.65126585 0.53014012 0.69938774\n",
            "  0.37848397 0.29081896 0.         0.24904339 0.49697666 0.40910779\n",
            "  0.19618064 0.53600698 0.03095614 0.33847055 0.83557467 0.26017629\n",
            "  0.25814301 0.26765855 0.81602069 0.37665518 0.37927514 0.06826008\n",
            "  0.95504877 0.33283996 0.34617138 0.22249162 0.21772274 0.13549269\n",
            "  0.73817081 0.31480409 0.62388916 0.25213486 0.71713673 0.44020303\n",
            "  0.60527109 0.63131754 0.81355683 0.62501717 0.66523003 0.22419146\n",
            "  0.16581485 0.51041104 0.43101554 0.49448109 0.89697867 0.73602741\n",
            "  0.40188918 0.92016964 0.17749894 0.07285183 0.32833247 0.86990955\n",
            "  0.55726965 0.66187196 0.51988216 0.51690988 0.55796527 0.88405517\n",
            "  0.36257417 0.19702361 0.73076462 0.36999023 0.24770718 0.48324238\n",
            "  0.89645659 0.85684114 0.33883299 0.04229385 0.13960235 0.42037105\n",
            "  0.2487452  0.48205187 0.27958102 0.60031598 0.54077779 0.75319779\n",
            "  0.75914337 0.63522986 0.24455049 0.4315333  0.78848383 0.25725693\n",
            "  0.33801463 1.05470738 0.39632622 0.9873422 ]\n",
            " [0.7712784  0.38438188 0.77396578 0.30312793 0.69114781 0.41214524\n",
            "  0.56458926 0.77946222 0.21428368 0.62688377 0.12917755 0.55968189\n",
            "  0.7923769  0.64840498 0.47221496 0.57200203 0.75234989 0.77331669\n",
            "  0.16230357 0.17393564 0.24904339 0.         0.71502431 0.64515936\n",
            "  0.3377021  0.71302244 0.21861403 0.09910783 0.92538191 0.05109596\n",
            "  0.41671862 0.34224772 0.67124515 0.31390894 0.40453173 0.27120763\n",
            "  0.95316679 0.25591151 0.27957319 0.24163025 0.27059102 0.12770976\n",
            "  0.62017944 0.26961016 0.63853803 0.09375804 0.62634299 0.65978831\n",
            "  0.37790944 0.86120824 0.72547083 0.40912145 0.59954507 0.42490765\n",
            "  0.34141437 0.40824918 0.61869532 0.69176432 0.86103437 0.82085562\n",
            "  0.62989089 0.97271706 0.16743117 0.31251131 0.27417079 0.68210007\n",
            "  0.66161751 0.58294024 0.72219025 0.32854599 0.58382802 0.68664318\n",
            "  0.36799786 0.11728773 0.86138721 0.39323491 0.01703149 0.68252695\n",
            "  0.87483636 0.75349158 0.18865227 0.21810096 0.11367306 0.25688098\n",
            "  0.05530116 0.62646595 0.52294244 0.75693183 0.72441097 0.5933343\n",
            "  0.62793384 0.50841814 0.23560067 0.5054857  0.84313583 0.11225442\n",
            "  0.52639835 1.08504558 0.19219782 0.99566039]\n",
            " [0.24829998 0.35830862 0.69268707 0.41436641 0.04586923 0.52251812\n",
            "  0.15095945 0.79423004 0.66970053 0.86575966 0.59492799 0.15794178\n",
            "  0.7250343  1.05538166 0.8149625  0.77783263 0.04165014 0.5124223\n",
            "  0.86617886 0.78774431 0.49697666 0.71502431 0.         0.12708531\n",
            "  0.38995417 0.16802056 0.51928402 0.77780717 0.56792885 0.70202965\n",
            "  0.31887375 0.43974295 1.01154156 0.61808231 0.49782523 0.44958928\n",
            "  0.85088255 0.62237662 0.61432606 0.70357703 0.48560263 0.62785391\n",
            "  0.90408794 0.58420999 0.59429469 0.66926978 0.84203869 0.05679045\n",
            "  0.98372584 0.15833358 0.90773088 0.97950116 0.76378424 0.29029458\n",
            "  0.37496292 0.72840896 0.14352968 0.09070964 0.87308425 0.51037963\n",
            "  0.10316919 0.71209774 0.67350279 0.42417289 0.8139771  1.1365891\n",
            "  0.37530419 0.78417466 0.07309772 0.85059995 0.5419648  1.16804362\n",
            "  0.52569909 0.69270803 0.39924433 0.50025793 0.72023555 0.08448133\n",
            "  0.84473789 0.96895761 0.83568414 0.53915869 0.62565763 0.75446915\n",
            "  0.73304793 0.25944191 0.24781687 0.25429581 0.14713536 0.98774995\n",
            "  0.9427755  0.84429008 0.72970889 0.41736082 0.61126719 0.75182825\n",
            "  0.20425876 0.86617405 0.78328288 0.85596124]\n",
            " [0.36058117 0.26622566 0.76238921 0.34303785 0.08146388 0.53118473\n",
            "  0.13333019 0.85424565 0.57009032 0.89189809 0.53530387 0.10852869\n",
            "  0.79454165 1.06152032 0.81925936 0.80349219 0.14085768 0.59969058\n",
            "  0.78679132 0.6955283  0.40910779 0.64515936 0.12708531 0.\n",
            "  0.34932184 0.27294587 0.43527622 0.71895194 0.67474992 0.64026668\n",
            "  0.29541237 0.42092483 1.02771447 0.6051027  0.50408375 0.37396255\n",
            "  0.93242768 0.59744798 0.59420246 0.6005578  0.44976456 0.54417908\n",
            "  0.92470861 0.56105426 0.64841848 0.61369893 0.87067721 0.09066217\n",
            "  0.94892684 0.22391197 0.94599626 0.9518559  0.79570975 0.23848435\n",
            "  0.32087997 0.7286955  0.2009441  0.19295558 0.93774423 0.60636416\n",
            "  0.04691134 0.81129648 0.58005124 0.33753744 0.71075746 1.13679434\n",
            "  0.45041369 0.81116132 0.1916072  0.82556479 0.58879449 1.16404988\n",
            "  0.52360857 0.60581864 0.51278257 0.50366414 0.64780907 0.18129553\n",
            "  0.91479327 1.00463771 0.74530587 0.44990918 0.54557891 0.72574322\n",
            "  0.65512465 0.32916654 0.13538465 0.36279479 0.25782874 0.99330312\n",
            "  0.9601285  0.85199462 0.6277345  0.44921956 0.7009402  0.66626551\n",
            "  0.20338923 0.96488558 0.74090149 0.94326653]\n",
            " [0.43834531 0.172397   0.57933647 0.10101691 0.37441223 0.23451319\n",
            "  0.24020826 0.63355379 0.36964422 0.59354244 0.21061114 0.24624526\n",
            "  0.60687313 0.73018669 0.49128495 0.50930156 0.42993147 0.50320933\n",
            "  0.49755719 0.45063958 0.19618064 0.3377021  0.38995417 0.34932184\n",
            "  0.         0.37571666 0.19756543 0.38979755 0.64052781 0.31675616\n",
            "  0.07904953 0.09341952 0.70910884 0.26598119 0.20807092 0.12813849\n",
            "  0.76824329 0.24979082 0.24932768 0.41189168 0.10045867 0.2835025\n",
            "  0.61576034 0.2149934  0.43867182 0.28073158 0.57792658 0.33833442\n",
            "  0.60048459 0.54444971 0.66776901 0.60253581 0.51425342 0.11116492\n",
            "  0.04638117 0.39916178 0.28160342 0.35595863 0.72259169 0.54022651\n",
            "  0.3206892  0.72439605 0.3513798  0.1579506  0.51054542 0.79895662\n",
            "  0.36254004 0.51894045 0.38760705 0.47658739 0.37152365 0.8227673\n",
            "  0.20705515 0.3494288  0.54447013 0.20162365 0.34619505 0.34746031\n",
            "  0.71667729 0.71857699 0.49068574 0.22915599 0.27270524 0.3764838\n",
            "  0.36726999 0.2986327  0.26576312 0.42531597 0.38671318 0.66249751\n",
            "  0.64503584 0.52720594 0.43038898 0.23732936 0.59293808 0.4004995\n",
            "  0.19117902 0.8606665  0.3950755  0.79767453]\n",
            " [0.08928701 0.41844499 0.53306532 0.43789125 0.20512384 0.42835499\n",
            "  0.20187022 0.63973996 0.71812664 0.73866822 0.58473884 0.23411109\n",
            "  0.56521941 0.94529571 0.71199434 0.65313612 0.19466495 0.34597952\n",
            "  0.87327352 0.81867858 0.53600698 0.71302244 0.16802056 0.27294587\n",
            "  0.37571666 0.         0.55059353 0.75694011 0.4028508  0.68870905\n",
            "  0.29672724 0.38920777 0.89178424 0.54401987 0.40869546 0.4749692\n",
            "  0.68496895 0.56328196 0.54954985 0.75699797 0.45215774 0.65151277\n",
            "  0.78170366 0.52536134 0.4478023  0.64878379 0.71299335 0.18240833\n",
            "  0.92345677 0.28595653 0.76879835 0.91017911 0.63326156 0.31188803\n",
            "  0.38108871 0.6329057  0.10688438 0.08083157 0.71494708 0.34236201\n",
            "  0.230822   0.54445748 0.7109489  0.46828281 0.86429432 1.03165142\n",
            "  0.21890162 0.65799903 0.09692731 0.78150203 0.40400024 1.0672616\n",
            "  0.44456332 0.71832948 0.24042356 0.414458   0.7218616  0.09177439\n",
            "  0.68375437 0.83146695 0.86192427 0.57715541 0.64380995 0.69356499\n",
            "  0.74258178 0.12286378 0.35327035 0.08985543 0.02531979 0.87943583\n",
            "  0.82296675 0.7367527  0.78022895 0.30477269 0.44382464 0.77283197\n",
            "  0.19799871 0.69855044 0.73924218 0.68857751]\n",
            " [0.62293038 0.16960553 0.75735991 0.11273892 0.48970691 0.3890231\n",
            "  0.37408018 0.79570301 0.17266266 0.70648572 0.14968112 0.36134227\n",
            "  0.78244932 0.79052403 0.57325978 0.63213139 0.55342652 0.69889507\n",
            "  0.35152359 0.27043291 0.03095614 0.21861403 0.51928402 0.43527622\n",
            "  0.19756543 0.55059353 0.         0.30752564 0.83800425 0.22922966\n",
            "  0.26557271 0.26027965 0.79153825 0.35581844 0.36837296 0.07580781\n",
            "  0.94602523 0.30967315 0.3242668  0.21455611 0.20430735 0.10920074\n",
            "  0.7158006  0.29404366 0.61504806 0.22190366 0.69725459 0.46262885\n",
            "  0.57469816 0.65644806 0.79439983 0.59498482 0.64757267 0.24018341\n",
            "  0.17347993 0.48795016 0.44686716 0.51260121 0.88375512 0.73727444\n",
            "  0.42607269 0.91786918 0.16035862 0.09774379 0.31626436 0.84205474\n",
            "  0.560103   0.64284128 0.53910026 0.48810259 0.54990973 0.85551936\n",
            "  0.34878508 0.17343941 0.73872402 0.35861161 0.21777383 0.50169212\n",
            "  0.88487389 0.83633184 0.31693511 0.03232746 0.11087317 0.39241183\n",
            "  0.22050286 0.49056235 0.30753902 0.61175535 0.55658642 0.72726019\n",
            "  0.7356623  0.61155948 0.23415423 0.42833919 0.78588056 0.23273739\n",
            "  0.35309014 1.04999179 0.3661981  0.9796701 ]\n",
            " [0.80672548 0.46598472 0.74763357 0.37656917 0.75804412 0.40702314\n",
            "  0.62692544 0.73856354 0.31090884 0.56290016 0.18400741 0.6266621\n",
            "  0.76262048 0.56012539 0.40438882 0.5182503  0.81678304 0.7732059\n",
            "  0.17059273 0.24482265 0.33847055 0.09910783 0.77780717 0.71895194\n",
            "  0.38979755 0.75694011 0.30752564 0.         0.9280151  0.07962977\n",
            "  0.46654706 0.37094038 0.59020557 0.28954836 0.4061039  0.34902524\n",
            "  0.91896888 0.23637348 0.2598395  0.33469478 0.30480059 0.22586146\n",
            "  0.5497283  0.26258532 0.61960826 0.10911153 0.5660563  0.72427483\n",
            "  0.27881545 0.92892939 0.66350908 0.31116591 0.5501053  0.48884379\n",
            "  0.40355146 0.35422202 0.66971255 0.74508523 0.81563824 0.82382959\n",
            "  0.6992483  0.95943149 0.26431497 0.39582447 0.34887078 0.58829743\n",
            "  0.67742655 0.52887411 0.77719064 0.24089318 0.57197674 0.59069431\n",
            "  0.36587175 0.21290813 0.88220473 0.39527997 0.11010031 0.7369551\n",
            "  0.83459854 0.68536208 0.2406546  0.311752   0.21004453 0.18825864\n",
            "  0.13943135 0.65958945 0.60320646 0.79107696 0.77093469 0.50862385\n",
            "  0.55244966 0.43819058 0.32493986 0.51741275 0.83344256 0.19066786\n",
            "  0.58091448 1.06117261 0.10759994 0.96464496]\n",
            " [0.31988578 0.75874817 0.29787008 0.73527147 0.60756587 0.5210298\n",
            "  0.58085437 0.41162242 1.00928848 0.62458374 0.80370005 0.61730063\n",
            "  0.31747874 0.86084048 0.68878467 0.5678858  0.58705345 0.15547764\n",
            "  1.08344264 1.0745285  0.83557467 0.92538191 0.56792885 0.67474992\n",
            "  0.64052781 0.4028508  0.83800425 0.9280151  0.         0.88424681\n",
            "  0.5803128  0.59227549 0.78041988 0.64416514 0.52313579 0.76734705\n",
            "  0.35087642 0.69254833 0.66983453 1.05182038 0.66328602 0.91399989\n",
            "  0.67772926 0.66568228 0.34166287 0.83765519 0.59634546 0.58472617\n",
            "  0.9850213  0.64716768 0.59855913 0.95034037 0.52985013 0.6380152\n",
            "  0.67080423 0.65105823 0.48415823 0.48368033 0.44696486 0.10456744\n",
            "  0.63086478 0.15722152 0.98706854 0.7842042  1.14659605 0.95444394\n",
            "  0.27831786 0.56571057 0.49484739 0.84093033 0.36562103 0.99972634\n",
            "  0.5624956  0.97579277 0.17495498 0.53425283 0.93938586 0.49443643\n",
            "  0.39901577 0.65772247 1.10634719 0.86968344 0.89894667 0.78899965\n",
            "  0.97108433 0.37298896 0.73575765 0.31393024 0.42123122 0.80959519\n",
            "  0.72158411 0.6936476  1.06906878 0.42132412 0.14097188 1.01704332\n",
            "  0.54235595 0.30570941 0.86491195 0.33138963]\n",
            " [0.74279883 0.38635514 0.72554293 0.29749184 0.68100797 0.36739642\n",
            "  0.55107198 0.72907574 0.25671465 0.57617733 0.10712167 0.54944018\n",
            "  0.74340799 0.60378957 0.42212621 0.52090624 0.74052742 0.73111815\n",
            "  0.19922223 0.22501206 0.26017629 0.05109596 0.70202965 0.64026668\n",
            "  0.31675616 0.68870905 0.22922966 0.07962977 0.88424681 0.\n",
            "  0.39484133 0.30895024 0.62360459 0.26456071 0.36162065 0.26946227\n",
            "  0.90366665 0.20682367 0.23068388 0.28731844 0.23911313 0.15721678\n",
            "  0.57022829 0.22317102 0.59131745 0.04672319 0.5753949  0.64790031\n",
            "  0.34893457 0.85180484 0.67457096 0.37501502 0.54851862 0.41218758\n",
            "  0.3271164  0.35719258 0.59814655 0.67271238 0.81031436 0.77968235\n",
            "  0.62150602 0.92721642 0.21019836 0.31626566 0.32506651 0.64123443\n",
            "  0.6245461  0.53184488 0.70419932 0.28521219 0.53805669 0.64808626\n",
            "  0.32377342 0.16276741 0.82664329 0.35039226 0.06812707 0.66412693\n",
            "  0.8245682  0.70310806 0.2378915  0.23573035 0.13865669 0.20808332\n",
            "  0.10639693 0.59657885 0.52364549 0.72780891 0.70152337 0.54718182\n",
            "  0.57889748 0.45861001 0.28346407 0.46648643 0.79838276 0.16333338\n",
            "  0.50772648 1.03733525 0.15040897 0.94665154]\n",
            " [0.36105684 0.18950296 0.55156166 0.15644693 0.30828981 0.24466762\n",
            "  0.17340103 0.61882557 0.43802405 0.61052567 0.28925499 0.18750511\n",
            "  0.58104903 0.76758699 0.52564612 0.52334987 0.35978243 0.45122699\n",
            "  0.57656147 0.52650176 0.25814301 0.41671862 0.31887375 0.29541237\n",
            "  0.07904953 0.29672724 0.26557271 0.46654706 0.5803128  0.39484133\n",
            "  0.         0.12578765 0.73798298 0.30982216 0.21682077 0.19097792\n",
            "  0.73828711 0.30601726 0.30053818 0.47942019 0.16708053 0.35891579\n",
            "  0.63858961 0.26849542 0.41581243 0.35746365 0.59193341 0.27030471\n",
            "  0.66536324 0.47579871 0.67576451 0.66315519 0.52206831 0.07955659\n",
            "  0.09246012 0.43437713 0.20335931 0.27854744 0.70724424 0.48327075\n",
            "  0.26060053 0.6754423  0.42374994 0.20397367 0.58160734 0.84161787\n",
            "  0.30259487 0.53208776 0.31090078 0.53505638 0.34891773 0.86863751\n",
            "  0.23045751 0.42540875 0.47322646 0.21422419 0.42524063 0.27059902\n",
            "  0.69582982 0.73050818 0.56778199 0.2955389  0.34942052 0.4371748\n",
            "  0.44598992 0.22501631 0.23932461 0.34864892 0.30769516 0.69939273\n",
            "  0.67155381 0.55941773 0.49970561 0.20404024 0.54595296 0.47793223\n",
            "  0.11574124 0.81725255 0.46466694 0.76323378]\n",
            " [0.43578529 0.26572418 0.49839837 0.18622925 0.43249457 0.14178706\n",
            "  0.29826649 0.5452155  0.42386235 0.50061802 0.2149119  0.31325954\n",
            "  0.52444391 0.64469606 0.40371644 0.41599989 0.4811721  0.44598015\n",
            "  0.50432697 0.48243056 0.26765855 0.34224772 0.43974295 0.42092483\n",
            "  0.09341952 0.38920777 0.26027965 0.37094038 0.59227549 0.30895024\n",
            "  0.12578765 0.         0.61943888 0.18418124 0.11616945 0.20421969\n",
            "  0.68742698 0.18265348 0.17534539 0.46666161 0.07214049 0.32259761\n",
            "  0.52401429 0.14447109 0.35629233 0.26541894 0.48466844 0.3938149\n",
            "  0.54484129 0.59778979 0.57436133 0.53980223 0.42090218 0.19171326\n",
            "  0.13970728 0.31177807 0.31204988 0.38868524 0.63415936 0.48882159\n",
            "  0.38633798 0.66045095 0.39717915 0.24444308 0.55592499 0.71699137\n",
            "  0.32114497 0.42559088 0.42268437 0.41106657 0.29031979 0.74330763\n",
            "  0.11399283 0.38353861 0.51914043 0.10889094 0.35438167 0.38269472\n",
            "  0.63078962 0.62524331 0.51589193 0.29252434 0.30686922 0.31488455\n",
            "  0.38286794 0.28870993 0.3528917  0.42019852 0.40525372 0.57663255\n",
            "  0.55442577 0.43865899 0.48121492 0.17244674 0.52833309 0.42586547\n",
            "  0.23565491 0.7900613  0.35115596 0.71986696]\n",
            " [0.88097889 0.87442013 0.48497297 0.77956389 1.01934656 0.49653013\n",
            "  0.89600614 0.38542903 0.8783142  0.15993168 0.647764   0.91958201\n",
            "  0.47190906 0.09106624 0.22030494 0.23937113 1.05193452 0.6579963\n",
            "  0.74246546 0.8348856  0.81602069 0.67124515 1.01154156 1.02771447\n",
            "  0.70910884 0.89178424 0.79153825 0.59020557 0.78041988 0.62360459\n",
            "  0.73798298 0.61943888 0.         0.4476424  0.52371838 0.77855962\n",
            "  0.55024576 0.48379893 0.47319421 0.91077892 0.62248811 0.76926901\n",
            "  0.11084579 0.50707311 0.46990081 0.59816685 0.18827319 0.9795441\n",
            "  0.40279444 1.16418692 0.19641459 0.34673194 0.26550635 0.81061415\n",
            "  0.75295246 0.31119345 0.86810901 0.93419634 0.40403865 0.70872276\n",
            "  0.98712602 0.70864215 0.83258984 0.83145366 0.93888058 0.17923348\n",
            "  0.68983007 0.23572781 0.96746619 0.35081267 0.49340456 0.2269775\n",
            "  0.50786906 0.78636364 0.85295569 0.52468075 0.68718962 0.9342008\n",
            "  0.45060974 0.1606877  0.82836071 0.8145497  0.74791625 0.41589347\n",
            "  0.72327031 0.76977416 0.97231097 0.86257985 0.91611314 0.08918847\n",
            "  0.06893607 0.18280559 0.90672015 0.59482837 0.6401873  0.77845678\n",
            "  0.82618677 0.72557539 0.48318988 0.60501712]\n",
            " [0.57155249 0.42705309 0.46149559 0.33198238 0.61418421 0.12892744\n",
            "  0.48108246 0.4671893  0.47816228 0.35072162 0.23021966 0.49732397\n",
            "  0.47888162 0.4643157  0.22765375 0.27774706 0.65972501 0.48869923\n",
            "  0.45544377 0.48540667 0.37665518 0.31390894 0.61808231 0.6051027\n",
            "  0.26598119 0.54401987 0.35581844 0.28954836 0.64416514 0.26456071\n",
            "  0.30982216 0.18418124 0.4476424  0.         0.13938805 0.33270876\n",
            "  0.6392608  0.05809377 0.03524293 0.51762707 0.17492601 0.36378592\n",
            "  0.36259374 0.06185941 0.33028982 0.22023677 0.34168401 0.57495951\n",
            "  0.38042704 0.77639522 0.43954173 0.36645034 0.2973048  0.37351732\n",
            "  0.30769937 0.1366435  0.48309766 0.55844549 0.55081866 0.54108235\n",
            "  0.57005954 0.66988371 0.43825298 0.38472988 0.57980156 0.53369858\n",
            "  0.41245403 0.28862201 0.59305945 0.23751291 0.28318712 0.55923369\n",
            "  0.10009049 0.40415463 0.61851916 0.13148827 0.33050541 0.55422221\n",
            "  0.56197179 0.48051771 0.50231841 0.38294717 0.34262989 0.15427306\n",
            "  0.36789877 0.42809049 0.53172579 0.55390124 0.56374585 0.3967908\n",
            "  0.38659997 0.26483695 0.5226905  0.25581088 0.54436685 0.42312565\n",
            "  0.41594769 0.77416356 0.22143493 0.68210277]\n",
            " [0.43246042 0.38017261 0.39010725 0.30226452 0.50016308 0.02785894\n",
            "  0.37303358 0.43003468 0.52298468 0.39374153 0.28980383 0.39587018\n",
            "  0.4143768  0.5596291  0.31787922 0.30684684 0.53925295 0.36951678\n",
            "  0.56062047 0.56294936 0.37927514 0.40453173 0.49782523 0.50408375\n",
            "  0.20807092 0.40869546 0.36837296 0.4061039  0.52313579 0.36162065\n",
            "  0.21682077 0.11616945 0.52371838 0.13938805 0.         0.31846678\n",
            "  0.57815111 0.17472245 0.15459414 0.56534751 0.1648927  0.4145665\n",
            "  0.4223166  0.14368454 0.24807278 0.31492532 0.37555235 0.46029657\n",
            "  0.51913978 0.65489263 0.46185193 0.50241423 0.30791561 0.2935444\n",
            "  0.25439109 0.23062137 0.35745911 0.43039443 0.51883172 0.4186498\n",
            "  0.46413661 0.57030487 0.49113361 0.36044592 0.64605752 0.63901566\n",
            "  0.27581959 0.31580271 0.46498573 0.37461202 0.18549202 0.67024421\n",
            "  0.04129258 0.46923218 0.48227496 0.0113084  0.4193082  0.42760892\n",
            "  0.5171819  0.51492728 0.58966405 0.40002548 0.39615874 0.29347246\n",
            "  0.4529883  0.2903056  0.45550512 0.41471253 0.42953793 0.49158936\n",
            "  0.45643083 0.34892454 0.57683556 0.11692438 0.43956908 0.50271557\n",
            "  0.30376403 0.69097614 0.35495048 0.61345901]\n",
            " [0.54714907 0.11776179 0.7019283  0.03713355 0.42251091 0.34190761\n",
            "  0.30197515 0.74850122 0.24725277 0.68049737 0.17012049 0.29211936\n",
            "  0.72839879 0.78625761 0.55831744 0.6014254  0.48516084 0.63130557\n",
            "  0.41683824 0.34473715 0.06826008 0.27120763 0.44958928 0.37396255\n",
            "  0.12813849 0.4749692  0.07580781 0.34902524 0.76734705 0.26946227\n",
            "  0.19097792 0.20421969 0.77855962 0.33270876 0.31846678 0.\n",
            "  0.89103314 0.2957474  0.3053848  0.288462   0.16318238 0.17960374\n",
            "  0.69516623 0.2718507  0.56010279 0.24963519 0.66854667 0.39332109\n",
            "  0.60073556 0.59145264 0.763225   0.61454205 0.61259027 0.16558281\n",
            "  0.09853079 0.46893749 0.37167899 0.43854604 0.83728374 0.6677721\n",
            "  0.36006978 0.85245489 0.23608166 0.0542282  0.39179525 0.84482477\n",
            "  0.48905315 0.61178511 0.46584549 0.49877841 0.49365444 0.86233478\n",
            "  0.30566673 0.24585761 0.6641421  0.30981574 0.27404324 0.42788872\n",
            "  0.83489906 0.80915012 0.38998554 0.10463614 0.1761061  0.39897393\n",
            "  0.28385059 0.41565617 0.25418434 0.5360508  0.4812998  0.72075914\n",
            "  0.71898657 0.59617489 0.30913424 0.3644357  0.72089661 0.30344863\n",
            "  0.27772989 0.98787224 0.38910592 0.9222703 ]\n",
            " [0.62162636 0.92719886 0.18910709 0.86890272 0.8819302  0.55967468\n",
            "  0.81221026 0.1877032  1.09951259 0.42898438 0.85773702 0.84798487\n",
            "  0.16386408 0.64085541 0.56028452 0.42213974 0.87963389 0.33902261\n",
            "  1.08911133 1.12379233 0.95504877 0.95316679 0.85088255 0.93242768\n",
            "  0.76824329 0.68496895 0.94602523 0.91896888 0.35087642 0.90366665\n",
            "  0.73828711 0.68742698 0.55024576 0.6392608  0.57815111 0.89103314\n",
            "  0.         0.69726718 0.67370068 1.14143875 0.74303977 0.98848621\n",
            "  0.47652851 0.6874906  0.33116384 0.85946298 0.40770495 0.85012293\n",
            "  0.87193469 0.9612671  0.35458405 0.82376608 0.3827241  0.81414262\n",
            "  0.810877   0.57215894 0.73159962 0.76029637 0.14670997 0.35229347\n",
            "  0.88557153 0.20890518 1.06514798 0.92619082 1.2150659  0.72817151\n",
            "  0.48201492 0.41376803 0.78181582 0.74988145 0.39738463 0.77623311\n",
            "  0.6027856  1.03764526 0.50680417 0.58833078 0.9697341  0.76788486\n",
            "  0.10046795 0.39527022 1.14152949 0.97788726 0.9688666  0.74030989\n",
            "  1.00696785 0.60326274 0.9526341  0.60899129 0.70854501 0.61069519\n",
            "  0.51212086 0.54535043 1.1510459  0.53503373 0.24508796 1.06164196\n",
            "  0.75336728 0.17535326 0.82697621 0.05485202]\n",
            " [0.59863291 0.39862276 0.51879051 0.30054742 0.6142017  0.1718522\n",
            "  0.47941493 0.52511763 0.42311151 0.39924203 0.17593386 0.49161905\n",
            "  0.53661464 0.49114253 0.26420992 0.33067966 0.6637779  0.53741762\n",
            "  0.39962413 0.4273294  0.33283996 0.25591151 0.62237662 0.59744798\n",
            "  0.24979082 0.56328196 0.30967315 0.23637348 0.69254833 0.20682367\n",
            "  0.30601726 0.18265348 0.48379893 0.05809377 0.17472245 0.2957474\n",
            "  0.69726718 0.         0.02400033 0.46192868 0.15076542 0.30871781\n",
            "  0.40623951 0.03841809 0.38590768 0.16219625 0.39243364 0.57587162\n",
            "  0.36279418 0.78035209 0.49124586 0.35733345 0.35261254 0.36065911\n",
            "  0.2866728  0.1784966  0.4932364  0.56966743 0.60839592 0.58867623\n",
            "  0.5656563  0.72426469 0.38225964 0.34934917 0.5220625  0.55359591\n",
            "  0.45039471 0.34165484 0.60395083 0.22904264 0.33590235 0.57495208\n",
            "  0.1334606  0.34691254 0.65680238 0.16472732 0.27246837 0.56423021\n",
            "  0.62000014 0.52924047 0.44441471 0.3349376  0.2873433  0.13235648\n",
            "  0.3098147  0.45247316 0.5129762  0.58157178 0.58136197 0.42518561\n",
            "  0.42630537 0.30242029 0.46614576 0.29062405 0.59737802 0.36504427\n",
            "  0.41821121 0.83099243 0.18102914 0.73987775]\n",
            " [0.58221529 0.40429006 0.49487713 0.30742875 0.6078374  0.1498013\n",
            "  0.47354333 0.50232123 0.44330611 0.3825635  0.195467   0.48741964\n",
            "  0.51284068 0.48474237 0.25293286 0.31155668 0.65586241 0.51458487\n",
            "  0.42358298 0.45053542 0.34617138 0.27957319 0.61432606 0.59420246\n",
            "  0.24932768 0.54954985 0.3242668  0.2598395  0.66983453 0.23068388\n",
            "  0.30053818 0.17534539 0.47319421 0.03524293 0.15459414 0.3053848\n",
            "  0.67370068 0.02400033 0.         0.48261016 0.15313205 0.32889953\n",
            "  0.39200467 0.03485467 0.36191945 0.1858209  0.37457051 0.56910565\n",
            "  0.37432966 0.77256503 0.47290933 0.36553551 0.33205393 0.35919217\n",
            "  0.2885775  0.16435674 0.48276696 0.55889574 0.58605352 0.56612408\n",
            "  0.56102796 0.70040211 0.40316203 0.35830581 0.54462058 0.55029006\n",
            "  0.43037744 0.32248231 0.59334261 0.23638367 0.31221629 0.5734538\n",
            "  0.11336072 0.36891195 0.63683423 0.14507974 0.29606738 0.55391059\n",
            "  0.59700499 0.51254314 0.46814677 0.35062977 0.30768165 0.14402021\n",
            "  0.33327895 0.43679914 0.51439542 0.56494035 0.56824211 0.41798654\n",
            "  0.41397645 0.29081783 0.48750674 0.27124056 0.57370258 0.38827591\n",
            "  0.41064257 0.80700993 0.20037361 0.71611678]\n",
            " [0.83304649 0.3464985  0.95475442 0.32391554 0.66774844 0.58204706\n",
            "  0.56877477 0.9803067  0.04280814 0.85524233 0.2878149  0.54896867\n",
            "  0.97766862 0.89000016 0.70560037 0.79196997 0.73278674 0.91067997\n",
            "  0.26375753 0.12878739 0.22249162 0.24163025 0.70357703 0.6005578\n",
            "  0.41189168 0.75699797 0.21455611 0.33469478 1.05182038 0.28731844\n",
            "  0.47942019 0.46666161 0.91077892 0.51762707 0.56534751 0.288462\n",
            "  1.14143875 0.46192868 0.48261016 0.         0.40191407 0.15425182\n",
            "  0.85367736 0.46068412 0.81321066 0.31496854 0.85145904 0.64720776\n",
            "  0.60770622 0.82400177 0.95083625 0.64468568 0.81449773 0.44529695\n",
            "  0.38699087 0.63300689 0.65113541 0.71126687 1.06614026 0.95045276\n",
            "  0.60321743 1.1271065  0.07996095 0.28882039 0.11047032 0.9226219\n",
            "  0.77426951 0.80297388 0.73444592 0.57017355 0.75052814 0.92533474\n",
            "  0.53865977 0.12468677 0.95260317 0.55467932 0.22698374 0.69952354\n",
            "  1.07297129 0.98408758 0.17714839 0.18389312 0.17508537 0.49494387\n",
            "  0.19535316 0.70406396 0.46518863 0.82274616 0.76059241 0.83434611\n",
            "  0.86470103 0.74288886 0.0282458  0.63816207 0.99498555 0.15109276\n",
            "  0.55915544 1.25498757 0.43380141 1.17844506]\n",
            " [0.50375033 0.25215807 0.55493206 0.15774283 0.47269003 0.18474053\n",
            "  0.33778718 0.59150996 0.35931241 0.51818673 0.14279966 0.34604357\n",
            "  0.57924817 0.63759732 0.40257968 0.43833174 0.52625558 0.51551898\n",
            "  0.43282726 0.41125556 0.21772274 0.27059102 0.48560263 0.44976456\n",
            "  0.10045867 0.45215774 0.20430735 0.30480059 0.66328602 0.23911313\n",
            "  0.16708053 0.07214049 0.62248811 0.17492601 0.1648927  0.16318238\n",
            "  0.74303977 0.15076542 0.15313205 0.40191407 0.         0.25402766\n",
            "  0.53486114 0.11828074 0.41277007 0.19713957 0.50565388 0.43570657\n",
            "  0.50074764 0.6417663  0.60005155 0.50209305 0.44956205 0.21157437\n",
            "  0.1359588  0.31132268 0.36743817 0.44367694 0.67971194 0.55950013\n",
            "  0.42048893 0.72705888 0.32974308 0.21249229 0.48731545 0.70320273\n",
            "  0.39322987 0.44865661 0.47674002 0.37622179 0.34898856 0.72547653\n",
            "  0.14489814 0.31318533 0.59096466 0.15477206 0.2824545  0.43641577\n",
            "  0.68059132 0.646398   0.44397315 0.23559457 0.23724046 0.27602763\n",
            "  0.31072748 0.35747976 0.36223825 0.48869888 0.46646198 0.57055575\n",
            "  0.56076075 0.43969318 0.41478447 0.24232471 0.59511985 0.35410426\n",
            "  0.28278794 0.85308111 0.29768779 0.77809745]\n",
            " [0.71985484 0.27809992 0.80255819 0.21632233 0.59880155 0.42992171\n",
            "  0.48138481 0.82613601 0.11441819 0.70488365 0.13367273 0.46995904\n",
            "  0.82486903 0.75593258 0.5586674  0.63930508 0.66237902 0.76856641\n",
            "  0.24299135 0.16760983 0.13549269 0.12770976 0.62785391 0.54417908\n",
            "  0.2835025  0.65151277 0.10920074 0.22586146 0.91399989 0.15721678\n",
            "  0.35891579 0.32259761 0.76926901 0.36378592 0.4145665  0.17960374\n",
            "  0.98848621 0.30871781 0.32889953 0.15425182 0.25402766 0.\n",
            "  0.7060347  0.30644809 0.66158576 0.17170825 0.69994687 0.57129248\n",
            "  0.50372159 0.76563482 0.79914741 0.53192451 0.66094718 0.34493654\n",
            "  0.27047928 0.48237854 0.54989483 0.61793099 0.91189239 0.81103149\n",
            "  0.53524789 0.98105855 0.0767199  0.20672849 0.23340639 0.7970755\n",
            "  0.63927852 0.65029261 0.64544084 0.44017821 0.60005851 0.80495808\n",
            "  0.38607522 0.06681756 0.82749286 0.4036715  0.1212358  0.60738136\n",
            "  0.91898562 0.83435291 0.21077448 0.09728676 0.02162794 0.35505554\n",
            "  0.11463972 0.58209815 0.41504395 0.70756398 0.65911179 0.69687172\n",
            "  0.7197078  0.5965045  0.16262635 0.49502282 0.84914357 0.12402893\n",
            "  0.4557739  1.10545848 0.30715999 1.02633877]\n",
            " [0.77013945 0.78460546 0.38641037 0.69259075 0.91328781 0.39466768\n",
            "  0.79221484 0.29816025 0.81837168 0.05328272 0.57824366 0.81710608\n",
            "  0.37719802 0.18315518 0.14819696 0.12872076 0.94418895 0.55048421\n",
            "  0.71247744 0.79038268 0.73817081 0.62017944 0.90408794 0.92470861\n",
            "  0.61576034 0.78170366 0.7158006  0.5497283  0.67772926 0.57022829\n",
            "  0.63858961 0.52401429 0.11084579 0.36259374 0.4223166  0.69516623\n",
            "  0.47652851 0.40623951 0.39200467 0.85367736 0.53486114 0.7060347\n",
            "  0.         0.42405347 0.36013893 0.53872781 0.08138463 0.87359862\n",
            "  0.41387234 1.05567096 0.1319886  0.36070672 0.15531431 0.71333427\n",
            "  0.66077416 0.22785525 0.76056096 0.82550417 0.33548682 0.60214091\n",
            "  0.8831763  0.61664967 0.77410346 0.7466894  0.89326685 0.27678357\n",
            "  0.57898464 0.12488202 0.85853571 0.32371426 0.38256425 0.32207976\n",
            "  0.41058108 0.73107073 0.7437937  0.4243727  0.63684316 0.82583914\n",
            "  0.37619153 0.13633693 0.79037398 0.74111058 0.68441953 0.36427493\n",
            "  0.67439574 0.65997849 0.87557803 0.751745   0.80614082 0.13670891\n",
            "  0.04435643 0.11190982 0.85268273 0.48680587 0.5387564  0.73102818\n",
            "  0.72213848 0.64979161 0.44263539 0.53110974]\n",
            " [0.56200747 0.36955127 0.5055069  0.27295329 0.57647433 0.14526508\n",
            "  0.44182597 0.52036824 0.42044532 0.41256742 0.17294462 0.45472187\n",
            "  0.52517076 0.51954461 0.2867691  0.33875897 0.62564317 0.51120289\n",
            "  0.4204093  0.43681409 0.31480409 0.26961016 0.58420999 0.56105426\n",
            "  0.2149934  0.52536134 0.29404366 0.26258532 0.66568228 0.22317102\n",
            "  0.26849542 0.14447109 0.50707311 0.06185941 0.14368454 0.2718507\n",
            "  0.6874906  0.03841809 0.03485467 0.46068412 0.11828074 0.30644809\n",
            "  0.42405347 0.         0.36896402 0.17676171 0.40327702 0.53801467\n",
            "  0.40121223 0.74225512 0.50082076 0.39534187 0.35672227 0.32524315\n",
            "  0.25381545 0.19711866 0.45481842 0.53125292 0.60559173 0.56138399\n",
            "  0.52858254 0.70405728 0.38197236 0.32441739 0.52785173 0.58505804\n",
            "  0.41770059 0.34957068 0.56553317 0.26673806 0.31489144 0.60795031\n",
            "  0.10329057 0.35079777 0.62378923 0.13303029 0.28549023 0.52581326\n",
            "  0.61404424 0.54233091 0.45786762 0.32142156 0.28567788 0.17074912\n",
            "  0.32153343 0.41547141 0.47975406 0.54510336 0.54326248 0.45271666\n",
            "  0.44714049 0.32446299 0.46719732 0.25743845 0.57549862 0.37491428\n",
            "  0.38011259 0.81561108 0.21657043 0.72825696]\n",
            " [0.41980154 0.60203433 0.14231263 0.53882171 0.61476512 0.2317446\n",
            "  0.51828379 0.2068782  0.77093606 0.31010448 0.53353397 0.55122156\n",
            "  0.1683601  0.54005978 0.34807693 0.23713756 0.63056334 0.19646056\n",
            "  0.78544469 0.80438101 0.62388916 0.63853803 0.59429469 0.64841848\n",
            "  0.43867182 0.4478023  0.61504806 0.61960826 0.34166287 0.59131745\n",
            "  0.41581243 0.35629233 0.46990081 0.33028982 0.24807278 0.56010279\n",
            "  0.33116384 0.38590768 0.36191945 0.81321066 0.41277007 0.66158576\n",
            "  0.36013893 0.36896402 0.         0.54533152 0.28204122 0.57771774\n",
            "  0.64467934 0.73269347 0.32285257 0.60885151 0.20486785 0.4942165\n",
            "  0.48234785 0.31127746 0.45640742 0.50680192 0.29340408 0.25092266\n",
            "  0.60225464 0.34064997 0.73828401 0.59648288 0.89141325 0.63281614\n",
            "  0.23109508 0.23767428 0.53624065 0.50228564 0.06734875 0.67541166\n",
            "  0.27595889 0.71394264 0.38390944 0.258592   0.65445422 0.51048966\n",
            "  0.2800592  0.38610009 0.8268139  0.64699195 0.6426385  0.4602707\n",
            "  0.69033783 0.33525604 0.6434899  0.40203261 0.47310249 0.48211462\n",
            "  0.40429671 0.35589418 0.82413393 0.21252508 0.22056523 0.74293299\n",
            "  0.45212416 0.4467831  0.54193128 0.36538625]\n",
            " [0.70057821 0.36738454 0.68028492 0.27365502 0.65034496 0.32072171\n",
            "  0.51850155 0.68640586 0.28055696 0.54153075 0.07967039 0.5192529\n",
            "  0.69861973 0.58444043 0.39063213 0.48254937 0.70848273 0.68443403\n",
            "  0.24578851 0.26587285 0.25213486 0.09375804 0.66926978 0.61369893\n",
            "  0.28073158 0.64878379 0.22190366 0.10911153 0.83765519 0.04672319\n",
            "  0.35746365 0.26541894 0.59816685 0.22023677 0.31492532 0.24963519\n",
            "  0.85946298 0.16219625 0.1858209  0.31496854 0.19713957 0.17170825\n",
            "  0.53872781 0.17676171 0.54533152 0.         0.53919404 0.61609314\n",
            "  0.35367087 0.82121897 0.63860198 0.37315034 0.50861153 0.38110823\n",
            "  0.2958229  0.32034493 0.56068431 0.63599009 0.76859256 0.7330952\n",
            "  0.59235983 0.88071117 0.23556872 0.30005875 0.36310328 0.62790261\n",
            "  0.57890865 0.49353874 0.6680792  0.2710245  0.49157722 0.6381057\n",
            "  0.27705725 0.19291282 0.78166742 0.303704   0.11027242 0.62784399\n",
            "  0.7816155  0.66974744 0.28238515 0.2346369  0.15073912 0.18334843\n",
            "  0.14777137 0.55387063 0.50222469 0.68529033 0.66239496 0.52516444\n",
            "  0.55015459 0.42795413 0.31452743 0.42041133 0.7517492  0.2036057\n",
            "  0.47181666 0.99162733 0.14432237 0.90190291]\n",
            " [0.69672528 0.74953453 0.30583842 0.66184128 0.85399548 0.34772907\n",
            "  0.73744821 0.22385107 0.81396401 0.02851158 0.56820294 0.76439258\n",
            "  0.29802069 0.26452803 0.16631378 0.06877743 0.88141246 0.47006195\n",
            "  0.73390234 0.79953727 0.71713673 0.62634299 0.84203869 0.87067721\n",
            "  0.57792658 0.71299335 0.69725459 0.5660563  0.59634546 0.5753949\n",
            "  0.59193341 0.48466844 0.18827319 0.34168401 0.37555235 0.66854667\n",
            "  0.40770495 0.39243364 0.37457051 0.85145904 0.50565388 0.69994687\n",
            "  0.08138463 0.40327702 0.28204122 0.53919404 0.         0.81464759\n",
            "  0.46741155 0.99093187 0.09943418 0.4173897  0.079852   0.66909578\n",
            "  0.62393709 0.21886113 0.69876814 0.760823   0.27317813 0.52131364\n",
            "  0.82774417 0.53770323 0.77149822 0.71793815 0.90046103 0.35815266\n",
            "  0.50554416 0.05987645 0.7931602  0.35830365 0.31014654 0.40343161\n",
            "  0.370891   0.73183772 0.66469685 0.37944309 0.6433205  0.76196747\n",
            "  0.30861292 0.14093293 0.80472612 0.72462825 0.67839334 0.37779867\n",
            "  0.6814947  0.59261794 0.83099662 0.67848641 0.73777275 0.21585385\n",
            "  0.12541347 0.14208305 0.85315979 0.42555659 0.45746202 0.7385142\n",
            "  0.66730543 0.57828799 0.46194655 0.46155776]\n",
            " [0.26992719 0.30163458 0.68470001 0.35835529 0.03988859 0.48602458\n",
            "  0.09812933 0.78128799 0.61310226 0.83739581 0.54089873 0.10133612\n",
            "  0.71702062 1.01975848 0.77817555 0.74903553 0.09265757 0.5145881\n",
            "  0.81007021 0.73096001 0.44020303 0.65978831 0.05679045 0.09066217\n",
            "  0.33833442 0.18240833 0.46262885 0.72427483 0.58472617 0.64790031\n",
            "  0.27030471 0.3938149  0.9795441  0.57495951 0.46029657 0.39332109\n",
            "  0.85012293 0.57587162 0.56910565 0.64720776 0.43570657 0.57129248\n",
            "  0.87359862 0.53801467 0.57771774 0.61609314 0.81464759 0.\n",
            "  0.93557308 0.2061602  0.88463002 0.93319035 0.73755955 0.23572495\n",
            "  0.32083751 0.68997304 0.12159527 0.10229865 0.86274214 0.51860525\n",
            "  0.0528693  0.72299965 0.61671495 0.36739208 0.75756668 1.09902113\n",
            "  0.36905794 0.75594082 0.10393816 0.80475207 0.52155638 1.12910719\n",
            "  0.48550952 0.63603377 0.42212063 0.46174954 0.66470366 0.09067494\n",
            "  0.83727985 0.94484308 0.77893588 0.48237738 0.56931629 0.7074012\n",
            "  0.67697496 0.24862876 0.19520994 0.27222651 0.16724606 0.95179952\n",
            "  0.91109729 0.80879113 0.67323777 0.38918925 0.61529296 0.69523587\n",
            "  0.15902413 0.87685354 0.73298543 0.85881997]\n",
            " [0.95158998 0.71769645 0.73734806 0.62058443 0.97308255 0.50480273\n",
            "  0.83803708 0.68463649 0.58769799 0.4507622  0.43148737 0.846668\n",
            "  0.74079465 0.34066231 0.31339336 0.4518475  1.02490109 0.83328122\n",
            "  0.37940376 0.50034062 0.60527109 0.37790944 0.98372584 0.94892684\n",
            "  0.60048459 0.92345677 0.57469816 0.27881545 0.9850213  0.34893457\n",
            "  0.66536324 0.54484129 0.40279444 0.38042704 0.51913978 0.60073556\n",
            "  0.87193469 0.36279418 0.37432966 0.60770622 0.50074764 0.50372159\n",
            "  0.41387234 0.40121223 0.64467934 0.35367087 0.46741155 0.93557308\n",
            "  0.         1.14113173 0.54559177 0.05609433 0.49267121 0.7105577\n",
            "  0.62872845 0.33396486 0.85603051 0.9324463  0.74058785 0.88820912\n",
            "  0.92112402 0.97123533 0.5416292  0.65266429 0.60014755 0.33772609\n",
            "  0.7852786  0.45930511 0.9667439  0.14691532 0.62272954 0.32837532\n",
            "  0.48051519 0.48984911 0.98818568 0.51176584 0.38847951 0.92701576\n",
            "  0.77458944 0.54194488 0.47749701 0.58412465 0.48666517 0.23062805\n",
            "  0.4139661  0.80850803 0.84846513 0.93379432 0.94246293 0.31370836\n",
            "  0.39473629 0.32678508 0.59422512 0.63396664 0.86327526 0.45769063\n",
            "  0.77950243 1.03732794 0.211676   0.9245563 ]\n",
            " [0.33966859 0.48872696 0.81760917 0.55816962 0.17089101 0.67908664\n",
            "  0.30427663 0.92558339 0.79395457 1.01551377 0.74511722 0.30236511\n",
            "  0.84957468 1.21063918 0.97116771 0.92827961 0.11672344 0.62395526\n",
            "  1.00733323 0.91914616 0.63131754 0.86120824 0.15833358 0.22391197\n",
            "  0.54444971 0.28595653 0.65644806 0.92892939 0.64716768 0.85180484\n",
            "  0.47579871 0.59778979 1.16418692 0.77639522 0.65489263 0.59145264\n",
            "  0.9612671  0.78035209 0.77256503 0.82400177 0.6417663  0.76563482\n",
            "  1.05567096 0.74225512 0.73269347 0.82121897 0.99093187 0.2061602\n",
            "  1.14113173 0.         1.05176562 1.13759198 0.91183207 0.44014297\n",
            "  0.52545287 0.88549926 0.29794464 0.23022676 0.99979252 0.61049161\n",
            "  0.23141943 0.80087876 0.80371641 0.55902066 0.93401645 1.29293905\n",
            "  0.50485314 0.93408156 0.19788503 1.00877504 0.68550006 1.32505988\n",
            "  0.68358606 0.82832567 0.47221347 0.6576805  0.86511967 0.23002008\n",
            "  0.96703521 1.11392349 0.96870707 0.67260705 0.7658041  0.9123016\n",
            "  0.87484219 0.39962229 0.35896199 0.35250339 0.2607049  1.14328081\n",
            "  1.09528177 0.99971659 0.85131665 0.5694056  0.71664718 0.88854223\n",
            "  0.36214541 0.95264033 0.93913711 0.95927133]\n",
            " [0.74237669 0.84005397 0.30070872 0.75484146 0.92331192 0.434407\n",
            "  0.81276491 0.19211842 0.91323558 0.10120682 0.66713332 0.84164823\n",
            "  0.28300455 0.28649159 0.26037965 0.16230436 0.9458231  0.49106563\n",
            "  0.83029636 0.8984638  0.81355683 0.72547083 0.90773088 0.94599626\n",
            "  0.66776901 0.76879835 0.79439983 0.66350908 0.59855913 0.67457096\n",
            "  0.67576451 0.57436133 0.19641459 0.43954173 0.46185193 0.763225\n",
            "  0.35458405 0.49124586 0.47290933 0.95083625 0.60005155 0.79914741\n",
            "  0.1319886  0.50082076 0.32285257 0.63860198 0.09943418 0.88463002\n",
            "  0.54559177 1.05176562 0.         0.49265996 0.15395428 0.75420521\n",
            "  0.71406448 0.31828551 0.7658709  0.82316375 0.20937677 0.53746291\n",
            "  0.90178053 0.5152013  0.8708766  0.81160406 0.99962741 0.37542581\n",
            "  0.55381388 0.15168963 0.8541472  0.44854889 0.36639995 0.42330458\n",
            "  0.46166354 0.83126852 0.69092282 0.46694008 0.7424315  0.82554751\n",
            "  0.25453732 0.06340365 0.90286837 0.82222059 0.77761103 0.47536519\n",
            "  0.78057186 0.65221116 0.91501386 0.72472893 0.79399719 0.2584326\n",
            "  0.16028348 0.2307389  0.95259365 0.49699716 0.45761041 0.83758674\n",
            "  0.74307432 0.52974168 0.55841103 0.4094284 ]\n",
            " [0.93335969 0.72998015 0.69489763 0.63153157 0.97143271 0.48563632\n",
            "  0.83653284 0.637093   0.62206641 0.39947995 0.44801304 0.84752632\n",
            "  0.69673839 0.28530826 0.26918458 0.40635286 1.02096225 0.80050087\n",
            "  0.42661509 0.5425165  0.62501717 0.40912145 0.97950116 0.9518559\n",
            "  0.60253581 0.91017911 0.59498482 0.31116591 0.95034037 0.37501502\n",
            "  0.66315519 0.53980223 0.34673194 0.36645034 0.50241423 0.61454205\n",
            "  0.82376608 0.35733345 0.36553551 0.64468568 0.50209305 0.53192451\n",
            "  0.36070672 0.39534187 0.60885151 0.37315034 0.4173897  0.93319035\n",
            "  0.05609433 1.13759198 0.49265996 0.         0.44748654 0.71353497\n",
            "  0.63400135 0.30155063 0.84804931 0.92394216 0.69024948 0.85557386\n",
            "  0.92184034 0.92985313 0.57547743 0.66761686 0.6439831  0.28756732\n",
            "  0.76160632 0.41318307 0.95847157 0.12928855 0.59160072 0.28267746\n",
            "  0.46561774 0.52404736 0.96196896 0.49598776 0.42116219 0.91922127\n",
            "  0.72560678 0.48713953 0.52288823 0.60708459 0.51367168 0.22630094\n",
            "  0.44954134 0.79271794 0.85720829 0.9152861  0.93013795 0.25767797\n",
            "  0.33998411 0.27865725 0.63289304 0.6146609  0.8253696  0.49646324\n",
            "  0.77545326 0.99096794 0.22883258 0.87687493]\n",
            " [0.61711295 0.68662297 0.25029251 0.60273353 0.77672561 0.28051663\n",
            "  0.66238019 0.19535701 0.77535815 0.10663551 0.52748876 0.69030605\n",
            "  0.24954042 0.3358719  0.17929408 0.041222   0.80289947 0.39691077\n",
            "  0.7204268  0.77345779 0.66523003 0.59954507 0.76378424 0.79570975\n",
            "  0.51425342 0.63326156 0.64757267 0.5501053  0.52985013 0.54851862\n",
            "  0.52206831 0.42090218 0.26550635 0.2973048  0.30791561 0.61259027\n",
            "  0.3827241  0.35261254 0.33205393 0.81449773 0.44956205 0.66094718\n",
            "  0.15531431 0.35672227 0.20486785 0.50861153 0.079852   0.73755955\n",
            "  0.49267121 0.91183207 0.15395428 0.44748654 0.         0.60035177\n",
            "  0.56059516 0.19603372 0.62074541 0.68184604 0.26599147 0.44950243\n",
            "  0.75217817 0.48590185 0.73487023 0.65992162 0.87170234 0.42906772\n",
            "  0.42589077 0.03627015 0.7139916  0.36715737 0.23030387 0.47265942\n",
            "  0.30890567 0.69865985 0.58867641 0.31312022 0.61656187 0.6832126\n",
            "  0.28978482 0.20929064 0.78355796 0.67641065 0.63969728 0.36475649\n",
            "  0.65479239 0.51313573 0.76137642 0.59884133 0.65807596 0.2804601\n",
            "  0.19943016 0.17125607 0.81860296 0.34841685 0.3938781  0.71148931\n",
            "  0.59238409 0.54479395 0.45149015 0.43385025]\n",
            " [0.3885264  0.12080915 0.62849688 0.12863497 0.26925455 0.32136878\n",
            "  0.13968318 0.6979754  0.40624    0.68697776 0.30523196 0.13829025\n",
            "  0.65839825 0.8362032  0.59542883 0.60037914 0.32837015 0.51739697\n",
            "  0.57815462 0.51023385 0.22419146 0.42490765 0.29029458 0.23848435\n",
            "  0.11116492 0.31188803 0.24018341 0.48884379 0.6380152  0.41218758\n",
            "  0.07955659 0.19171326 0.81061415 0.37351732 0.2935444  0.16558281\n",
            "  0.81414262 0.36065911 0.35919217 0.44529695 0.21157437 0.34493654\n",
            "  0.71333427 0.32524315 0.4942165  0.38110823 0.66909578 0.23572495\n",
            "  0.7105577  0.44014297 0.75420521 0.71353497 0.60035177 0.\n",
            "  0.08531036 0.50346589 0.2069399  0.27300434 0.78625765 0.54505519\n",
            "  0.21209208 0.74225245 0.40014703 0.15712711 0.55241492 0.90721582\n",
            "  0.36432249 0.60934239 0.30080158 0.5877512  0.42758872 0.93211362\n",
            "  0.30305715 0.41137993 0.51615026 0.28996309 0.43053819 0.26246451\n",
            "  0.77403293 0.80828997 0.55552411 0.26560426 0.3400465  0.48758948\n",
            "  0.44511077 0.26931958 0.16227835 0.37913588 0.31672374 0.76819838\n",
            "  0.74502923 0.63029663 0.46834922 0.28184981 0.61473984 0.46843973\n",
            "  0.11390488 0.88702913 0.50336798 0.83744089]\n",
            " [0.45038974 0.12603179 0.62226062 0.06449191 0.35456362 0.28088876\n",
            "  0.22403349 0.67880768 0.34569324 0.63928699 0.22006893 0.22345259\n",
            "  0.65025694 0.77190327 0.53433189 0.55536127 0.41343642 0.53783357\n",
            "  0.49708928 0.43786256 0.16581485 0.34141437 0.37496292 0.32087997\n",
            "  0.04638117 0.38108871 0.17347993 0.40355146 0.67080423 0.3271164\n",
            "  0.09246012 0.13970728 0.75295246 0.30769937 0.25439109 0.09853079\n",
            "  0.810877   0.2866728  0.2885775  0.38699087 0.1359588  0.27047928\n",
            "  0.66077416 0.25381545 0.48234785 0.2958229  0.62393709 0.32083751\n",
            "  0.62872845 0.52545287 0.71406448 0.63400135 0.56059516 0.08531036\n",
            "  0.         0.44232957 0.28074683 0.35157399 0.76783357 0.57234436\n",
            "  0.29686926 0.76070862 0.33262611 0.11687523 0.48972603 0.83886575\n",
            "  0.39255489 0.56505151 0.38121532 0.5100307  0.41505295 0.86142653\n",
            "  0.25305201 0.33728529 0.5656174  0.24800239 0.3478432  0.34187456\n",
            "  0.76110774 0.764657   0.48084601 0.2031343  0.26291241 0.40919277\n",
            "  0.36459097 0.31719344 0.22630463 0.43877686 0.38925956 0.70447739\n",
            "  0.68941423 0.570656   0.40747299 0.27746961 0.62992614 0.39198513\n",
            "  0.18692613 0.89932812 0.42003296 0.8391768 ]\n",
            " [0.64438209 0.56323267 0.41503963 0.46860802 0.72976475 0.20684748\n",
            "  0.60023222 0.38760345 0.59600123 0.22250573 0.3521561  0.62018933\n",
            "  0.42399689 0.33322921 0.09213667 0.16458642 0.76985947 0.49965253\n",
            "  0.52442825 0.58190142 0.51041104 0.40824918 0.72840896 0.7286955\n",
            "  0.39916178 0.6329057  0.48795016 0.35422202 0.65105823 0.35719258\n",
            "  0.43437713 0.31177807 0.31119345 0.1366435  0.23062137 0.46893749\n",
            "  0.57215894 0.1784966  0.16435674 0.63300689 0.31132268 0.48237854\n",
            "  0.22785525 0.19711866 0.31127746 0.32034493 0.21886113 0.68997304\n",
            "  0.33396486 0.88549926 0.31828551 0.30155063 0.19603372 0.50346589\n",
            "  0.44232957 0.         0.5879108  0.66011883 0.46193452 0.55466344\n",
            "  0.69086133 0.64397832 0.55305835 0.52124861 0.68212736 0.40913877\n",
            "  0.46488225 0.17538988 0.69460596 0.19117672 0.29006641 0.43963527\n",
            "  0.20531003 0.51298694 0.66186936 0.22833574 0.42526448 0.65775087\n",
            "  0.48336688 0.3520962  0.58941599 0.51343419 0.46076945 0.16909944\n",
            "  0.46351041 0.51115228 0.6639504  0.62593254 0.65506039 0.26505924\n",
            "  0.25006823 0.12846422 0.63435535 0.32874755 0.53103896 0.52050222\n",
            "  0.53212119 0.72527563 0.25597907 0.62076386]\n",
            " [0.1911929  0.31156122 0.56368317 0.33454886 0.15842332 0.38127695\n",
            "  0.09898403 0.6596953  0.61269984 0.72234278 0.4922142  0.13424042\n",
            "  0.59596863 0.91288026 0.67322537 0.63435481 0.18386956 0.39923391\n",
            "  0.77692633 0.71630007 0.43101554 0.61869532 0.14352968 0.2009441\n",
            "  0.28160342 0.10688438 0.44686716 0.66971255 0.48415823 0.59814655\n",
            "  0.20335931 0.31204988 0.86810901 0.48309766 0.35745911 0.37167899\n",
            "  0.73159962 0.4932364  0.48276696 0.65113541 0.36743817 0.54989483\n",
            "  0.76056096 0.45481842 0.45640742 0.56068431 0.69876814 0.12159527\n",
            "  0.85603051 0.29794464 0.7658709  0.84804931 0.62074541 0.2069399\n",
            "  0.28074683 0.5879108  0.         0.07665101 0.74124799 0.40867174\n",
            "  0.15421578 0.61400864 0.60701881 0.36231503 0.75898145 0.9949993\n",
            "  0.24961834 0.64075754 0.11072171 0.71876679 0.40126793 1.02731645\n",
            "  0.38766339 0.61663777 0.33501619 0.36071348 0.62643921 0.07117595\n",
            "  0.71626662 0.82669127 0.76065806 0.47253686 0.54338935 0.62549387\n",
            "  0.64495163 0.1284187  0.25415929 0.18616453 0.10978396 0.84542911\n",
            "  0.79931763 0.70188098 0.67471887 0.27383929 0.50067616 0.67241154\n",
            "  0.09412145 0.7668554  0.66233987 0.74241714]\n",
            " [0.1676286  0.36631575 0.60236076 0.40163896 0.12461633 0.45327466\n",
            "  0.14308092 0.70497425 0.67425429 0.78531471 0.56632167 0.16908467\n",
            "  0.63469354 0.9820238  0.74390821 0.69805321 0.12389509 0.42205527\n",
            "  0.84865762 0.78297163 0.49448109 0.69176432 0.09070964 0.19295558\n",
            "  0.35595863 0.08083157 0.51260121 0.74508523 0.48368033 0.67271238\n",
            "  0.27854744 0.38868524 0.93419634 0.55844549 0.43039443 0.43854604\n",
            "  0.76029637 0.56966743 0.55889574 0.71126687 0.44367694 0.61793099\n",
            "  0.82550417 0.53125292 0.50680192 0.63599009 0.760823   0.10229865\n",
            "  0.9324463  0.23022676 0.82316375 0.92394216 0.68184604 0.27300434\n",
            "  0.35157399 0.66011883 0.07665101 0.         0.78309175 0.42158018\n",
            "  0.15253628 0.62461777 0.67173571 0.42362332 0.82041828 1.06553777\n",
            "  0.28507526 0.70386585 0.03465426 0.7946544  0.45678228 1.09882296\n",
            "  0.46201676 0.68437984 0.31983222 0.43426387 0.69894967 0.01287926\n",
            "  0.75427023 0.88496476 0.82852124 0.53655038 0.61264828 0.70186437\n",
            "  0.7161154  0.17160838 0.28376113 0.17029864 0.06512977 0.91498095\n",
            "  0.86527378 0.7714479  0.73584832 0.33965698 0.52133258 0.74130762\n",
            "  0.16537643 0.77868704 0.73895644 0.76590219]\n",
            " [0.66624893 0.89059915 0.1822561  0.8202252  0.89811596 0.49579425\n",
            "  0.809553   0.08903807 1.02550661 0.29118946 0.77853107 0.84324097\n",
            "  0.15060767 0.49485267 0.43458683 0.30107966 0.90639666 0.3841377\n",
            "  0.98611099 1.03443161 0.89697867 0.86103437 0.87308425 0.93774423\n",
            "  0.72259169 0.71494708 0.88375512 0.81563824 0.44696486 0.81031436\n",
            "  0.70724424 0.63415936 0.40403865 0.55081866 0.51883172 0.83728374\n",
            "  0.14670997 0.60839592 0.58605352 1.06614026 0.67971194 0.91189239\n",
            "  0.33548682 0.60559173 0.29340408 0.76859256 0.27317813 0.86274214\n",
            "  0.74058785 0.99979252 0.20937677 0.69024948 0.26599147 0.78625765\n",
            "  0.76783357 0.46193452 0.74124799 0.78309175 0.         0.41578423\n",
            "  0.89112956 0.33134059 0.98756387 0.87843286 1.13044323 0.5815859\n",
            "  0.4980647  0.29128261 0.80923528 0.62715701 0.35893738 0.62965742\n",
            "  0.53497313 0.95493373 0.57713356 0.52752791 0.877965   0.78860735\n",
            "  0.05152197 0.24860756 1.04699231 0.91451599 0.89123925 0.63074763\n",
            "  0.91599842 0.61497886 0.93688622 0.65093332 0.73989587 0.46723794\n",
            "  0.36868834 0.41464288 1.07269251 0.50540141 0.31481991 0.97219002\n",
            "  0.74459053 0.32195487 0.7174631  0.20123605]\n",
            " [0.27122336 0.66577508 0.24349902 0.63662305 0.54599279 0.41697429\n",
            "  0.50135325 0.36225181 0.90780896 0.54982355 0.69948601 0.53815243\n",
            "  0.27033471 0.78474661 0.59861698 0.48516903 0.53523461 0.05508605\n",
            "  0.97888147 0.97074189 0.73602741 0.82085562 0.51037963 0.60636416\n",
            "  0.54022651 0.34236201 0.73727444 0.82382959 0.10456744 0.77968235\n",
            "  0.48327075 0.48882159 0.70872276 0.54108235 0.4186498  0.6677721\n",
            "  0.35229347 0.58867623 0.56612408 0.95045276 0.55950013 0.81103149\n",
            "  0.60214091 0.56138399 0.25092266 0.7330952  0.52131364 0.51860525\n",
            "  0.88820912 0.61049161 0.53746291 0.85557386 0.44950243 0.54505519\n",
            "  0.57234436 0.55466344 0.40867174 0.42158018 0.41578423 0.\n",
            "  0.56073192 0.2053369  0.88459156 0.68712651 1.04396537 0.87821212\n",
            "  0.18103922 0.48434272 0.43868915 0.74299011 0.26592181 0.92214505\n",
            "  0.45814651 0.87233683 0.16135073 0.42974943 0.83489816 0.43086457\n",
            "  0.3739125  0.59928403 1.00214083 0.76916213 0.79566674 0.68757289\n",
            "  0.86672263 0.28800059 0.65389433 0.26009592 0.36419326 0.72975588\n",
            "  0.64646057 0.60673093 0.96715185 0.31728514 0.10737613 0.91298189\n",
            "  0.45596449 0.35853646 0.76221863 0.3489548 ]\n",
            " [0.31948286 0.26050239 0.71554265 0.32679342 0.06461149 0.49088958\n",
            "  0.09113469 0.80784947 0.57044284 0.84938881 0.51524557 0.07445612\n",
            "  0.74770744 1.02299881 0.7807524  0.7609268  0.12960609 0.55323665\n",
            "  0.77629608 0.69162654 0.40188918 0.62989089 0.10316919 0.04691134\n",
            "  0.3206892  0.230822   0.42607269 0.6992483  0.63086478 0.62150602\n",
            "  0.26060053 0.38633798 0.98712602 0.57005954 0.46413661 0.36006978\n",
            "  0.88557153 0.5656563  0.56102796 0.60321743 0.42048893 0.53524789\n",
            "  0.8831763  0.52858254 0.60225464 0.59235983 0.82774417 0.0528693\n",
            "  0.92112402 0.23141943 0.90178053 0.92184034 0.75217817 0.21209208\n",
            "  0.29686926 0.69086133 0.15421578 0.15253628 0.89112956 0.56073192\n",
            "  0.         0.76584989 0.57663561 0.329177   0.71368762 1.09967879\n",
            "  0.40356452 0.7683975  0.1567599  0.79452327 0.54314269 1.12795139\n",
            "  0.48555133 0.59877421 0.47123473 0.46430291 0.6337063  0.14022462\n",
            "  0.86797052 0.96082394 0.74045118 0.44366074 0.53481096 0.69554063\n",
            "  0.64363061 0.28232297 0.14465248 0.32052617 0.21763611 0.95481889\n",
            "  0.91923483 0.81282867 0.62972945 0.40479035 0.65457015 0.65865757\n",
            "  0.16104439 0.91926287 0.71515226 0.89662506]\n",
            " [0.46714256 0.86215025 0.23566971 0.82389637 0.74923261 0.56062938\n",
            "  0.7062639  0.32344054 1.08430371 0.5640717  0.85995698 0.74306839\n",
            "  0.23968254 0.79542865 0.66092022 0.52688621 0.73449932 0.22485555\n",
            "  1.1236297  1.1332144  0.92016964 0.97271706 0.71209774 0.81129648\n",
            "  0.72439605 0.54445748 0.91786918 0.95943149 0.15722152 0.92721642\n",
            "  0.6754423  0.66045095 0.70864215 0.66988371 0.57030487 0.85245489\n",
            "  0.20890518 0.72426469 0.70040211 1.1271065  0.72705888 0.98105855\n",
            "  0.61664967 0.70405728 0.34064997 0.88071117 0.53770323 0.72299965\n",
            "  0.97123533 0.80087876 0.5152013  0.92985313 0.48590185 0.74225245\n",
            "  0.76070862 0.64397832 0.61400864 0.62461777 0.33134059 0.2053369\n",
            "  0.76584989 0.         1.05672811 0.87722714 1.21415935 0.88742459\n",
            "  0.37950307 0.52182681 0.6395696  0.83425971 0.38916753 0.93462627\n",
            "  0.60495864 1.03846784 0.32982589 0.58156913 0.98806257 0.63438627\n",
            "  0.27999095 0.56776424 1.15945443 0.95015786 0.96382545 0.79991675\n",
            "  1.02264612 0.49235832 0.85793137 0.45857925 0.56505875 0.75310121\n",
            "  0.65804876 0.65704826 1.14139109 0.4895694  0.13212281 1.07299743\n",
            "  0.65878874 0.15409316 0.88239816 0.17918152]\n",
            " [0.78285858 0.31613343 0.879278   0.27308958 0.64108186 0.50663555\n",
            "  0.53164013 0.90212188 0.04685706 0.77532479 0.20904427 0.51612188\n",
            "  0.90155638 0.81395449 0.62610244 0.71209423 0.70569478 0.84299753\n",
            "  0.22774143 0.11550038 0.17749894 0.16743117 0.67350279 0.58005124\n",
            "  0.3513798  0.7109489  0.16035862 0.26431497 0.98706854 0.21019836\n",
            "  0.42374994 0.39717915 0.83258984 0.43825298 0.49113361 0.23608166\n",
            "  1.06514798 0.38225964 0.40316203 0.07996095 0.32974308 0.0767199\n",
            "  0.77410346 0.38197236 0.73828401 0.23556872 0.77149822 0.61671495\n",
            "  0.5416292  0.80371641 0.8708766  0.57547743 0.73487023 0.40014703\n",
            "  0.33262611 0.55305835 0.60701881 0.67173571 0.98756387 0.88459156\n",
            "  0.57663561 1.05672811 0.         0.24972629 0.15964034 0.84944011\n",
            "  0.71107841 0.7230998  0.69736686 0.49485814 0.67661851 0.85400047\n",
            "  0.46279396 0.0518189  0.89566508 0.48027028 0.15439415 0.6605899\n",
            "  0.99522502 0.90423684 0.16587252 0.13526442 0.09649999 0.41671597\n",
            "  0.12837698 0.64852182 0.44649959 0.77139711 0.71677886 0.75722278\n",
            "  0.78564806 0.6635048  0.08591303 0.5695693  0.92472463 0.1009383\n",
            "  0.51336501 1.18192152 0.35891903 1.10305864]\n",
            " [0.54564365 0.07220134 0.7372847  0.05821948 0.39316101 0.385216\n",
            "  0.2823204  0.78944073 0.25078409 0.73067847 0.2212267  0.26651426\n",
            "  0.7647476  0.84015767 0.61115302 0.65033556 0.45729848 0.653892\n",
            "  0.44926737 0.36357546 0.07285183 0.31251131 0.42417289 0.33753744\n",
            "  0.1579506  0.46828281 0.09774379 0.39582447 0.7842042  0.31626566\n",
            "  0.20397367 0.24444308 0.83145366 0.38472988 0.36044592 0.0542282\n",
            "  0.92619082 0.34934917 0.35830581 0.28882039 0.21249229 0.20672849\n",
            "  0.7466894  0.32441739 0.59648288 0.30005875 0.71793815 0.36739208\n",
            "  0.65266429 0.55902066 0.81160406 0.66761686 0.65992162 0.15712711\n",
            "  0.11687523 0.52124861 0.36231503 0.42362332 0.87843286 0.68712651\n",
            "  0.329177   0.87722714 0.24972629 0.         0.39707239 0.89903813\n",
            "  0.50656173 0.6605487  0.4482533  0.55270309 0.5294018  0.91654249\n",
            "  0.35144126 0.26959981 0.67089671 0.35257473 0.31324049 0.41216313\n",
            "  0.87385364 0.8587625  0.41168473 0.11498583 0.20833203 0.45306325\n",
            "  0.31799821 0.42251116 0.21071946 0.53609432 0.47180444 0.77449987\n",
            "  0.77130124 0.64888019 0.31262234 0.39403308 0.74664229 0.32959202\n",
            "  0.27066636 1.01620302 0.44126181 0.95533808]\n",
            " [0.93867485 0.45656299 1.0311683  0.42822296 0.7782182  0.65982669\n",
            "  0.67826251 1.04691097 0.14630976 0.90100852 0.3579678  0.65906414\n",
            "  1.05217208 0.90775725 0.74566071 0.8453547  0.84325663 1.00190377\n",
            "  0.22517602 0.10404926 0.32833247 0.27417079 0.8139771  0.71075746\n",
            "  0.51054542 0.86429432 0.31626436 0.34887078 1.14659605 0.32506651\n",
            "  0.58160734 0.55592499 0.93888058 0.57980156 0.64605752 0.39179525\n",
            "  1.2150659  0.5220625  0.54462058 0.11047032 0.48731545 0.23340639\n",
            "  0.89326685 0.52785173 0.89141325 0.36310328 0.90046103 0.75756668\n",
            "  0.60014755 0.93401645 0.99962741 0.6439831  0.87170234 0.55241492\n",
            "  0.48972603 0.68212736 0.75898145 0.82041828 1.13044323 1.04396537\n",
            "  0.71368762 1.21415935 0.15964034 0.39707239 0.         0.92960267\n",
            "  0.87071838 0.85632553 0.84409841 0.58962778 0.83130625 0.92658394\n",
            "  0.61547235 0.17756839 1.05435799 0.63500164 0.25723785 0.80879378\n",
            "  1.14134114 1.02723787 0.12456958 0.28770646 0.2503485  0.5290554\n",
            "  0.21921705 0.80661594 0.57537299 0.92779598 0.86864842 0.85743733\n",
            "  0.89912567 0.78136945 0.08460311 0.72836993 1.08233178 0.16232144\n",
            "  0.66629595 1.33686079 0.45570453 1.25473082]\n",
            " [1.03067207 0.95193422 0.66142963 0.85329986 1.13883622 0.614072\n",
            "  1.00922092 0.56446922 0.89629293 0.32986314 0.69254359 1.02842059\n",
            "  0.64979196 0.09362925 0.32177738 0.39585364 1.17789248 0.82594392\n",
            "  0.71411595 0.82707526 0.86990955 0.68210007 1.1365891  1.13679434\n",
            "  0.79895662 1.03165142 0.84205474 0.58829743 0.95444394 0.64123443\n",
            "  0.84161787 0.71699137 0.17923348 0.53369858 0.63901566 0.84482477\n",
            "  0.72817151 0.55359591 0.55029006 0.9226219  0.70320273 0.7970755\n",
            "  0.27678357 0.58505804 0.63281614 0.62790261 0.35815266 1.09902113\n",
            "  0.33772609 1.29293905 0.37542581 0.28756732 0.42906772 0.90721582\n",
            "  0.83886575 0.40913877 0.9949993  1.06553777 0.5815859  0.87821212\n",
            "  1.09967879 0.88742459 0.84944011 0.89903813 0.92960267 0.\n",
            "  0.84144618 0.39519019 1.09972812 0.35704574 0.64651397 0.04807935\n",
            "  0.61428074 0.79922819 1.01645959 0.63727469 0.69594598 1.06395937\n",
            "  0.62902161 0.33429951 0.80970979 0.85984564 0.77706523 0.44964321\n",
            "  0.72767279 0.90879142 1.06453055 1.01209059 1.05500396 0.15308802\n",
            "  0.2328648  0.29490782 0.91318901 0.72786922 0.81514623 0.77789268\n",
            "  0.94125679 0.90350825 0.49096428 0.78281236]\n",
            " [0.19124286 0.48493335 0.31738936 0.45700026 0.40244708 0.28361432\n",
            "  0.33289517 0.42114331 0.73186878 0.53249014 0.53577431 0.36935484\n",
            "  0.34974116 0.75141684 0.5311724  0.45077018 0.40835148 0.15574099\n",
            "  0.82273936 0.80245831 0.55726965 0.66161751 0.37530419 0.45041369\n",
            "  0.36254004 0.21890162 0.560103   0.67742655 0.27831786 0.6245461\n",
            "  0.30259487 0.32114497 0.68983007 0.41245403 0.27581959 0.48905315\n",
            "  0.48201492 0.45039471 0.43037744 0.77426951 0.39322987 0.63927852\n",
            "  0.57898464 0.41770059 0.23109508 0.57890865 0.50554416 0.36905794\n",
            "  0.7852786  0.50485314 0.55381388 0.76160632 0.42589077 0.36432249\n",
            "  0.39255489 0.46488225 0.24961834 0.28507526 0.4980647  0.18103922\n",
            "  0.40356452 0.37950307 0.71107841 0.50656173 0.87071838 0.84144618\n",
            "  0.         0.4541034  0.31143423 0.63850457 0.1964615  0.88059041\n",
            "  0.31710585 0.70250979 0.20645765 0.2856675  0.67446837 0.29090637\n",
            "  0.46957822 0.61695898 0.83695197 0.59164841 0.62522883 0.56626709\n",
            "  0.70385365 0.12124782 0.48054654 0.1729506  0.24417909 0.68838771\n",
            "  0.62192181 0.54995788 0.7921014  0.16031123 0.25652178 0.74678094\n",
            "  0.28027965 0.52801218 0.63075061 0.49419662]\n",
            " [0.64526788 0.69081052 0.28630408 0.60408141 0.79538203 0.28799875\n",
            "  0.67798318 0.22606815 0.7646301  0.08158572 0.51751909 0.70471897\n",
            "  0.28476563 0.30239283 0.14655077 0.01100997 0.82379999 0.43136738\n",
            "  0.69855289 0.75678854 0.66187196 0.58294024 0.78417466 0.81116132\n",
            "  0.51894045 0.65799903 0.64284128 0.52887411 0.56571057 0.53184488\n",
            "  0.53208776 0.42559088 0.23572781 0.28862201 0.31580271 0.61178511\n",
            "  0.41376803 0.34165484 0.32248231 0.80297388 0.44865661 0.65029261\n",
            "  0.12488202 0.34957068 0.23767428 0.49353874 0.05987645 0.75594082\n",
            "  0.45930511 0.93408156 0.15168963 0.41318307 0.03627015 0.60934239\n",
            "  0.56505151 0.17538988 0.64075754 0.70386585 0.29128261 0.48434272\n",
            "  0.7683975  0.52182681 0.7230998  0.6605487  0.85632553 0.39519019\n",
            "  0.4541034  0.         0.73650796 0.33714695 0.25769491 0.43819631\n",
            "  0.31203822 0.68515699 0.62151205 0.31984046 0.59997045 0.70469523\n",
            "  0.31875938 0.19965937 0.76480584 0.67084117 0.62885717 0.34175701\n",
            "  0.6382396  0.53680598 0.77118948 0.62688084 0.68258935 0.24541887\n",
            "  0.16813532 0.13576664 0.80589694 0.36714296 0.43005731 0.6951617\n",
            "  0.60782252 0.57809027 0.427909   0.46569602]\n",
            " [0.17521308 0.38828561 0.62782538 0.42918278 0.11506957 0.48777235\n",
            "  0.16596435 0.73239229 0.69823284 0.81787401 0.59754627 0.18723092\n",
            "  0.66008488 1.01595753 0.77816292 0.73084499 0.09792367 0.44286362\n",
            "  0.87811753 0.80951036 0.51988216 0.72219025 0.07309772 0.1916072\n",
            "  0.38760705 0.09692731 0.53910026 0.77719064 0.49484739 0.70419932\n",
            "  0.31090078 0.42268437 0.96746619 0.59305945 0.46498573 0.46584549\n",
            "  0.78181582 0.60395083 0.59334261 0.73444592 0.47674002 0.64544084\n",
            "  0.85853571 0.56553317 0.53624065 0.6680792  0.7931602  0.10393816\n",
            "  0.9667439  0.19788503 0.8541472  0.95847157 0.7139916  0.30080158\n",
            "  0.38121532 0.69460596 0.11072171 0.03465426 0.80923528 0.43868915\n",
            "  0.1567599  0.6395696  0.69736686 0.4482533  0.84409841 1.09972812\n",
            "  0.31143423 0.73650796 0.         0.82918302 0.48778629 1.13317433\n",
            "  0.49667086 0.71163142 0.32641745 0.46889485 0.72900576 0.04033088\n",
            "  0.77914513 0.91618772 0.85568397 0.56210348 0.64084804 0.73619301\n",
            "  0.74531554 0.20194125 0.29597364 0.18135667 0.07457393 0.94900529\n",
            "  0.89853303 0.80550103 0.75949601 0.37328629 0.54070065 0.76914486\n",
            "  0.19647516 0.7936076  0.77258351 0.78544919]\n",
            " [0.80659282 0.61165028 0.6030974  0.51251236 0.84318827 0.3590571\n",
            "  0.70844958 0.56240924 0.54158369 0.34798787 0.33851828 0.72036739\n",
            "  0.60954717 0.32008711 0.19279331 0.32818331 0.8921021  0.68820608\n",
            "  0.39274212 0.48559083 0.51690988 0.32854599 0.85059995 0.82556479\n",
            "  0.47658739 0.78150203 0.48810259 0.24089318 0.84093033 0.28521219\n",
            "  0.53505638 0.41106657 0.35081267 0.23751291 0.37461202 0.49877841\n",
            "  0.74988145 0.22904264 0.23638367 0.57017355 0.37622179 0.44017821\n",
            "  0.32371426 0.26673806 0.50228564 0.2710245  0.35830365 0.80475207\n",
            "  0.14691532 1.00877504 0.44854889 0.12928855 0.36715737 0.5877512\n",
            "  0.5100307  0.19117672 0.71876679 0.7946544  0.62715701 0.74299011\n",
            "  0.79452327 0.83425971 0.49485814 0.55270309 0.58962778 0.35704574\n",
            "  0.63850457 0.33714695 0.82918302 0.         0.47715859 0.36761722\n",
            "  0.33708783 0.44573087 0.84127157 0.36779826 0.34340176 0.78993987\n",
            "  0.65588661 0.45970947 0.47757561 0.50422499 0.42005946 0.10102918\n",
            "  0.37754971 0.66478329 0.73504552 0.78865882 0.80125142 0.26782388\n",
            "  0.31891869 0.21794456 0.56312694 0.48830447 0.72221216 0.43105765\n",
            "  0.6466959  0.90957608 0.13640819 0.80076669]\n",
            " [0.3875752  0.53473525 0.20827756 0.4718436  0.55950683 0.17240872\n",
            "  0.45727092 0.27124916 0.7080591  0.33665563 0.47420384 0.48926291\n",
            "  0.2353503  0.55574342 0.34331479 0.25431433 0.57964537 0.21134896\n",
            "  0.73469276 0.74661317 0.55796527 0.58382802 0.5419648  0.58879449\n",
            "  0.37152365 0.40400024 0.54990973 0.57197674 0.36562103 0.53805669\n",
            "  0.34891773 0.29031979 0.49340456 0.28318712 0.18549202 0.49365444\n",
            "  0.39738463 0.33590235 0.31221629 0.75052814 0.34898856 0.60005851\n",
            "  0.38256425 0.31489144 0.06734875 0.49157722 0.31014654 0.52155638\n",
            "  0.62272954 0.68550006 0.36639995 0.59160072 0.23030387 0.42758872\n",
            "  0.41505295 0.29006641 0.40126793 0.45678228 0.35893738 0.26592181\n",
            "  0.54314269 0.38916753 0.67661851 0.5294018  0.83130625 0.64651397\n",
            "  0.1964615  0.25769491 0.48778629 0.47715859 0.         0.68666204\n",
            "  0.21697273 0.65421445 0.37635209 0.1964196  0.59933059 0.45931927\n",
            "  0.34721632 0.42842344 0.77115786 0.5819844  0.5815996  0.42370028\n",
            "  0.63436501 0.28588159 0.5784579  0.36918623 0.42901257 0.49368611\n",
            "  0.42546084 0.35814465 0.76229487 0.14651411 0.26148629 0.68571695\n",
            "  0.3898299  0.50556935 0.50140999 0.429761  ]\n",
            " [1.06889925 0.97170926 0.7077149  0.87266836 1.16882031 0.64604025\n",
            "  1.03795499 0.61189879 0.90081761 0.37532334 0.70584956 1.05595587\n",
            "  0.69661198 0.13950209 0.3554276  0.43827663 1.2094932  0.86949311\n",
            "  0.70762382 0.82518262 0.88405517 0.68664318 1.16804362 1.16404988\n",
            "  0.8227673  1.0672616  0.85551936 0.59069431 0.99972634 0.64808626\n",
            "  0.86863751 0.74330763 0.2269775  0.55923369 0.67024421 0.86233478\n",
            "  0.77623311 0.57495208 0.5734538  0.92533474 0.72547653 0.80495808\n",
            "  0.32207976 0.60795031 0.67541166 0.6381057  0.40343161 1.12910719\n",
            "  0.32837532 1.32505988 0.42330458 0.28267746 0.47265942 0.93211362\n",
            "  0.86142653 0.43963527 1.02731645 1.09882296 0.62965742 0.92214505\n",
            "  1.12795139 0.93462627 0.85400047 0.91654249 0.92658394 0.04807935\n",
            "  0.88059041 0.43819631 1.13317433 0.36761722 0.68666204 0.\n",
            "  0.64362775 0.80313086 1.05851237 0.6678766  0.69976887 1.09683294\n",
            "  0.67704051 0.38234644 0.80500354 0.8718249  0.78547509 0.46421354\n",
            "  0.72998488 0.94449887 1.08762266 1.0503034  1.09030371 0.19347754\n",
            "  0.27857983 0.3314487  0.9145234  0.7627796  0.86082252 0.7783801\n",
            "  0.97071771 0.95157323 0.49780591 0.83088105]\n",
            " [0.471618   0.37877441 0.41649009 0.29396736 0.52519938 0.04457194\n",
            "  0.39495482 0.44696631 0.49674048 0.38662767 0.25770148 0.41508063\n",
            "  0.43901047 0.53791693 0.29568095 0.3023124  0.56730466 0.40824185\n",
            "  0.52228835 0.52966034 0.36257417 0.36799786 0.52569909 0.52360857\n",
            "  0.20705515 0.44456332 0.34878508 0.36587175 0.5624956  0.32377342\n",
            "  0.23045751 0.11399283 0.50786906 0.10009049 0.04129258 0.30566673\n",
            "  0.6027856  0.1334606  0.11336072 0.53865977 0.14489814 0.38607522\n",
            "  0.41058108 0.10329057 0.27595889 0.27705725 0.370891   0.48550952\n",
            "  0.48051519 0.68358606 0.46166354 0.46561774 0.30890567 0.30305715\n",
            "  0.25305201 0.20531003 0.38766339 0.46201676 0.53497313 0.45814651\n",
            "  0.48555133 0.60495864 0.46279396 0.35144126 0.61547235 0.61428074\n",
            "  0.31710585 0.31203822 0.49667086 0.33708783 0.21697273 0.64362775\n",
            "  0.         0.4380478  0.5235588  0.03186949 0.38317833 0.4584728\n",
            "  0.53695806 0.51161167 0.55453571 0.37965503 0.36686297 0.25338971\n",
            "  0.41771913 0.32801978 0.46516473 0.45403886 0.46468765 0.46969855\n",
            "  0.44199094 0.32900814 0.54870087 0.15792982 0.47513797 0.4687519\n",
            "  0.3271397  0.72181544 0.31368588 0.64027135]\n",
            " [0.78642906 0.33969976 0.85360021 0.28274687 0.66268451 0.48246103\n",
            "  0.54715626 0.87067338 0.09803579 0.73443786 0.18042692 0.53476735\n",
            "  0.87465516 0.7654137  0.58287953 0.67414976 0.7266291  0.82870353\n",
            "  0.18656151 0.1012111  0.19702361 0.11728773 0.69270803 0.60581864\n",
            "  0.3494288  0.71832948 0.17343941 0.21290813 0.97579277 0.16276741\n",
            "  0.42540875 0.38353861 0.78636364 0.40415463 0.46923218 0.24585761\n",
            "  1.03764526 0.34691254 0.36891195 0.12468677 0.31318533 0.06681756\n",
            "  0.73107073 0.35079777 0.71394264 0.19291282 0.73183772 0.63603377\n",
            "  0.48984911 0.82832567 0.83126852 0.52404736 0.69865985 0.41137993\n",
            "  0.33728529 0.51298694 0.61663777 0.68437984 0.95493373 0.87233683\n",
            "  0.59877421 1.03846784 0.0518189  0.26959981 0.17756839 0.79922819\n",
            "  0.70250979 0.68515699 0.71163142 0.44573087 0.65421445 0.80313086\n",
            "  0.4380478  0.         0.8926966  0.45811179 0.10338268 0.67374629\n",
            "  0.96473378 0.86260644 0.14414603 0.15592122 0.07739075 0.37068514\n",
            "  0.0766912  0.64804992 0.47462551 0.77402047 0.72589917 0.70966475\n",
            "  0.74104577 0.61986615 0.12166109 0.55542017 0.90690506 0.0606937\n",
            "  0.52252027 1.15967724 0.30944664 1.07716752]\n",
            " [0.15225759 0.63371298 0.40323993 0.62897153 0.44100169 0.48959408\n",
            "  0.43399733 0.52182256 0.91124801 0.69302886 0.7336001  0.46892668\n",
            "  0.43105519 0.92389702 0.71966606 0.620606   0.4152686  0.20034564\n",
            "  1.02339646 0.99370007 0.73076462 0.86138721 0.39924433 0.51278257\n",
            "  0.54447013 0.24042356 0.73872402 0.88220473 0.17495498 0.82664329\n",
            "  0.47322646 0.51914043 0.85295569 0.61851916 0.48227496 0.6641421\n",
            "  0.50680417 0.65680238 0.63683423 0.95260317 0.59096466 0.82749286\n",
            "  0.7437937  0.62378923 0.38390944 0.78166742 0.66469685 0.42212063\n",
            "  0.98818568 0.47221347 0.69092282 0.96196896 0.58867641 0.51615026\n",
            "  0.5656174  0.66186936 0.33501619 0.31983222 0.57713356 0.16135073\n",
            "  0.47123473 0.32982589 0.89566508 0.67089671 1.05435799 1.01645959\n",
            "  0.20645765 0.62151205 0.32641745 0.84127157 0.37635209 1.05851237\n",
            "  0.5235588  0.8926966  0.         0.49208458 0.87341892 0.33156403\n",
            "  0.53489286 0.75363153 1.03117622 0.76874862 0.81541703 0.77196585\n",
            "  0.90089145 0.24875969 0.58897815 0.15104888 0.25521435 0.86504069\n",
            "  0.78803767 0.73350804 0.97287822 0.36638272 0.26573032 0.94063084\n",
            "  0.40890149 0.4805237  0.83720769 0.49614656]\n",
            " [0.44006504 0.37396759 0.40049202 0.29446414 0.50157421 0.03291252\n",
            "  0.37329875 0.43883926 0.51236117 0.39701576 0.27859318 0.39527611\n",
            "  0.42451022 0.55883589 0.31674397 0.31067299 0.54176763 0.38073018\n",
            "  0.54942186 0.55170576 0.36999023 0.39323491 0.50025793 0.50366414\n",
            "  0.20162365 0.414458   0.35861161 0.39527997 0.53425283 0.35039226\n",
            "  0.21422419 0.10889094 0.52468075 0.13148827 0.0113084  0.30981574\n",
            "  0.58833078 0.16472732 0.14507974 0.55467932 0.15477206 0.4036715\n",
            "  0.4243727  0.13303029 0.258592   0.303704   0.37944309 0.46174954\n",
            "  0.51176584 0.6576805  0.46694008 0.49598776 0.31312022 0.28996309\n",
            "  0.24800239 0.22833574 0.36071348 0.43426387 0.52752791 0.42974943\n",
            "  0.46430291 0.58156913 0.48027028 0.35257473 0.63500164 0.63727469\n",
            "  0.2856675  0.31984046 0.46889485 0.36779826 0.1964196  0.6678766\n",
            "  0.03186949 0.45811179 0.49208458 0.         0.40800316 0.43116751\n",
            "  0.52654755 0.5192765  0.57836073 0.39016317 0.38518254 0.2851472\n",
            "  0.44168171 0.29700306 0.45215312 0.42242869 0.43495983 0.49070557\n",
            "  0.45775537 0.34853288 0.56600721 0.12616116 0.45086308 0.49144068\n",
            "  0.30444478 0.7019601  0.34529829 0.62395683]\n",
            " [0.78138962 0.38536301 0.79022071 0.3070081  0.69545758 0.42743527\n",
            "  0.57016696 0.79629766 0.20112462 0.64378336 0.14004237 0.56421111\n",
            "  0.80879329 0.66342275 0.48893263 0.58903265 0.7571432  0.78768759\n",
            "  0.15172735 0.15690944 0.24770718 0.01703149 0.72023555 0.64780907\n",
            "  0.34619505 0.7218616  0.21777383 0.11010031 0.93938586 0.06812707\n",
            "  0.42524063 0.35438167 0.68718962 0.33050541 0.4193082  0.27404324\n",
            "  0.9697341  0.27246837 0.29606738 0.22698374 0.2824545  0.1212358\n",
            "  0.63684316 0.28549023 0.65445422 0.11027242 0.6433205  0.66470366\n",
            "  0.38847951 0.86511967 0.7424315  0.42116219 0.61656187 0.43053819\n",
            "  0.3478432  0.42526448 0.62643921 0.69894967 0.877965   0.83489816\n",
            "  0.6337063  0.98806257 0.15439415 0.31324049 0.25723785 0.69594598\n",
            "  0.67446837 0.59997045 0.72900576 0.34340176 0.59933059 0.69976887\n",
            "  0.38317833 0.10338268 0.87341892 0.40800316 0.         0.68951338\n",
            "  0.89163496 0.77028512 0.17243692 0.21475019 0.10958637 0.2732994\n",
            "  0.03826987 0.63713023 0.52394881 0.76725494 0.73278816 0.60883981\n",
            "  0.6443146  0.52504768 0.22002504 0.51903165 0.8582712  0.09523812\n",
            "  0.53368427 1.10106131 0.20699407 1.01207754]\n",
            " [0.17948468 0.35426932 0.60829518 0.39105937 0.1151662  0.45093522\n",
            "  0.13100133 0.70982405 0.66268356 0.78621353 0.55755503 0.15640774\n",
            "  0.64064752 0.98098248 0.74222292 0.69871214 0.12033924 0.43011062\n",
            "  0.83893442 0.77211001 0.48324238 0.68252695 0.08448133 0.18129553\n",
            "  0.34746031 0.09177439 0.50169212 0.7369551  0.49443643 0.66412693\n",
            "  0.27059902 0.38269472 0.9342008  0.55422221 0.42760892 0.42788872\n",
            "  0.76788486 0.56423021 0.55391059 0.69952354 0.43641577 0.60738136\n",
            "  0.82583914 0.52581326 0.51048966 0.62784399 0.76196747 0.09067494\n",
            "  0.92701576 0.23002008 0.82554751 0.91922127 0.6832126  0.26246451\n",
            "  0.34187456 0.65775087 0.07117595 0.01287926 0.78860735 0.43086457\n",
            "  0.14022462 0.63438627 0.6605899  0.41216313 0.80879378 1.06395937\n",
            "  0.29090637 0.70469523 0.04033088 0.78993987 0.45931927 1.09683294\n",
            "  0.4584728  0.67374629 0.33156403 0.43116751 0.68951338 0.\n",
            "  0.76042454 0.88713161 0.81786969 0.52536254 0.60235924 0.69652503\n",
            "  0.70626251 0.17531647 0.27088233 0.18155799 0.07745594 0.91377496\n",
            "  0.86530486 0.77020902 0.72420902 0.33939294 0.52981538 0.73089187\n",
            "  0.15642819 0.78841194 0.7323625  0.77421078]\n",
            " [0.63077831 0.88187486 0.15258737 0.81582409 0.87166139 0.49585377\n",
            "  0.78877768 0.09603626 1.03172974 0.3291527  0.78641518 0.82326828\n",
            "  0.12030583 0.54099589 0.46464483 0.3277481  0.87679398 0.34624639\n",
            "  1.00517121 1.04728004 0.89645659 0.87483636 0.84473789 0.91479327\n",
            "  0.71667729 0.68375437 0.88487389 0.83459854 0.39901577 0.8245682\n",
            "  0.69582982 0.63078962 0.45060974 0.56197179 0.5171819  0.83489906\n",
            "  0.10046795 0.62000014 0.59700499 1.07297129 0.68059132 0.91898562\n",
            "  0.37619153 0.61404424 0.2800592  0.7816155  0.30861292 0.83727985\n",
            "  0.77458944 0.96703521 0.25453732 0.72560678 0.28978482 0.77403293\n",
            "  0.76110774 0.48336688 0.71626662 0.75427023 0.05152197 0.3739125\n",
            "  0.86797052 0.27999095 0.99522502 0.87385364 1.14134114 0.62902161\n",
            "  0.46957822 0.31875938 0.77914513 0.65588661 0.34721632 0.67704051\n",
            "  0.53695806 0.96473378 0.53489286 0.52654755 0.89163496 0.76042454\n",
            "  0.         0.2976793  1.06218723 0.91615323 0.89872687 0.65240546\n",
            "  0.92937719 0.58870667 0.92089339 0.61610916 0.70841382 0.51022789\n",
            "  0.41165713 0.44780615 1.08082091 0.49218529 0.27027827 0.98498394\n",
            "  0.72558503 0.27523667 0.7392927  0.15525697]\n",
            " [0.80571961 0.89034417 0.36039053 0.80275018 0.98372049 0.48720455\n",
            "  0.87131676 0.24763881 0.94770277 0.13001373 0.70412094 0.89951813\n",
            "  0.34071627 0.25135276 0.28171869 0.20930097 1.00732519 0.5535731\n",
            "  0.84875663 0.92480238 0.85684114 0.75349158 0.96895761 1.00463771\n",
            "  0.71857699 0.83146695 0.83633184 0.68536208 0.65772247 0.70310806\n",
            "  0.73050818 0.62524331 0.1606877  0.48051771 0.51492728 0.80915012\n",
            "  0.39527022 0.52924047 0.51254314 0.98408758 0.646398   0.83435291\n",
            "  0.13633693 0.54233091 0.38610009 0.66974744 0.14093293 0.94484308\n",
            "  0.54194488 1.11392349 0.06340365 0.48713953 0.20929064 0.80828997\n",
            "  0.764657   0.3520962  0.82669127 0.88496476 0.24860756 0.59928403\n",
            "  0.96082394 0.56776424 0.90423684 0.8587625  1.02723787 0.33429951\n",
            "  0.61695898 0.19965937 0.91618772 0.45970947 0.42842344 0.38234644\n",
            "  0.51161167 0.86260644 0.75363153 0.5192765  0.77028512 0.88713161\n",
            "  0.2976793  0.         0.92592053 0.86315281 0.8127326  0.49890032\n",
            "  0.8080908  0.71430392 0.96980871 0.78804884 0.85663438 0.23758211\n",
            "  0.14720865 0.24718098 0.98425635 0.55633142 0.51699481 0.86491702\n",
            "  0.80140777 0.57030666 0.57852808 0.44959566]\n",
            " [0.92876122 0.48025278 0.96261093 0.4268922  0.8046681  0.59896259\n",
            "  0.69098107 0.96655875 0.18725715 0.80265781 0.30265559 0.67781537\n",
            "  0.9809842  0.79215017 0.64465498 0.75399324 0.86895343 0.95622573\n",
            "  0.10060655 0.05145532 0.33883299 0.18865227 0.83568414 0.74530587\n",
            "  0.49068574 0.86192427 0.31693511 0.2406546  1.10634719 0.2378915\n",
            "  0.56778199 0.51589193 0.82836071 0.50231841 0.58966405 0.38998554\n",
            "  1.14152949 0.44441471 0.46814677 0.17714839 0.44397315 0.21077448\n",
            "  0.79037398 0.45786762 0.8268139  0.28238515 0.80472612 0.77893588\n",
            "  0.47749701 0.96870707 0.90286837 0.52288823 0.78355796 0.55552411\n",
            "  0.48084601 0.58941599 0.76065806 0.82852124 1.04699231 1.00214083\n",
            "  0.74045118 1.15945443 0.16587252 0.41168473 0.12456958 0.80970979\n",
            "  0.83695197 0.76480584 0.85568397 0.47757561 0.77115786 0.80500354\n",
            "  0.55453571 0.14414603 1.03117622 0.57836073 0.17243692 0.81786969\n",
            "  1.06218723 0.92592053 0.         0.29683672 0.21838923 0.42771439\n",
            "  0.13681689 0.78870424 0.61219403 0.91596665 0.86981119 0.74470274\n",
            "  0.79269325 0.67878029 0.15169642 0.68504554 1.02917526 0.09055165\n",
            "  0.66653662 1.27347168 0.34803538 1.18426293]\n",
            " [0.65097096 0.18388514 0.78930354 0.14060544 0.507836   0.42032424\n",
            "  0.39640542 0.82661957 0.14263644 0.73318857 0.16819135 0.38147016\n",
            "  0.81425229 0.8108133  0.59734782 0.66007107 0.57212897 0.73102319\n",
            "  0.33939672 0.24859229 0.04229385 0.21810096 0.53915869 0.44990918\n",
            "  0.22915599 0.57715541 0.03232746 0.311752   0.86968344 0.23573035\n",
            "  0.2955389  0.29252434 0.8145497  0.38294717 0.40002548 0.10463614\n",
            "  0.97788726 0.3349376  0.35062977 0.18389312 0.23559457 0.09728676\n",
            "  0.74111058 0.32142156 0.64699195 0.2346369  0.72462825 0.48237738\n",
            "  0.58412465 0.67260705 0.82222059 0.60708459 0.67641065 0.26560426\n",
            "  0.2031343  0.51343419 0.47253686 0.53655038 0.91451599 0.76916213\n",
            "  0.44366074 0.95015786 0.13526442 0.11498583 0.28770646 0.85984564\n",
            "  0.59164841 0.67084117 0.56210348 0.50422499 0.5819844  0.8718249\n",
            "  0.37965503 0.15592122 0.76874862 0.39016317 0.21475019 0.52536254\n",
            "  0.91615323 0.86315281 0.29683672 0.         0.10517135 0.4106999\n",
            "  0.21185172 0.52029183 0.31901519 0.64017033 0.58231994 0.74840644\n",
            "  0.7598472  0.63566054 0.20459967 0.46064268 0.81817953 0.21646067\n",
            "  0.37924308 1.08230422 0.37846644 1.01174249]\n",
            " [0.7104463  0.28039349 0.78332159 0.21200406 0.59787345 0.41089891\n",
            "  0.47787179 0.80567293 0.13577741 0.68327511 0.11275034 0.46804008\n",
            "  0.80535084 0.73514463 0.53707829 0.61786657 0.66094296 0.75254153\n",
            "  0.24152923 0.1782923  0.13960235 0.11367306 0.62565763 0.54557891\n",
            "  0.27270524 0.64380995 0.11087317 0.21004453 0.89894667 0.13865669\n",
            "  0.34942052 0.30686922 0.74791625 0.34262989 0.39615874 0.1761061\n",
            "  0.9688666  0.2873433  0.30768165 0.17508537 0.23724046 0.02162794\n",
            "  0.68441953 0.28567788 0.6426385  0.15073912 0.67839334 0.56931629\n",
            "  0.48666517 0.7658041  0.77761103 0.51367168 0.63969728 0.3400465\n",
            "  0.26291241 0.46076945 0.54338935 0.61264828 0.89123925 0.79566674\n",
            "  0.53481096 0.96382545 0.09649999 0.20833203 0.2503485  0.77706523\n",
            "  0.62522883 0.62885717 0.64084804 0.42005946 0.5815996  0.78547509\n",
            "  0.36686297 0.07739075 0.81541703 0.38518254 0.10958637 0.60235924\n",
            "  0.89872687 0.8127326  0.21838923 0.10517135 0.         0.33402783\n",
            "  0.10967029 0.57119464 0.41840888 0.69777846 0.65215939 0.67582418\n",
            "  0.69817628 0.57493027 0.18225385 0.47906994 0.83203215 0.12907281\n",
            "  0.44933651 1.08713408 0.28782765 1.00709507]\n",
            " [0.72482372 0.51099322 0.57734255 0.41180023 0.74545254 0.28268548\n",
            "  0.61047247 0.55656792 0.46256095 0.3749608  0.24296598 0.62122622\n",
            "  0.58893051 0.40160728 0.21722428 0.33129436 0.79581049 0.63391642\n",
            "  0.35692544 0.42611346 0.42037105 0.25688098 0.75446915 0.72574322\n",
            "  0.3764838  0.69356499 0.39241183 0.18825864 0.78899965 0.20808332\n",
            "  0.4371748  0.31488455 0.41589347 0.15427306 0.29347246 0.39897393\n",
            "  0.74030989 0.13235648 0.14402021 0.49494387 0.27602763 0.35505554\n",
            "  0.36427493 0.17074912 0.4602707  0.18334843 0.37779867 0.7074012\n",
            "  0.23062805 0.9123016  0.47536519 0.22630094 0.36475649 0.48758948\n",
            "  0.40919277 0.16909944 0.62549387 0.70186437 0.63074763 0.68757289\n",
            "  0.69554063 0.79991675 0.41671597 0.45306325 0.5290554  0.44964321\n",
            "  0.56626709 0.34175701 0.73619301 0.10102918 0.42370028 0.46421354\n",
            "  0.25338971 0.37068514 0.77196585 0.2851472  0.2732994  0.69652503\n",
            "  0.65240546 0.49890032 0.42771439 0.4106999  0.33402783 0.\n",
            "  0.31048249 0.58017505 0.63403079 0.70733383 0.71223666 0.34181621\n",
            "  0.3710551  0.25236513 0.49154017 0.41007384 0.68008952 0.36691\n",
            "  0.55023259 0.8899867  0.08688844 0.78809434]\n",
            " [0.80478909 0.39006133 0.8267966  0.31868228 0.70633445 0.4621474\n",
            "  0.58411572 0.83412378 0.17385725 0.68180583 0.16809182 0.57588937\n",
            "  0.84571338 0.69760308 0.52660876 0.6273022  0.76897295 0.82023714\n",
            "  0.13315107 0.11866553 0.2487452  0.05530116 0.73304793 0.65512465\n",
            "  0.36726999 0.74258178 0.22050286 0.13943135 0.97108433 0.10639693\n",
            "  0.44598992 0.38286794 0.72327031 0.36789877 0.4529883  0.28385059\n",
            "  1.00696785 0.3098147  0.33327895 0.19535316 0.31072748 0.11463972\n",
            "  0.67439574 0.32153343 0.69033783 0.14777137 0.6814947  0.67697496\n",
            "  0.4139661  0.87484219 0.78057186 0.44954134 0.65479239 0.44511077\n",
            "  0.36459097 0.46351041 0.64495163 0.7161154  0.91599842 0.86672263\n",
            "  0.64363061 1.02264612 0.12837698 0.31799821 0.21921705 0.72767279\n",
            "  0.70385365 0.6382396  0.74531554 0.37754971 0.63436501 0.72998488\n",
            "  0.41771913 0.0766912  0.90089145 0.44168171 0.03826987 0.70626251\n",
            "  0.92937719 0.8080908  0.13681689 0.21185172 0.10967029 0.31048249\n",
            "  0.         0.66190018 0.52799117 0.79112749 0.75249134 0.64404705\n",
            "  0.68129473 0.56254546 0.18585109 0.55005116 0.89243249 0.05701958\n",
            "  0.55143268 1.13708347 0.24140934 1.04898147]\n",
            " [0.14736453 0.38885332 0.43614725 0.38028361 0.28319218 0.30825815\n",
            "  0.2142423  0.53503095 0.66288335 0.61783839 0.49733532 0.25100634\n",
            "  0.46848438 0.82249242 0.58931909 0.53162537 0.29530771 0.27311016\n",
            "  0.7886345  0.74925796 0.48205187 0.62646595 0.25944191 0.32916654\n",
            "  0.2986327  0.12286378 0.49056235 0.65958945 0.37298896 0.59657885\n",
            "  0.22501631 0.28870993 0.76977416 0.42809049 0.2903056  0.41565617\n",
            "  0.60326274 0.45247316 0.43679914 0.70406396 0.35747976 0.58209815\n",
            "  0.65997849 0.41547141 0.33525604 0.55387063 0.59261794 0.24862876\n",
            "  0.80850803 0.39962229 0.65221116 0.79271794 0.51313573 0.26931958\n",
            "  0.31719344 0.51115228 0.1284187  0.17160838 0.61497886 0.28800059\n",
            "  0.28232297 0.49235832 0.64852182 0.42251116 0.80661594 0.90879142\n",
            "  0.12124782 0.53680598 0.20194125 0.66478329 0.28588159 0.94449887\n",
            "  0.32801978 0.64804992 0.24875969 0.29700306 0.63713023 0.17531647\n",
            "  0.58870667 0.71430392 0.78870424 0.52029183 0.57119464 0.58017505\n",
            "  0.66190018 0.         0.3658941  0.13149104 0.14656508 0.75657886\n",
            "  0.70089537 0.61389633 0.72465396 0.18248786 0.37468682 0.69828244\n",
            "  0.16939578 0.64368908 0.63169604 0.61485951]\n",
            " [0.44194624 0.13859964 0.77166765 0.22880674 0.20701106 0.48335627\n",
            "  0.15547593 0.84967615 0.4350771  0.84913314 0.42259332 0.1200531\n",
            "  0.80270962 0.99579665 0.75606141 0.76233119 0.27135257 0.63613908\n",
            "  0.65800938 0.56197851 0.27958102 0.52294244 0.24781687 0.13538465\n",
            "  0.26576312 0.35327035 0.30753902 0.60320646 0.73575765 0.52364549\n",
            "  0.23932461 0.3528917  0.97231097 0.53172579 0.45550512 0.25418434\n",
            "  0.9526341  0.5129762  0.51439542 0.46518863 0.36223825 0.41504395\n",
            "  0.87557803 0.47975406 0.6434899  0.50222469 0.83099662 0.19520994\n",
            "  0.84846513 0.35896199 0.91501386 0.85720829 0.76137642 0.16227835\n",
            "  0.22630463 0.6639504  0.25415929 0.28376113 0.93688622 0.65389433\n",
            "  0.14465248 0.85793137 0.44649959 0.21071946 0.57537299 1.06453055\n",
            "  0.48054654 0.77118948 0.29597364 0.73504552 0.5784579  1.08762266\n",
            "  0.46516473 0.47462551 0.58897815 0.45215312 0.52394881 0.27088233\n",
            "  0.92089339 0.96980871 0.61219403 0.31901519 0.41840888 0.63403079\n",
            "  0.52799117 0.3658941  0.         0.43903216 0.34602399 0.92800568\n",
            "  0.90702228 0.79140303 0.4924075  0.43207642 0.73705297 0.53529118\n",
            "  0.20057572 1.00825031 0.63734669 0.97089227]\n",
            " [0.01859755 0.49259535 0.46885163 0.4995848  0.29366937 0.42973104\n",
            "  0.2848622  0.58095389 0.78255795 0.70543791 0.62775429 0.3190594\n",
            "  0.50032695 0.92284773 0.69799319 0.62336195 0.27603606 0.271547\n",
            "  0.91891205 0.87514145 0.60031598 0.75693183 0.25429581 0.36279479\n",
            "  0.42531597 0.08985543 0.61175535 0.79107696 0.31393024 0.72780891\n",
            "  0.34864892 0.42019852 0.86257985 0.55390124 0.41471253 0.5360508\n",
            "  0.60899129 0.58157178 0.56494035 0.82274616 0.48869888 0.70756398\n",
            "  0.751745   0.54510336 0.40203261 0.68529033 0.67848641 0.27222651\n",
            "  0.93379432 0.35250339 0.72472893 0.9152861  0.59884133 0.37913588\n",
            "  0.43877686 0.62593254 0.18616453 0.17029864 0.65093332 0.26009592\n",
            "  0.32052617 0.45857925 0.77139711 0.53609432 0.92779598 1.01209059\n",
            "  0.1729506  0.62688084 0.18135667 0.78865882 0.36918623 1.0503034\n",
            "  0.45403886 0.77402047 0.15104888 0.42242869 0.76725494 0.18155799\n",
            "  0.61610916 0.78804884 0.91596665 0.64017033 0.69777846 0.70733383\n",
            "  0.79112749 0.13149104 0.43903216 0.         0.10732258 0.85901719\n",
            "  0.7945217  0.71895955 0.84466519 0.30062694 0.36490389 0.82581541\n",
            "  0.26731174 0.61252196 0.76163135 0.60880935]\n",
            " [0.10297291 0.41907705 0.55793473 0.44416629 0.18651288 0.44982686\n",
            "  0.19859388 0.66492839 0.72235006 0.76335599 0.59672647 0.22856536\n",
            "  0.5900561  0.96899081 0.73493388 0.6776347  0.17140437 0.36952596\n",
            "  0.88385744 0.82578415 0.54077779 0.72441097 0.14713536 0.25782874\n",
            "  0.38671318 0.02531979 0.55658642 0.77093469 0.42123122 0.70152337\n",
            "  0.30769516 0.40525372 0.91611314 0.56374585 0.42953793 0.4812998\n",
            "  0.70854501 0.58136197 0.56824211 0.76059241 0.46646198 0.65911179\n",
            "  0.80614082 0.54326248 0.47310249 0.66239496 0.73777275 0.16724606\n",
            "  0.94246293 0.2607049  0.79399719 0.93013795 0.65807596 0.31672374\n",
            "  0.38925956 0.65506039 0.10978396 0.06512977 0.73989587 0.36419326\n",
            "  0.21763611 0.56505875 0.71677886 0.47180444 0.86864842 1.05500396\n",
            "  0.24417909 0.68258935 0.07457393 0.80125142 0.42901257 1.09030371\n",
            "  0.46468765 0.72589917 0.25521435 0.43495983 0.73278816 0.07745594\n",
            "  0.70841382 0.85663438 0.86981119 0.58231994 0.65215939 0.71223666\n",
            "  0.75249134 0.14656508 0.34602399 0.10732258 0.         0.90295801\n",
            "  0.84726505 0.76009767 0.78433295 0.3275561  0.46665413 0.78123016\n",
            "  0.20357411 0.71911497 0.75606056 0.71135752]\n",
            " [0.87759694 0.82226625 0.52164578 0.72518456 0.99167986 0.46581225\n",
            "  0.86392029 0.43467875 0.80347069 0.18903567 0.58037705 0.88477446\n",
            "  0.51350391 0.06821899 0.17407682 0.24505574 1.02885536 0.67673867\n",
            "  0.65688669 0.75339406 0.75319779 0.5933343  0.98774995 0.99330312\n",
            "  0.66249751 0.87943583 0.72726019 0.50862385 0.80959519 0.54718182\n",
            "  0.69939273 0.57663255 0.08918847 0.3967908  0.49158936 0.72075914\n",
            "  0.61069519 0.42518561 0.41798654 0.83434611 0.57055575 0.69687172\n",
            "  0.13670891 0.45271666 0.48211462 0.52516444 0.21585385 0.95179952\n",
            "  0.31370836 1.14328081 0.2584326  0.25767797 0.2804601  0.76819838\n",
            "  0.70447739 0.26505924 0.84542911 0.91498095 0.46723794 0.72975588\n",
            "  0.95481889 0.75310121 0.75722278 0.77449987 0.85743733 0.15308802\n",
            "  0.68838771 0.24541887 0.94900529 0.26782388 0.49368611 0.19347754\n",
            "  0.46969855 0.70966475 0.86504069 0.49070557 0.60883981 0.91377496\n",
            "  0.51022789 0.23758211 0.74470274 0.74840644 0.67582418 0.34181621\n",
            "  0.64404705 0.75657886 0.92800568 0.85901719 0.90295801 0.\n",
            "  0.09861303 0.14356984 0.8288548  0.57633841 0.67197835 0.69833554\n",
            "  0.79513674 0.7848617  0.40276518 0.66546742]\n",
            " [0.81295498 0.81201169 0.42924916 0.7183433  0.95087634 0.42906886\n",
            "  0.82814484 0.3375386  0.83067151 0.09703112 0.59471157 0.85214571\n",
            "  0.41902894 0.13929681 0.16249973 0.17116331 0.98312235 0.594839\n",
            "  0.71117217 0.79557135 0.75914337 0.62793384 0.9427755  0.9601285\n",
            "  0.64503584 0.82296675 0.7356623  0.55244966 0.72158411 0.57889748\n",
            "  0.67155381 0.55442577 0.06893607 0.38659997 0.45643083 0.71898657\n",
            "  0.51212086 0.42630537 0.41397645 0.86470103 0.56076075 0.7197078\n",
            "  0.04435643 0.44714049 0.40429671 0.55015459 0.12541347 0.91109729\n",
            "  0.39473629 1.09528177 0.16028348 0.33998411 0.19943016 0.74502923\n",
            "  0.68941423 0.25006823 0.79931763 0.86527378 0.36868834 0.64646057\n",
            "  0.91923483 0.65804876 0.78564806 0.77130124 0.89912567 0.2328648\n",
            "  0.62192181 0.16813532 0.89853303 0.31891869 0.42546084 0.27857983\n",
            "  0.44199094 0.74104577 0.78803767 0.45775537 0.6443146  0.86530486\n",
            "  0.41165713 0.14720865 0.79269325 0.7598472  0.69817628 0.3710551\n",
            "  0.68129473 0.70089537 0.90702228 0.7945217  0.84726505 0.09861303\n",
            "  0.         0.12418867 0.86228933 0.52594813 0.5823395  0.73740557\n",
            "  0.75823149 0.68641966 0.44485277 0.56690751]\n",
            " [0.73755695 0.69167861 0.42138391 0.59677471 0.84867896 0.32278696\n",
            "  0.72179498 0.3584471  0.7081378  0.13004729 0.4706631  0.74351117\n",
            "  0.42052864 0.2111058  0.03831405 0.13016797 0.88535825 0.55235415\n",
            "  0.60214761 0.67847421 0.63522986 0.50841814 0.84429008 0.85199462\n",
            "  0.52720594 0.7367527  0.61155948 0.43819058 0.6936476  0.45861001\n",
            "  0.55941773 0.43865899 0.18280559 0.26483695 0.34892454 0.59617489\n",
            "  0.54535043 0.30242029 0.29081783 0.74288886 0.43969318 0.5965045\n",
            "  0.11190982 0.32446299 0.35589418 0.42795413 0.14208305 0.80879113\n",
            "  0.32678508 0.99971659 0.2307389  0.27865725 0.17125607 0.63029663\n",
            "  0.570656   0.12846422 0.70188098 0.7714479  0.41464288 0.60673093\n",
            "  0.81282867 0.65704826 0.6635048  0.64888019 0.78136945 0.29490782\n",
            "  0.54995788 0.13576664 0.80550103 0.21794456 0.35814465 0.3314487\n",
            "  0.32900814 0.61986615 0.73350804 0.34853288 0.52504768 0.77020902\n",
            "  0.44780615 0.24718098 0.67878029 0.63566054 0.57493027 0.25236513\n",
            "  0.56254546 0.61389633 0.79140303 0.71895955 0.76009767 0.14356984\n",
            "  0.12418867 0.         0.74140359 0.43307802 0.56114657 0.61914571\n",
            "  0.65268173 0.71242812 0.33138555 0.59828194]\n",
            " [0.85528837 0.37205476 0.96518036 0.34518511 0.69430145 0.59251643\n",
            "  0.59366049 0.9875217  0.0621549  0.85600732 0.29442972 0.57454756\n",
            "  0.9874656  0.88321358 0.70448687 0.794887   0.75932967 0.92645258\n",
            "  0.24187599 0.10537151 0.24455049 0.23560067 0.72970889 0.6277345\n",
            "  0.43038898 0.78022895 0.23415423 0.32493986 1.06906878 0.28346407\n",
            "  0.49970561 0.48121492 0.90672015 0.5226905  0.57683556 0.30913424\n",
            "  1.1510459  0.46614576 0.48750674 0.0282458  0.41478447 0.16262635\n",
            "  0.85268273 0.46719732 0.82413393 0.31452743 0.85315979 0.67323777\n",
            "  0.59422512 0.85131665 0.95259365 0.63289304 0.81860296 0.46834922\n",
            "  0.40747299 0.63435535 0.67471887 0.73584832 1.07269251 0.96715185\n",
            "  0.62972945 1.14139109 0.08591303 0.31262234 0.08460311 0.91318901\n",
            "  0.7921014  0.80589694 0.75949601 0.56312694 0.76229487 0.9145234\n",
            "  0.54870087 0.12166109 0.97287822 0.56600721 0.22002504 0.72420902\n",
            "  1.08082091 0.98425635 0.15169642 0.20459967 0.18225385 0.49154017\n",
            "  0.18585109 0.72465396 0.4924075  0.84466519 0.78433295 0.8288548\n",
            "  0.86228933 0.74140359 0.         0.65333686 1.00932059 0.1365855\n",
            "  0.58225346 1.26745674 0.42679044 1.18896004]\n",
            " [0.31873235 0.39223361 0.34764711 0.33819271 0.42845969 0.12924781\n",
            "  0.31621239 0.41774703 0.5953582  0.4487053  0.382425   0.34641289\n",
            "  0.37701172 0.64296501 0.40738385 0.360582   0.45738308 0.27354372\n",
            "  0.66539398 0.65349496 0.4315333  0.5054857  0.41736082 0.44921956\n",
            "  0.23732936 0.30477269 0.42833919 0.51741275 0.42132412 0.46648643\n",
            "  0.20404024 0.17244674 0.59482837 0.25581088 0.11692438 0.3644357\n",
            "  0.53503373 0.29062405 0.27124056 0.63816207 0.24232471 0.49502282\n",
            "  0.48680587 0.25743845 0.21252508 0.42041133 0.42555659 0.38918925\n",
            "  0.63396664 0.5694056  0.49699716 0.6146609  0.34841685 0.28184981\n",
            "  0.27746961 0.32874755 0.27383929 0.33965698 0.50540141 0.31728514\n",
            "  0.40479035 0.4895694  0.5695693  0.39403308 0.72836993 0.72786922\n",
            "  0.16031123 0.36714296 0.37328629 0.48830447 0.14651411 0.7627796\n",
            "  0.15792982 0.55542017 0.36638272 0.12616116 0.51903165 0.33939294\n",
            "  0.49218529 0.55633142 0.68504554 0.46064268 0.47906994 0.41007384\n",
            "  0.55005116 0.18248786 0.43207642 0.30062694 0.3275561  0.57633841\n",
            "  0.52594813 0.43307802 0.65333686 0.         0.35754532 0.59573212\n",
            "  0.24709984 0.62346712 0.47141193 0.56190556]\n",
            " [0.37699895 0.73384755 0.15690615 0.69278245 0.6448204  0.43109112\n",
            "  0.58856769 0.27183249 0.95218234 0.48549984 0.72884335 0.62520866\n",
            "  0.17756312 0.72163304 0.55948395 0.43309378 0.63805844 0.10158397\n",
            "  0.99578465 1.00214639 0.78848383 0.84313583 0.61126719 0.7009402\n",
            "  0.59293808 0.44382464 0.78588056 0.83344256 0.14097188 0.79838276\n",
            "  0.54595296 0.52833309 0.6401873  0.54436685 0.43956908 0.72089661\n",
            "  0.24508796 0.59737802 0.57370258 0.99498555 0.59511985 0.84914357\n",
            "  0.5387564  0.57549862 0.22056523 0.7517492  0.45746202 0.61529296\n",
            "  0.86327526 0.71664718 0.45761041 0.8253696  0.3938781  0.61473984\n",
            "  0.62992614 0.53103896 0.50067616 0.52133258 0.31481991 0.10737613\n",
            "  0.65457015 0.13212281 0.92472463 0.74664229 1.08233178 0.81514623\n",
            "  0.25652178 0.43005731 0.54070065 0.72221216 0.26148629 0.86082252\n",
            "  0.47513797 0.90690506 0.26573032 0.45086308 0.8582712  0.52981538\n",
            "  0.27027827 0.51699481 1.02917526 0.81817953 0.83203215 0.68008952\n",
            "  0.89243249 0.37468682 0.73705297 0.36490389 0.46665413 0.67197835\n",
            "  0.5823395  0.56114657 1.00932059 0.35754532 0.         0.9422113\n",
            "  0.53667256 0.27248045 0.76050368 0.24475292]\n",
            " [0.83875095 0.40007504 0.88041441 0.33996566 0.72241113 0.513309\n",
            "  0.60535668 0.88990386 0.13948548 0.73877544 0.21386554 0.59391121\n",
            "  0.8998925  0.75071289 0.58335598 0.68421798 0.78616223 0.86763846\n",
            "  0.12740568 0.06229764 0.25725693 0.11225442 0.75182825 0.66626551\n",
            "  0.4004995  0.77283197 0.23273739 0.19066786 1.01704332 0.16333338\n",
            "  0.47793223 0.42586547 0.77845678 0.42312565 0.50271557 0.30344863\n",
            "  1.06164196 0.36504427 0.38827591 0.15109276 0.35410426 0.12402893\n",
            "  0.73102818 0.37491428 0.74293299 0.2036057  0.7385142  0.69523587\n",
            "  0.45769063 0.88854223 0.83758674 0.49646324 0.71148931 0.46843973\n",
            "  0.39198513 0.52050222 0.67241154 0.74130762 0.97219002 0.91298189\n",
            "  0.65865757 1.07299743 0.1009383  0.32959202 0.16232144 0.77789268\n",
            "  0.74678094 0.6951617  0.76914486 0.43105765 0.68571695 0.7783801\n",
            "  0.4687519  0.0606937  0.94063084 0.49144068 0.09523812 0.73089187\n",
            "  0.98498394 0.86491702 0.09055165 0.21646067 0.12907281 0.36691\n",
            "  0.05701958 0.69828244 0.53529118 0.82581541 0.78123016 0.69833554\n",
            "  0.73740557 0.61914571 0.1365855  0.59573212 0.9422113  0.\n",
            "  0.57833528 1.18968824 0.29562379 1.10307807]\n",
            " [0.27574984 0.22551202 0.57478861 0.24059685 0.19840641 0.33024228\n",
            "  0.07017405 0.65898085 0.5201411  0.68865296 0.40112704 0.09948644\n",
            "  0.60630848 0.86324631 0.62118749 0.60021793 0.24558099 0.43600076\n",
            "  0.68370233 0.62224489 0.33801463 0.52639835 0.20425876 0.20338923\n",
            "  0.19117902 0.19799871 0.35309014 0.58091448 0.54235595 0.50772648\n",
            "  0.11574124 0.23565491 0.82618677 0.41594769 0.30376403 0.27772989\n",
            "  0.75336728 0.41821121 0.41064257 0.55915544 0.28278794 0.4557739\n",
            "  0.72213848 0.38011259 0.45212416 0.47181666 0.66730543 0.15902413\n",
            "  0.77950243 0.36214541 0.74307432 0.77545326 0.59238409 0.11390488\n",
            "  0.18692613 0.53212119 0.09412145 0.16537643 0.74459053 0.45596449\n",
            "  0.16104439 0.65878874 0.51336501 0.27066636 0.66629595 0.94125679\n",
            "  0.28027965 0.60782252 0.19647516 0.6466959  0.3898299  0.97071771\n",
            "  0.3271397  0.52252027 0.40890149 0.30444478 0.53368427 0.15642819\n",
            "  0.72558503 0.80140777 0.66653662 0.37924308 0.44933651 0.55023259\n",
            "  0.55143268 0.16939578 0.20057572 0.26731174 0.20357411 0.79513674\n",
            "  0.75823149 0.65268173 0.58225346 0.24709984 0.53667256 0.57833528\n",
            "  0.         0.80825808 0.58024508 0.7706053 ]\n",
            " [0.62079984 1.00576802 0.31360737 0.96128413 0.90329877 0.67730687\n",
            "  0.8579119  0.35475248 1.2123502  0.60093877 0.97947548 0.89468949\n",
            "  0.30132446 0.8161282  0.72405586 0.5854904  0.88832458 0.37227125\n",
            "  1.22930699 1.25105634 1.05470738 1.08504558 0.86617405 0.96488558\n",
            "  0.8606665  0.69855044 1.04999179 1.06117261 0.30570941 1.03733525\n",
            "  0.81725255 0.7900613  0.72557539 0.77416356 0.69097614 0.98787224\n",
            "  0.17535326 0.83099243 0.80700993 1.25498757 0.85308111 1.10545848\n",
            "  0.64979161 0.81561108 0.4467831  0.99162733 0.57828799 0.87685354\n",
            "  1.03732794 0.95264033 0.52974168 0.99096794 0.54479395 0.88702913\n",
            "  0.89932812 0.72527563 0.7668554  0.77868704 0.32195487 0.35853646\n",
            "  0.91926287 0.15409316 1.18192152 1.01620302 1.33686079 0.90350825\n",
            "  0.52801218 0.57809027 0.7936076  0.90957608 0.50556935 0.95157323\n",
            "  0.72181544 1.15967724 0.4805237  0.7019601  1.10106131 0.78841194\n",
            "  0.27523667 0.57030666 1.27347168 1.08230422 1.08713408 0.8899867\n",
            "  1.13708347 0.64368908 1.00825031 0.61252196 0.71911497 0.7848617\n",
            "  0.68641966 0.71242812 1.26745674 0.62346712 0.27248045 1.18968824\n",
            "  0.80825808 0.         0.97547635 0.12072978]\n",
            " [0.77846851 0.5060229  0.66236721 0.40910023 0.76944756 0.34906891\n",
            "  0.63490705 0.64344694 0.40572095 0.45744345 0.22034338 0.64085465\n",
            "  0.67471832 0.45645121 0.29839914 0.41754959 0.82387428 0.70944953\n",
            "  0.27197717 0.35174286 0.39632622 0.19219782 0.78328288 0.74090149\n",
            "  0.3950755  0.73924218 0.3661981  0.10759994 0.86491195 0.15040897\n",
            "  0.46466694 0.35115596 0.48318988 0.22143493 0.35495048 0.38910592\n",
            "  0.82697621 0.18102914 0.20037361 0.43380141 0.29768779 0.30715999\n",
            "  0.44263539 0.21657043 0.54193128 0.14432237 0.46194655 0.73298543\n",
            "  0.211676   0.93913711 0.55841103 0.22883258 0.45149015 0.50336798\n",
            "  0.42003296 0.25597907 0.66233987 0.73895644 0.7174631  0.76221863\n",
            "  0.71515226 0.88239816 0.35891903 0.44126181 0.45570453 0.49096428\n",
            "  0.63075061 0.427909   0.77258351 0.13640819 0.50140999 0.49780591\n",
            "  0.31368588 0.30944664 0.83720769 0.34529829 0.20699407 0.7323625\n",
            "  0.7392927  0.57852808 0.34803538 0.37846644 0.28782765 0.08688844\n",
            "  0.24140934 0.63169604 0.63734669 0.76163135 0.75606056 0.40276518\n",
            "  0.44485277 0.33138555 0.42679044 0.47141193 0.76050368 0.29562379\n",
            "  0.58024508 0.97547635 0.         0.87450225]\n",
            " [0.62017811 0.9526949  0.22378135 0.89865009 0.88906404 0.59649634\n",
            "  0.82677976 0.23992201 1.13623723 0.48322892 0.89685833 0.86302837\n",
            "  0.20328458 0.69566384 0.61223409 0.47376872 0.88275558 0.34429552\n",
            "  1.13433905 1.16505721 0.9873422  0.99566039 0.85596124 0.94326653\n",
            "  0.79767453 0.68857751 0.9796701  0.96464496 0.33138963 0.94665154\n",
            "  0.76323378 0.71986696 0.60501712 0.68210277 0.61345901 0.9222703\n",
            "  0.05485202 0.73987775 0.71611678 1.17844506 0.77809745 1.02633877\n",
            "  0.53110974 0.72825696 0.36538625 0.90190291 0.46155776 0.85881997\n",
            "  0.9245563  0.95927133 0.4094284  0.87687493 0.43385025 0.83744089\n",
            "  0.8391768  0.62076386 0.74241714 0.76590219 0.20123605 0.3489548\n",
            "  0.89662506 0.17918152 1.10305864 0.95533808 1.25473082 0.78281236\n",
            "  0.49419662 0.46569602 0.78544919 0.80076669 0.429761   0.83088105\n",
            "  0.64027135 1.07716752 0.49614656 0.62395683 1.01207754 0.77421078\n",
            "  0.15525697 0.44959566 1.18426293 1.01174249 1.00709507 0.78809434\n",
            "  1.04898147 0.61485951 0.97089227 0.60880935 0.71135752 0.66546742\n",
            "  0.56690751 0.59828194 1.18896004 0.56190556 0.24475292 1.10307807\n",
            "  0.7706053  0.12072978 0.87450225 0.        ]]\n"
          ]
        }
      ],
      "source": [
        "Z = np.random.random((100,2))\n",
        "\n",
        "x, y = np.atleast_2d(Z[:,0], Z[:, 1])\n",
        "d = np.sqrt((x - x.T)**2 + (y - y.T)**2)\n",
        "print(d)"
      ]
    },
    {
      "cell_type": "markdown",
      "metadata": {
        "id": "l0QWyyCAvO0I"
      },
      "source": [
        "#### 53. How to convert a float (32 bits) array into an integer (32 bits) in place? \n",
        "(**hint**: astype(copy=False))"
      ]
    },
    {
      "cell_type": "code",
      "execution_count": null,
      "metadata": {
        "id": "2--ijIqxvO0I",
        "colab": {
          "base_uri": "https://localhost:8080/"
        },
        "outputId": "304f558a-3294-4434-803d-f38419428d1f"
      },
      "outputs": [
        {
          "output_type": "stream",
          "name": "stdout",
          "text": [
            "[68 11 98 20 21 85 67 25 17 85]\n"
          ]
        }
      ],
      "source": [
        "n = (np.random.rand(10)* 100).astype(np.float32)           ####\n",
        "m = n.view(np.int32)\n",
        "\n",
        "m[:] = n\n",
        "\n",
        "print(m)"
      ]
    },
    {
      "cell_type": "markdown",
      "metadata": {
        "id": "nSePu6f2vO0I"
      },
      "source": [
        "#### 54. How to read the following file? (★★☆) \n",
        "(**hint**: np.genfromtxt)"
      ]
    },
    {
      "cell_type": "markdown",
      "metadata": {
        "id": "cQP5pmtwvO0I"
      },
      "source": [
        "```\n",
        "1, 2, 3, 4, 5\n",
        "6,  ,  , 7, 8\n",
        " ,  , 9,10,11\n",
        "```"
      ]
    },
    {
      "cell_type": "code",
      "execution_count": null,
      "metadata": {
        "id": "lCsuFvP-vO0I",
        "colab": {
          "base_uri": "https://localhost:8080/"
        },
        "outputId": "3241ab4f-3ade-4bfc-a954-81e9a3039cc8"
      },
      "outputs": [
        {
          "output_type": "stream",
          "name": "stdout",
          "text": [
            "[[ 1  2  3  4  5]\n",
            " [ 6 -1 -1  7  8]\n",
            " [-1 -1  9 10 11]]\n"
          ]
        },
        {
          "output_type": "stream",
          "name": "stderr",
          "text": [
            "/usr/local/lib/python3.7/dist-packages/ipykernel_launcher.py:7: DeprecationWarning: `np.int` is a deprecated alias for the builtin `int`. To silence this warning, use `int` by itself. Doing this will not modify any behavior and is safe. When replacing `np.int`, you may wish to use e.g. `np.int64` or `np.int32` to specify the precision. If you wish to review your current use, check the release note link for additional information.\n",
            "Deprecated in NumPy 1.20; for more details and guidance: https://numpy.org/devdocs/release/1.20.0-notes.html#deprecations\n",
            "  import sys\n"
          ]
        }
      ],
      "source": [
        "from io import StringIO\n",
        "\n",
        "s = StringIO('''1, 2, 3, 4, 5\n",
        "6,  ,  , 7, 8\n",
        " ,  , 9,10,11''')\n",
        "\n",
        "Z = np.genfromtxt(s, delimiter=\",\", dtype=np.int)\n",
        "print(Z)"
      ]
    },
    {
      "cell_type": "markdown",
      "metadata": {
        "id": "C2l8Zf1xvO0J"
      },
      "source": [
        "#### 55. What is the equivalent of enumerate for numpy arrays? (★★☆) \n",
        "(**hint**: np.ndenumerate, np.ndindex)"
      ]
    },
    {
      "cell_type": "code",
      "execution_count": null,
      "metadata": {
        "id": "avPwmhxcvO0J",
        "colab": {
          "base_uri": "https://localhost:8080/"
        },
        "outputId": "933cc04f-44e0-49c7-e23f-6ba54cf9f6df"
      },
      "outputs": [
        {
          "output_type": "stream",
          "name": "stdout",
          "text": [
            "(0, 0) 0\n",
            "(0, 1) 1\n",
            "(0, 2) 2\n",
            "(1, 0) 3\n",
            "(1, 1) 4\n",
            "(1, 2) 5\n",
            "(2, 0) 6\n",
            "(2, 1) 7\n",
            "(2, 2) 8\n"
          ]
        }
      ],
      "source": [
        "Z = np.arange(9).reshape(3,3)\n",
        "for index, value in np.ndenumerate(Z):\n",
        "  print(index, value)"
      ]
    },
    {
      "cell_type": "code",
      "source": [
        "for index in np.ndindex(Z.shape):\n",
        "  print(index, Z[index])"
      ],
      "metadata": {
        "colab": {
          "base_uri": "https://localhost:8080/"
        },
        "id": "MTVGJnp_kRu9",
        "outputId": "63a31e23-b123-4d29-f05d-7cd1958cc3a5"
      },
      "execution_count": null,
      "outputs": [
        {
          "output_type": "stream",
          "name": "stdout",
          "text": [
            "(0, 0) 0\n",
            "(0, 1) 1\n",
            "(0, 2) 2\n",
            "(1, 0) 3\n",
            "(1, 1) 4\n",
            "(1, 2) 5\n",
            "(2, 0) 6\n",
            "(2, 1) 7\n",
            "(2, 2) 8\n"
          ]
        }
      ]
    },
    {
      "cell_type": "code",
      "source": [
        "Z"
      ],
      "metadata": {
        "colab": {
          "base_uri": "https://localhost:8080/"
        },
        "id": "ydCXuCrxj5pU",
        "outputId": "e11ea452-5a6c-487d-d144-d8cbfb9a52d9"
      },
      "execution_count": null,
      "outputs": [
        {
          "output_type": "execute_result",
          "data": {
            "text/plain": [
              "array([[0, 1, 2],\n",
              "       [3, 4, 5],\n",
              "       [6, 7, 8]])"
            ]
          },
          "metadata": {},
          "execution_count": 147
        }
      ]
    },
    {
      "cell_type": "markdown",
      "metadata": {
        "id": "4iCD8Vs9vO0J"
      },
      "source": [
        "#### 56. Generate a generic 2D Gaussian-like array (★★☆) \n",
        "(**hint**: np.meshgrid, np.exp)"
      ]
    },
    {
      "cell_type": "code",
      "execution_count": null,
      "metadata": {
        "id": "jobGrvEkvO0J"
      },
      "outputs": [],
      "source": [
        "x, y =  np.meshgrid(np.linspace(-5,5,20), np.linspace(-5,5,10))\n",
        "\n",
        "sqr = np.sqrt(x*x + y*y)\n",
        "sigma, mean = 1.0 , 0.0 \n",
        "res = np.exp( -(sqr - mean)**2 / 2.0 * sigma **2)"
      ]
    },
    {
      "cell_type": "code",
      "source": [
        "res"
      ],
      "metadata": {
        "colab": {
          "base_uri": "https://localhost:8080/"
        },
        "id": "r3gOjbXN4Wxu",
        "outputId": "dec959ea-2ae4-4eed-b22c-25dfdeaf7967"
      },
      "execution_count": null,
      "outputs": [
        {
          "output_type": "execute_result",
          "data": {
            "text/plain": [
              "array([[1.38879439e-11, 1.68022165e-10, 1.54096233e-09, 1.07130785e-08,\n",
              "        5.64590245e-08, 2.25553345e-07, 6.83064941e-07, 1.56809199e-06,\n",
              "        2.72883890e-06, 3.59982243e-06, 3.59982243e-06, 2.72883890e-06,\n",
              "        1.56809199e-06, 6.83064941e-07, 2.25553345e-07, 5.64590245e-08,\n",
              "        1.07130785e-08, 1.54096233e-09, 1.68022165e-10, 1.38879439e-11],\n",
              "       [1.93776925e-09, 2.34439446e-08, 2.15008748e-07, 1.49478384e-06,\n",
              "        7.87766445e-06, 3.14712057e-05, 9.53072862e-05, 2.18794119e-04,\n",
              "        3.80751836e-04, 5.02279192e-04, 5.02279192e-04, 3.80751836e-04,\n",
              "        2.18794119e-04, 9.53072862e-05, 3.14712057e-05, 7.87766445e-06,\n",
              "        1.49478384e-06, 2.15008748e-07, 2.34439446e-08, 1.93776925e-09],\n",
              "       [7.86683682e-08, 9.51762889e-07, 8.72879334e-06, 6.06843180e-05,\n",
              "        3.19812592e-04, 1.27764871e-03, 3.86922678e-03, 8.88246953e-03,\n",
              "        1.54575296e-02, 2.03912227e-02, 2.03912227e-02, 1.54575296e-02,\n",
              "        8.88246953e-03, 3.86922678e-03, 1.27764871e-03, 3.19812592e-04,\n",
              "        6.06843180e-05, 8.72879334e-06, 9.51762889e-07, 7.86683682e-08],\n",
              "       [9.29249200e-07, 1.12424463e-05, 1.03106552e-04, 7.16817385e-04,\n",
              "        3.77770128e-03, 1.50918860e-02, 4.57042134e-02, 1.04921812e-01,\n",
              "        1.82587962e-01, 2.40865901e-01, 2.40865901e-01, 1.82587962e-01,\n",
              "        1.04921812e-01, 4.57042134e-02, 1.50918860e-02, 3.77770128e-03,\n",
              "        7.16817385e-04, 1.03106552e-04, 1.12424463e-05, 9.29249200e-07],\n",
              "       [3.19373018e-06, 3.86390863e-05, 3.54366201e-04, 2.46362474e-03,\n",
              "        1.29835555e-02, 5.18691992e-02, 1.57080497e-01, 3.60605052e-01,\n",
              "        6.27535311e-01, 8.27830359e-01, 8.27830359e-01, 6.27535311e-01,\n",
              "        3.60605052e-01, 1.57080497e-01, 5.18691992e-02, 1.29835555e-02,\n",
              "        2.46362474e-03, 3.54366201e-04, 3.86390863e-05, 3.19373018e-06],\n",
              "       [3.19373018e-06, 3.86390863e-05, 3.54366201e-04, 2.46362474e-03,\n",
              "        1.29835555e-02, 5.18691992e-02, 1.57080497e-01, 3.60605052e-01,\n",
              "        6.27535311e-01, 8.27830359e-01, 8.27830359e-01, 6.27535311e-01,\n",
              "        3.60605052e-01, 1.57080497e-01, 5.18691992e-02, 1.29835555e-02,\n",
              "        2.46362474e-03, 3.54366201e-04, 3.86390863e-05, 3.19373018e-06],\n",
              "       [9.29249200e-07, 1.12424463e-05, 1.03106552e-04, 7.16817385e-04,\n",
              "        3.77770128e-03, 1.50918860e-02, 4.57042134e-02, 1.04921812e-01,\n",
              "        1.82587962e-01, 2.40865901e-01, 2.40865901e-01, 1.82587962e-01,\n",
              "        1.04921812e-01, 4.57042134e-02, 1.50918860e-02, 3.77770128e-03,\n",
              "        7.16817385e-04, 1.03106552e-04, 1.12424463e-05, 9.29249200e-07],\n",
              "       [7.86683682e-08, 9.51762889e-07, 8.72879334e-06, 6.06843180e-05,\n",
              "        3.19812592e-04, 1.27764871e-03, 3.86922678e-03, 8.88246953e-03,\n",
              "        1.54575296e-02, 2.03912227e-02, 2.03912227e-02, 1.54575296e-02,\n",
              "        8.88246953e-03, 3.86922678e-03, 1.27764871e-03, 3.19812592e-04,\n",
              "        6.06843180e-05, 8.72879334e-06, 9.51762889e-07, 7.86683682e-08],\n",
              "       [1.93776925e-09, 2.34439446e-08, 2.15008748e-07, 1.49478384e-06,\n",
              "        7.87766445e-06, 3.14712057e-05, 9.53072862e-05, 2.18794119e-04,\n",
              "        3.80751836e-04, 5.02279192e-04, 5.02279192e-04, 3.80751836e-04,\n",
              "        2.18794119e-04, 9.53072862e-05, 3.14712057e-05, 7.87766445e-06,\n",
              "        1.49478384e-06, 2.15008748e-07, 2.34439446e-08, 1.93776925e-09],\n",
              "       [1.38879439e-11, 1.68022165e-10, 1.54096233e-09, 1.07130785e-08,\n",
              "        5.64590245e-08, 2.25553345e-07, 6.83064941e-07, 1.56809199e-06,\n",
              "        2.72883890e-06, 3.59982243e-06, 3.59982243e-06, 2.72883890e-06,\n",
              "        1.56809199e-06, 6.83064941e-07, 2.25553345e-07, 5.64590245e-08,\n",
              "        1.07130785e-08, 1.54096233e-09, 1.68022165e-10, 1.38879439e-11]])"
            ]
          },
          "metadata": {},
          "execution_count": 13
        }
      ]
    },
    {
      "cell_type": "markdown",
      "metadata": {
        "id": "cMkA13JxvO0J"
      },
      "source": [
        "#### 57. How to randomly place p elements in a 2D array? (★★☆) \n",
        "(**hint**: np.put, np.random.choice)"
      ]
    },
    {
      "cell_type": "code",
      "execution_count": null,
      "metadata": {
        "id": "lFcDc0ufvO0J",
        "colab": {
          "base_uri": "https://localhost:8080/"
        },
        "outputId": "29b1da79-a886-4448-d778-412b33a46090"
      },
      "outputs": [
        {
          "output_type": "stream",
          "name": "stdout",
          "text": [
            "[[ 1  1  2]\n",
            " [ 3  4  5]\n",
            " [ 6  7  8]\n",
            " [ 9 10 11]\n",
            " [12 13 14]]\n"
          ]
        }
      ],
      "source": [
        "X = np.arange(15).reshape(5,3)\n",
        "n = 2\n",
        "np.put(X,np.random.choice(np.arange(15), n , replace=False),1)\n",
        "\n",
        "print(X)"
      ]
    },
    {
      "cell_type": "code",
      "source": [
        "#type 2\n",
        "m , n = 7,4\n",
        "y = np.zeros((m * m), dtype = bool)\n",
        "np.put(y , np.random.choice(range(m * m),n , replace = False),2)"
      ],
      "metadata": {
        "id": "HhiKfsC5-1rY"
      },
      "execution_count": null,
      "outputs": []
    },
    {
      "cell_type": "code",
      "source": [
        "y"
      ],
      "metadata": {
        "colab": {
          "base_uri": "https://localhost:8080/"
        },
        "id": "P8plTOVq_ong",
        "outputId": "ed32fd11-274f-44d0-d067-cdb3977965a9"
      },
      "execution_count": null,
      "outputs": [
        {
          "output_type": "execute_result",
          "data": {
            "text/plain": [
              "array([False, False, False, False, False,  True, False, False, False,\n",
              "       False, False,  True, False, False, False, False, False, False,\n",
              "       False, False, False, False, False, False,  True, False, False,\n",
              "       False, False, False, False, False, False, False, False, False,\n",
              "       False, False, False, False, False, False, False, False, False,\n",
              "        True, False, False, False])"
            ]
          },
          "metadata": {},
          "execution_count": 43
        }
      ]
    },
    {
      "cell_type": "markdown",
      "metadata": {
        "id": "sF-1aliJvO0J"
      },
      "source": [
        "#### 58. Subtract the mean of each row of a matrix (★★☆) \n",
        "(**hint**: mean(axis=,keepdims=))"
      ]
    },
    {
      "cell_type": "code",
      "execution_count": null,
      "metadata": {
        "id": "7USkmoUWvO0K"
      },
      "outputs": [],
      "source": [
        "x = np.random.rand(3,5)\n",
        "res = x - x.mean(axis = 0)"
      ]
    },
    {
      "cell_type": "code",
      "source": [
        "res"
      ],
      "metadata": {
        "colab": {
          "base_uri": "https://localhost:8080/"
        },
        "id": "RAUmsSg8GMIa",
        "outputId": "22b5a58a-d9db-41f5-888a-8ad00e6d6f92"
      },
      "execution_count": null,
      "outputs": [
        {
          "output_type": "execute_result",
          "data": {
            "text/plain": [
              "array([[-0.05106068,  0.08265029,  0.06764842,  0.20603344, -0.07429687],\n",
              "       [-0.07543947, -0.08342533,  0.08808036, -0.00341918,  0.36866473],\n",
              "       [ 0.12650015,  0.00077504, -0.15572878, -0.20261426, -0.29436786]])"
            ]
          },
          "metadata": {},
          "execution_count": 50
        }
      ]
    },
    {
      "cell_type": "markdown",
      "metadata": {
        "id": "hdFbAEs5vO0L"
      },
      "source": [
        "#### 59. How to sort an array by the nth column? (★★☆) \n",
        "(**hint**: argsort)"
      ]
    },
    {
      "cell_type": "code",
      "execution_count": null,
      "metadata": {
        "id": "4qf4WOavvO0M",
        "colab": {
          "base_uri": "https://localhost:8080/"
        },
        "outputId": "c55427ad-2905-49a1-b393-2efaf1d0342f"
      },
      "outputs": [
        {
          "output_type": "stream",
          "name": "stdout",
          "text": [
            "[[2 2 1]\n",
            " [2 7 4]\n",
            " [3 8 7]\n",
            " [8 8 4]\n",
            " [1 9 9]]\n"
          ]
        }
      ],
      "source": [
        "y = np.random.randint(0,10,(5,3))\n",
        "#print(y)\n",
        "print(y[y[:,1].argsort()])"
      ]
    },
    {
      "cell_type": "markdown",
      "metadata": {
        "id": "gWYqEKE0vO0M"
      },
      "source": [
        "#### 60. How to tell if a given 2D array has null columns? (★★☆) \n",
        "(**hint**: any, ~)"
      ]
    },
    {
      "cell_type": "code",
      "execution_count": null,
      "metadata": {
        "id": "X4l5kydbvO0N",
        "colab": {
          "base_uri": "https://localhost:8080/"
        },
        "outputId": "5edeb64b-2e87-408b-9c64-45a1e17c80b6"
      },
      "outputs": [
        {
          "output_type": "stream",
          "name": "stdout",
          "text": [
            "False\n"
          ]
        }
      ],
      "source": [
        "n = np.random.randint(0,10,(3,5))\n",
        "print(~n.any(axis = 0).any())"
      ]
    },
    {
      "cell_type": "code",
      "source": [
        "(~n.all(axis = 0)).any()"
      ],
      "metadata": {
        "colab": {
          "base_uri": "https://localhost:8080/"
        },
        "id": "M7RNLsaiJhSL",
        "outputId": "18497b64-d708-46ed-b685-8c68b468acb3"
      },
      "execution_count": null,
      "outputs": [
        {
          "output_type": "execute_result",
          "data": {
            "text/plain": [
              "False"
            ]
          },
          "metadata": {},
          "execution_count": 72
        }
      ]
    },
    {
      "cell_type": "markdown",
      "metadata": {
        "id": "hJg8tcxXvO0N"
      },
      "source": [
        "#### 61. Find the nearest value from a given value in an array (★★☆) \n",
        "(**hint**: np.abs, argmin, flat)"
      ]
    },
    {
      "cell_type": "code",
      "execution_count": null,
      "metadata": {
        "id": "q1Ns4f6uvO0O",
        "colab": {
          "base_uri": "https://localhost:8080/"
        },
        "outputId": "71d97dfa-d51f-46a3-d808-9a5a0b3ea7cc"
      },
      "outputs": [
        {
          "output_type": "execute_result",
          "data": {
            "text/plain": [
              "4.443117447781711"
            ]
          },
          "metadata": {},
          "execution_count": 81
        }
      ],
      "source": [
        "x = np.random.uniform(0,10,15)\n",
        "v = 4\n",
        "x.flat[np.abs(x - v).argmin()]"
      ]
    },
    {
      "cell_type": "code",
      "source": [
        "x"
      ],
      "metadata": {
        "colab": {
          "base_uri": "https://localhost:8080/"
        },
        "id": "TLiHGvrDL0co",
        "outputId": "6a910cfa-4f26-4e7b-db42-a1c3c27ef932"
      },
      "execution_count": null,
      "outputs": [
        {
          "output_type": "execute_result",
          "data": {
            "text/plain": [
              "array([6.82233218, 0.38765585, 4.44311745, 0.43641154, 7.0168637 ,\n",
              "       0.51595357, 5.16155373, 9.28718428, 0.66467965, 8.50405072,\n",
              "       2.78003807, 2.91780176, 2.22297558, 4.84276598, 9.03557828])"
            ]
          },
          "metadata": {},
          "execution_count": 88
        }
      ]
    },
    {
      "cell_type": "markdown",
      "metadata": {
        "id": "Cl1Hlvz4vO0O"
      },
      "source": [
        "#### 62. Considering two arrays with shape (1,3) and (3,1), how to compute their sum using an iterator? (★★☆) \n",
        "(**hint**: np.nditer)"
      ]
    },
    {
      "cell_type": "code",
      "execution_count": null,
      "metadata": {
        "id": "tUgkj8wUvO0O",
        "colab": {
          "base_uri": "https://localhost:8080/"
        },
        "outputId": "7c42ebdc-55bb-44b0-b0c5-8a47eed408d4"
      },
      "outputs": [
        {
          "output_type": "stream",
          "name": "stdout",
          "text": [
            "[[0 1 2]\n",
            " [1 2 3]\n",
            " [2 3 4]]\n"
          ]
        }
      ],
      "source": [
        "A = np.arange(3).reshape(3,1)\n",
        "B = np.arange(3).reshape(1,3)\n",
        "\n",
        "i = np.nditer([A,B,None])\n",
        "\n",
        "for x,y, z in i:z[...] = x + y \n",
        "print(i.operands[2])"
      ]
    },
    {
      "cell_type": "markdown",
      "metadata": {
        "id": "JV7XvhKJvO0O"
      },
      "source": [
        "#### 63. Create an array class that has a name attribute (★★☆) \n",
        "(**hint**: class method)"
      ]
    },
    {
      "cell_type": "code",
      "execution_count": null,
      "metadata": {
        "id": "HBonLJ2RvO0P",
        "colab": {
          "base_uri": "https://localhost:8080/"
        },
        "outputId": "cde7048e-5c01-49f6-dafd-8bcd4248dfa7"
      },
      "outputs": [
        {
          "output_type": "stream",
          "name": "stdout",
          "text": [
            "range_10\n"
          ]
        }
      ],
      "source": [
        "class NamedArray(np.ndarray):\n",
        "  def __new__(cls, array, name=\"no name\"):\n",
        "    obj = np.asarray(array).view(cls)\n",
        "    obj.name = name\n",
        "    return obj\n",
        "  def __array_finalize__(self, obj):\n",
        "    if obj is None: return\n",
        "    self.name = getattr(obj, 'name', \"no name\")\n",
        "\n",
        "Z = NamedArray(np.arange(10), \"range_10\")\n",
        "print (Z.name)"
      ]
    },
    {
      "cell_type": "markdown",
      "metadata": {
        "id": "7cz7grmavO0P"
      },
      "source": [
        "#### 64. Consider a given vector, how to add 1 to each element indexed by a second vector (be careful with repeated indices)? (★★★) \n",
        "(**hint**: np.bincount | np.add.at)"
      ]
    },
    {
      "cell_type": "code",
      "execution_count": null,
      "metadata": {
        "id": "25u69Qs0vO0P",
        "colab": {
          "base_uri": "https://localhost:8080/"
        },
        "outputId": "f988e714-f33c-4fc5-e90a-27fbe02c5583"
      },
      "outputs": [
        {
          "output_type": "stream",
          "name": "stdout",
          "text": [
            "[3. 2. 2. 2. 4. 2. 4. 5. 2. 4.]\n",
            "[5. 3. 3. 3. 7. 3. 7. 9. 3. 7.]\n"
          ]
        }
      ],
      "source": [
        "n = np.ones(10)\n",
        "x = np.random.randint(0,10, 20)\n",
        "n += np.bincount(x, minlength = len(n))\n",
        "print(n)\n",
        "\n",
        "np.add.at(n, x, 1)\n",
        "print(n)"
      ]
    },
    {
      "cell_type": "markdown",
      "metadata": {
        "id": "JvE9TNM1vO0P"
      },
      "source": [
        "#### 65. How to accumulate elements of a vector (X) to an array (F) based on an index list (I)? (★★★) \n",
        "(**hint**: np.bincount)"
      ]
    },
    {
      "cell_type": "code",
      "execution_count": null,
      "metadata": {
        "id": "bZjNK7ECvO0Q",
        "colab": {
          "base_uri": "https://localhost:8080/"
        },
        "outputId": "e28fa808-2139-490e-94a6-41f6575ed9a5"
      },
      "outputs": [
        {
          "output_type": "execute_result",
          "data": {
            "text/plain": [
              "array([ 0.,  7., 15.,  4.,  9.,  0.,  5.,  0.,  2.,  3.])"
            ]
          },
          "metadata": {},
          "execution_count": 121
        }
      ],
      "source": [
        "x = np.arange(10)\n",
        "y = np.random.choice(x,(10))\n",
        "\n",
        "np.bincount(y, x)"
      ]
    },
    {
      "cell_type": "markdown",
      "metadata": {
        "id": "coNqmK02vO0Q"
      },
      "source": [
        "#### 66. Considering a (w,h,3) image of (dtype=ubyte), compute the number of unique colors (★★★) \n",
        "(**hint**: np.unique)"
      ]
    },
    {
      "cell_type": "code",
      "execution_count": null,
      "metadata": {
        "id": "MR8A8hcOvO0Q",
        "colab": {
          "base_uri": "https://localhost:8080/"
        },
        "outputId": "ca5aa5d2-2d0e-4b1b-9a55-fb4ac3524b07"
      },
      "outputs": [
        {
          "output_type": "stream",
          "name": "stdout",
          "text": [
            "64\n"
          ]
        }
      ],
      "source": [
        "w, h = 234, 346\n",
        "img = np.random.randint(0,4,(h,w,3)).astype(np.ubyte)\n",
        "color = np.unique(img.reshape(-1,3), axis = 0)\n",
        "n = len(color)\n",
        "print(n)"
      ]
    },
    {
      "cell_type": "markdown",
      "metadata": {
        "id": "PlsL5XDRvO0Q"
      },
      "source": [
        "#### 67. Considering a four dimensions array, how to get sum over the last two axis at once? (★★★) \n",
        "(**hint**: sum(axis=(-2,-1)))"
      ]
    },
    {
      "cell_type": "code",
      "execution_count": null,
      "metadata": {
        "id": "6UO1IrcIvO0R",
        "colab": {
          "base_uri": "https://localhost:8080/"
        },
        "outputId": "167325f8-c08e-43cd-e8c1-8113f88ef2f0"
      },
      "outputs": [
        {
          "output_type": "stream",
          "name": "stdout",
          "text": [
            "[[ 45 145 245]\n",
            " [345 445 545]]\n"
          ]
        }
      ],
      "source": [
        "a = np.arange(60).reshape(2,3,5,2)\n",
        "print(a.sum(axis = (-2,-1)))"
      ]
    },
    {
      "cell_type": "markdown",
      "metadata": {
        "id": "gdnytM3vvO0R"
      },
      "source": [
        "#### 68. Considering a one-dimensional vector D, how to compute means of subsets of D using a vector S of same size describing subset  indices? (★★★) \n",
        "(**hint**: np.bincount)"
      ]
    },
    {
      "cell_type": "code",
      "execution_count": null,
      "metadata": {
        "id": "QYhi6rdmvO0R"
      },
      "outputs": [],
      "source": [
        "D = np.random.uniform(0,1,100)\n",
        "S = np.random.randint(0,10,100)\n",
        "\n",
        "D_sum = np.bincount(S, weights = D)\n",
        "D_count = np.bincount(S)\n",
        "\n",
        "D_mean = D_sum / D_count"
      ]
    },
    {
      "cell_type": "code",
      "source": [
        "D_mean"
      ],
      "metadata": {
        "colab": {
          "base_uri": "https://localhost:8080/"
        },
        "id": "ZI3UycZ9aWRa",
        "outputId": "5d506b70-2927-4ad0-ebe9-1720c9ce0f36"
      },
      "execution_count": null,
      "outputs": [
        {
          "output_type": "execute_result",
          "data": {
            "text/plain": [
              "array([0.43140447, 0.38253164, 0.55622987, 0.50050353, 0.38315107,\n",
              "       0.45613576, 0.37017938, 0.44451852, 0.51006563, 0.35387789])"
            ]
          },
          "metadata": {},
          "execution_count": 157
        }
      ]
    },
    {
      "cell_type": "markdown",
      "metadata": {
        "id": "3aT-IVzOvO0R"
      },
      "source": [
        "#### 69. How to get the diagonal of a dot product? (★★★) \n",
        "(**hint**: np.diag)"
      ]
    },
    {
      "cell_type": "code",
      "execution_count": null,
      "metadata": {
        "id": "E_oR-P3rvO0S",
        "colab": {
          "base_uri": "https://localhost:8080/"
        },
        "outputId": "0c916072-7958-4fd2-e1fb-84a8ba347419"
      },
      "outputs": [
        {
          "output_type": "execute_result",
          "data": {
            "text/plain": [
              "array([50.34056695, 42.21241642, 50.29077351, 48.44245563, 50.66466832,\n",
              "       49.40182086, 53.72758731, 53.80244497, 50.8773304 , 48.46509729,\n",
              "       51.19525438, 50.70116051, 57.51139029, 52.33456133, 47.55324877,\n",
              "       52.47668094, 48.48408781, 48.82323319, 50.84414164, 48.77726117,\n",
              "       53.65743403, 54.02110841, 48.03695237, 55.42656282, 45.55437018,\n",
              "       51.26650643, 53.05876233, 52.17738468, 47.62397332, 45.88451054,\n",
              "       60.26405209, 48.1608371 , 47.73113536, 53.73414167, 48.69117495,\n",
              "       55.58138206, 46.57445127, 45.83812096, 57.03403062, 54.42647414,\n",
              "       49.88706164, 50.38173938, 45.59648768, 54.92178155, 54.36515458,\n",
              "       45.67882804, 45.7539186 , 48.05978327, 48.6920319 , 55.03281954,\n",
              "       51.92619594, 53.30435139, 50.51279839, 48.16172829, 49.34306581,\n",
              "       49.16067393, 49.12874745, 50.45919529, 49.96825476, 50.3147743 ,\n",
              "       53.84089301, 47.13942411, 46.82431816, 44.78475085, 49.58592978,\n",
              "       47.76986056, 53.60592589, 54.06770337, 54.24576579, 49.18560163,\n",
              "       50.62434825, 46.66561107, 47.44093858, 44.8139919 , 52.17818784,\n",
              "       51.94427586, 53.5381908 , 49.89250668, 46.95712211, 49.38223659,\n",
              "       46.30776628, 44.36054198, 54.10336131, 50.62078544, 54.32935978,\n",
              "       46.60461892, 48.45485852, 48.73903431, 50.31771302, 46.30720157,\n",
              "       44.13570704, 47.43953657, 45.70356353, 45.90748826, 49.05333432,\n",
              "       44.08347963, 50.13834745, 50.46858228, 46.21292789, 48.38174392,\n",
              "       46.3583966 , 54.85751537, 48.1635615 , 48.54596291, 53.85330628,\n",
              "       50.47351959, 51.66543189, 52.16249848, 49.45966729, 47.92040524,\n",
              "       52.2065363 , 50.54403228, 53.47982758, 51.06061872, 48.62872128,\n",
              "       47.86218779, 50.49960975, 47.66648868, 48.90059766, 52.55139467,\n",
              "       50.73963084, 50.65380848, 46.24523174, 48.83692376, 47.81782757,\n",
              "       46.52053608, 49.90449585, 50.72390997, 53.67168991, 46.27672628,\n",
              "       51.17751285, 52.90757382, 49.77992751, 52.79713342, 51.51119691,\n",
              "       48.40458285, 48.5115454 , 49.72962226, 49.76934536, 48.41488603,\n",
              "       50.39628223, 55.03559832, 46.69939427, 56.50981017, 52.58290402,\n",
              "       44.90917005, 48.56212208, 49.12578258, 48.21239426, 49.94927439,\n",
              "       51.56626526, 46.41109116, 45.92573451, 50.16086902, 51.89661353,\n",
              "       44.28162987, 50.7163054 , 46.69030335, 48.47272718, 47.69387322,\n",
              "       45.71036741, 50.57383099, 51.3332955 , 47.79456885, 54.45740745,\n",
              "       55.39136201, 48.29999156, 45.39948768, 51.79965878, 49.50692791,\n",
              "       51.9937498 , 46.45782034, 50.39900975, 52.60502809, 54.50903833,\n",
              "       56.49803642, 48.24311619, 49.66830631, 46.64439952, 47.47322973,\n",
              "       48.63062462, 52.1613776 , 48.88938717, 52.95608513, 58.35356127,\n",
              "       45.63388016, 50.30050983, 51.29168039, 41.8331734 , 52.7143055 ,\n",
              "       49.41458969, 48.35711528, 47.63259521, 51.55974381, 51.73826262,\n",
              "       48.90222404, 52.20596047, 46.15661932, 53.02333519, 47.24265432])"
            ]
          },
          "metadata": {},
          "execution_count": 165
        }
      ],
      "source": [
        "a = np.random.rand(1000, 200)\n",
        "b = np.random.rand(200, 200)\n",
        "\n",
        "np.diag(np.dot(a,b))"
      ]
    },
    {
      "cell_type": "markdown",
      "metadata": {
        "id": "fyg4S1kCvO0S"
      },
      "source": [
        "#### 70. Consider the vector \\[1, 2, 3, 4, 5\\], how to build a new vector with 3 consecutive zeros interleaved between each value? (★★★) \n",
        "(**hint**: array\\[::4\\])"
      ]
    },
    {
      "cell_type": "code",
      "execution_count": null,
      "metadata": {
        "id": "akvZkKmgvO0S",
        "colab": {
          "base_uri": "https://localhost:8080/"
        },
        "outputId": "3558b152-4d23-482e-f1d8-55984967c9eb"
      },
      "outputs": [
        {
          "output_type": "stream",
          "name": "stdout",
          "text": [
            "[1. 0. 0. 0. 2. 0. 0. 0. 3. 0. 0. 0. 4. 0. 0. 0. 5.]\n"
          ]
        }
      ],
      "source": [
        "Z = np.array([1,2,3,4,5])\n",
        "nv = 3\n",
        "\n",
        "newZ = np.zeros(len(Z) + (len(Z)-1)* (nv))\n",
        "newZ[::nv + 1] = Z\n",
        "print(newZ)"
      ]
    },
    {
      "cell_type": "markdown",
      "metadata": {
        "id": "9T8h2EyjvO0S"
      },
      "source": [
        "#### 71. Consider an array of dimension (5,5,3), how to mulitply it by an array with dimensions (5,5)? (★★★) \n",
        "(**hint**: array\\[:, :, None\\])"
      ]
    },
    {
      "cell_type": "code",
      "execution_count": null,
      "metadata": {
        "collapsed": true,
        "id": "Q0u2u_ZJvO0S"
      },
      "outputs": [],
      "source": [
        "x = np.arange(75).reshape(5,5,3)\n",
        "y = np.arange(25).reshape(5,5)"
      ]
    },
    {
      "cell_type": "code",
      "source": [
        "x * y[:,:,None]"
      ],
      "metadata": {
        "colab": {
          "base_uri": "https://localhost:8080/"
        },
        "id": "jKnAoVxufTQC",
        "outputId": "306d3a71-4086-48c4-cb12-635673c1d62e"
      },
      "execution_count": null,
      "outputs": [
        {
          "output_type": "execute_result",
          "data": {
            "text/plain": [
              "array([[[   0,    0,    0],\n",
              "        [   3,    4,    5],\n",
              "        [  12,   14,   16],\n",
              "        [  27,   30,   33],\n",
              "        [  48,   52,   56]],\n",
              "\n",
              "       [[  75,   80,   85],\n",
              "        [ 108,  114,  120],\n",
              "        [ 147,  154,  161],\n",
              "        [ 192,  200,  208],\n",
              "        [ 243,  252,  261]],\n",
              "\n",
              "       [[ 300,  310,  320],\n",
              "        [ 363,  374,  385],\n",
              "        [ 432,  444,  456],\n",
              "        [ 507,  520,  533],\n",
              "        [ 588,  602,  616]],\n",
              "\n",
              "       [[ 675,  690,  705],\n",
              "        [ 768,  784,  800],\n",
              "        [ 867,  884,  901],\n",
              "        [ 972,  990, 1008],\n",
              "        [1083, 1102, 1121]],\n",
              "\n",
              "       [[1200, 1220, 1240],\n",
              "        [1323, 1344, 1365],\n",
              "        [1452, 1474, 1496],\n",
              "        [1587, 1610, 1633],\n",
              "        [1728, 1752, 1776]]])"
            ]
          },
          "metadata": {},
          "execution_count": 179
        }
      ]
    },
    {
      "cell_type": "markdown",
      "metadata": {
        "id": "MK5ZD6qHvO0T"
      },
      "source": [
        "#### 72. How to swap two rows of an array? (★★★) \n",
        "(**hint**: array\\[\\[\\]\\] = array\\[\\[\\]\\])"
      ]
    },
    {
      "cell_type": "code",
      "execution_count": null,
      "metadata": {
        "id": "e3JooAUZvO0T"
      },
      "outputs": [],
      "source": [
        "n = np.arange(16).reshape(4,4)\n",
        "n[[0,1]] = n[[1,0]]"
      ]
    },
    {
      "cell_type": "code",
      "source": [
        "n"
      ],
      "metadata": {
        "colab": {
          "base_uri": "https://localhost:8080/"
        },
        "id": "JNQL5rVigLhS",
        "outputId": "aeababa4-32e9-4136-ed51-db39f17850a8"
      },
      "execution_count": null,
      "outputs": [
        {
          "output_type": "execute_result",
          "data": {
            "text/plain": [
              "array([[ 4,  5,  6,  7],\n",
              "       [ 0,  1,  2,  3],\n",
              "       [ 8,  9, 10, 11],\n",
              "       [12, 13, 14, 15]])"
            ]
          },
          "metadata": {},
          "execution_count": 186
        }
      ]
    },
    {
      "cell_type": "markdown",
      "metadata": {
        "id": "ZTFHkcx3vO0T"
      },
      "source": [
        "#### 73. Consider a set of 10 triplets describing 10 triangles (with shared vertices), find the set of unique line segments composing all the  triangles (★★★) \n",
        "(**hint**: repeat, np.roll, np.sort, view, np.unique)"
      ]
    },
    {
      "cell_type": "code",
      "execution_count": null,
      "metadata": {
        "id": "zsagHrVDvO0U",
        "colab": {
          "base_uri": "https://localhost:8080/"
        },
        "outputId": "cfb8bc40-95c1-4925-877d-4a8448a441c2"
      },
      "outputs": [
        {
          "output_type": "stream",
          "name": "stdout",
          "text": [
            "[( 1,  7) ( 1, 25) ( 2, 30) ( 2, 59) ( 2, 61) ( 2, 88) ( 3, 24) ( 3, 91)\n",
            " ( 7, 25) ( 8, 13) ( 8, 98) (13, 98) (17, 42) (17, 49) (21, 71) (21, 93)\n",
            " (24, 91) (25, 28) (25, 61) (28, 61) (30, 59) (42, 49) (48, 73) (48, 88)\n",
            " (61, 88) (65, 68) (65, 79) (68, 79) (71, 93) (73, 88)]\n"
          ]
        }
      ],
      "source": [
        "a = np.random.randint(1,100,(10,3))\n",
        "b = np.roll(a.repeat(2,axis =1), -1,axis =1)           ####\n",
        "b = b.reshape(len(b)*3,2)\n",
        "b = np.sort(b,axis =1)\n",
        "\n",
        "G = b.view( dtype=[('p0',b.dtype),('p1',b.dtype)] )\n",
        "G = np.unique(G)\n",
        "print(G)"
      ]
    },
    {
      "cell_type": "markdown",
      "metadata": {
        "id": "7Mn6-GKzvO0U"
      },
      "source": [
        "#### 74. Given an array C that is a bincount, how to produce an array A such that np.bincount(A) == C? (★★★) \n",
        "(**hint**: np.repeat)"
      ]
    },
    {
      "cell_type": "code",
      "execution_count": null,
      "metadata": {
        "id": "Br-i84FOvO0V",
        "colab": {
          "base_uri": "https://localhost:8080/"
        },
        "outputId": "1bd0bf26-39c5-4695-95e5-91dbae72e398"
      },
      "outputs": [
        {
          "output_type": "stream",
          "name": "stdout",
          "text": [
            "[1 1 2 3 4 4 6]\n"
          ]
        }
      ],
      "source": [
        "C = np.bincount([1,1,2,3,4,4,6])\n",
        "\n",
        "A = np.repeat(np.arange(len(C)), C)\n",
        "\n",
        "print(A)"
      ]
    },
    {
      "cell_type": "markdown",
      "metadata": {
        "id": "yLaP8pkdvO0V"
      },
      "source": [
        "#### 75. How to compute averages using a sliding window over an array? (★★★) \n",
        "(**hint**: np.cumsum)"
      ]
    },
    {
      "cell_type": "code",
      "execution_count": null,
      "metadata": {
        "id": "Q0nj7ZXPvO0V",
        "colab": {
          "base_uri": "https://localhost:8080/"
        },
        "outputId": "89147a5c-2d1e-4b19-98c2-bce17d503bd9"
      },
      "outputs": [
        {
          "output_type": "stream",
          "name": "stdout",
          "text": [
            "[ 1.  2.  3.  4.  5.  6.  7.  8.  9. 10. 11. 12. 13. 14. 15. 16. 17. 18.]\n"
          ]
        }
      ],
      "source": [
        "def comp_average(a, n=3):\n",
        "  ret = np.cumsum(a, dtype=float)\n",
        "  ret[n:] = ret[n:] - ret[:-n]\n",
        "  return ret[n - 1:] / n\n",
        "Z = np.arange(20)\n",
        "print(comp_average(Z, n=3))"
      ]
    },
    {
      "cell_type": "markdown",
      "metadata": {
        "id": "tI_4T_8UvO0V"
      },
      "source": [
        "#### 76. Consider a one-dimensional array Z, build a two-dimensional array whose first row is (Z\\[0\\],Z\\[1\\],Z\\[2\\]) and each subsequent row is  shifted by 1 (last row should be (Z\\[-3\\],Z\\[-2\\],Z\\[-1\\]) (★★★) \n",
        "(**hint**: from numpy.lib import stride_tricks)"
      ]
    },
    {
      "cell_type": "code",
      "execution_count": null,
      "metadata": {
        "id": "rqd-QWExvO0W",
        "colab": {
          "base_uri": "https://localhost:8080/"
        },
        "outputId": "03173671-d96d-43d8-99d9-3f332fea5902"
      },
      "outputs": [
        {
          "output_type": "stream",
          "name": "stdout",
          "text": [
            "[[0 1 2]\n",
            " [1 2 3]\n",
            " [2 3 4]\n",
            " [3 4 5]\n",
            " [4 5 6]\n",
            " [5 6 7]\n",
            " [6 7 8]\n",
            " [7 8 9]]\n"
          ]
        }
      ],
      "source": [
        "from numpy.lib import stride_tricks       ####\n",
        "\n",
        "def rolling(a, window):\n",
        "  shape = (a.size - window + 1, window)\n",
        "  strides = (a.strides[0], a.strides[0])\n",
        "  return stride_tricks.as_strided(a, shape=shape, strides=strides)\n",
        "Z = rolling(np.arange(10), 3)\n",
        "print(Z)"
      ]
    },
    {
      "cell_type": "markdown",
      "metadata": {
        "id": "kZYACNMDvO0W"
      },
      "source": [
        "#### 77. How to negate a boolean, or to change the sign of a float inplace? (★★★) \n",
        "(**hint**: np.logical_not, np.negative)"
      ]
    },
    {
      "cell_type": "code",
      "execution_count": null,
      "metadata": {
        "id": "6sI6n9navO0W",
        "colab": {
          "base_uri": "https://localhost:8080/"
        },
        "outputId": "465c8cf1-56e5-45f3-f685-8c92e84c1164"
      },
      "outputs": [
        {
          "output_type": "execute_result",
          "data": {
            "text/plain": [
              "array([1, 0, 0, 0, 1, 1, 0, 1, 0, 1])"
            ]
          },
          "metadata": {},
          "execution_count": 216
        }
      ],
      "source": [
        "Z = np.random.randint(0,2,10)\n",
        "np.logical_not(Z , out = Z)"
      ]
    },
    {
      "cell_type": "code",
      "source": [
        "Y = np.random.uniform(-1.0,1.0, 10 )\n",
        "np.negative(Y)"
      ],
      "metadata": {
        "colab": {
          "base_uri": "https://localhost:8080/"
        },
        "id": "OsLd5BpXohca",
        "outputId": "2f1254e6-5752-4bb2-9aa7-8559276f63be"
      },
      "execution_count": null,
      "outputs": [
        {
          "output_type": "execute_result",
          "data": {
            "text/plain": [
              "array([-0.6181273 , -0.86054625, -0.3888439 , -0.27377523, -0.06145724,\n",
              "        0.35227031, -0.47217876, -0.20115117,  0.38478691, -0.3203646 ])"
            ]
          },
          "metadata": {},
          "execution_count": 215
        }
      ]
    },
    {
      "cell_type": "markdown",
      "metadata": {
        "id": "qcvvVcHqvO0X"
      },
      "source": [
        "#### 78. Consider 2 sets of points P0,P1 describing lines (2d) and a point p, how to compute distance from p to each line i  (P0\\[i\\],P1\\[i\\])? (★★★)"
      ]
    },
    {
      "cell_type": "code",
      "execution_count": null,
      "metadata": {
        "id": "LmttRVgavO0Y",
        "colab": {
          "base_uri": "https://localhost:8080/"
        },
        "outputId": "9f8f8cb6-3069-48a4-ac32-6afb5ceedd23"
      },
      "outputs": [
        {
          "output_type": "execute_result",
          "data": {
            "text/plain": [
              "array([ 0.28335836, 10.7646111 ,  7.21847092,  9.76458994,  9.34396829,\n",
              "       15.2685572 ,  7.34547716,  6.66532386,  5.28710727, 17.97269926])"
            ]
          },
          "metadata": {},
          "execution_count": 233
        }
      ],
      "source": [
        "def distance(p0,p1,p):\n",
        "  p0 = np.random.uniform(-10,10,(10,2))\n",
        "  p1 = np.random.uniform(-10,10,(10,2))\n",
        "  p = np.random.uniform(-10,10,(1,2))                ####\n",
        "\n",
        "  T = p1 - p0\n",
        "  L = (T**2).sum(axis = 1)\n",
        "  U = -((p0[:,0]-p[...,0])*T[:,0] + (p0[:,1]-p[...,1])*T[:,1]) / L\n",
        "\n",
        "  U = U.reshape(len(U),1)\n",
        "  D = p0 + U*T - p\n",
        "  return np.sqrt((D**2).sum(axis=1))\n",
        "\n",
        "p0 = np.random.uniform(-10,10,(10,2))\n",
        "p1 = np.random.uniform(-10,10,(10,2))\n",
        "p = np.random.uniform(-10,10,(1,2))\n",
        "\n",
        "distance(p0,p1,p)"
      ]
    },
    {
      "cell_type": "markdown",
      "metadata": {
        "id": "TErwGO79vO0Y"
      },
      "source": [
        "#### 79. Consider 2 sets of points P0,P1 describing lines (2d) and a set of points P, how to compute distance from each point j (P\\[j\\]) to each line i (P0\\[i\\],P1\\[i\\])? (★★★)"
      ]
    },
    {
      "cell_type": "code",
      "execution_count": null,
      "metadata": {
        "id": "7ZBSb1GgvO0Y",
        "colab": {
          "base_uri": "https://localhost:8080/"
        },
        "outputId": "c24d56cf-e5ea-44af-cf51-4719a75c9dc9"
      },
      "outputs": [
        {
          "output_type": "stream",
          "name": "stdout",
          "text": [
            "[[11.59270276  0.56980425  4.33166225  2.11680899  0.67572349 13.09721443\n",
            "   0.98593411  3.67110388  5.97226882 11.09809042]\n",
            " [ 2.76422049  6.58279517  3.01949934  0.29045723  5.35322273  2.62596234\n",
            "   2.62984712  7.77083246  1.3762306   1.82022963]\n",
            " [ 5.86324238 11.36605628  1.01835795  0.91142876  0.85919106  1.16289554\n",
            "  16.10236819 13.3266841   8.64356492  6.87916094]\n",
            " [ 7.55322712  0.20066849  2.71034346  8.08878708  5.46842612  3.57673888\n",
            "   5.23942462  4.22459313  6.95437094 10.29069425]\n",
            " [10.57413388  0.86735445 11.46607974  0.18226663  4.78058838  3.28931307\n",
            "   4.53137195  3.00099402  3.42114577  0.62753425]\n",
            " [ 0.08210958  6.38513583  1.10575149  3.95787364  7.59085728 15.21505224\n",
            "   5.07158378  2.80898866  5.70232826  5.26098418]\n",
            " [ 3.102829   14.093385    9.02761049  2.76004815 15.45066207  3.78713055\n",
            "   1.34600976  0.08197654  8.65282348 11.99077686]\n",
            " [ 0.58324036  9.44849149 10.08041817 10.3098895  12.95879842  4.7118883\n",
            "   6.29991922 12.98403228 10.66158902  6.05587321]\n",
            " [12.85423207 13.2078739   1.72797102  3.53419387  2.41180197 15.0659956\n",
            "  11.44710207  6.57394475 10.07319396  3.40454965]\n",
            " [ 8.42475517  9.73395403  6.50958689  4.11971298  2.98758596  8.68167452\n",
            "   5.76086099 13.0906777   6.23538707  1.35770112]]\n"
          ]
        }
      ],
      "source": [
        "P0 = np.random.uniform(-10, 10, (10,2))\n",
        "P1 = np.random.uniform(-10,10,(10,2))\n",
        "p = np.random.uniform(-10, 10, (10,2))\n",
        "print(np.array([distance(P0,P1,p_i) for p_i in p]))"
      ]
    },
    {
      "cell_type": "markdown",
      "metadata": {
        "id": "_2huBMXzvO0Y"
      },
      "source": [
        "#### 80. Consider an arbitrary array, write a function that extract a subpart with a fixed shape and centered on a given element (pad with a `fill` value when necessary) (★★★) \n",
        "(**hint**: minimum, maximum)"
      ]
    },
    {
      "cell_type": "code",
      "execution_count": null,
      "metadata": {
        "id": "8dC3ctAhvO0Z",
        "colab": {
          "base_uri": "https://localhost:8080/"
        },
        "outputId": "94147e13-3440-4ff6-d948-f69ff3c9e817"
      },
      "outputs": [
        {
          "output_type": "stream",
          "name": "stdout",
          "text": [
            "[[6 3 2 7 8 6 8 9 6 0]\n",
            " [1 1 0 8 6 9 1 2 1 5]\n",
            " [4 6 4 0 6 3 5 8 5 1]\n",
            " [4 3 2 9 0 4 5 5 7 8]\n",
            " [8 1 0 1 3 7 7 3 1 6]\n",
            " [8 3 3 8 9 9 8 3 9 1]\n",
            " [9 9 8 8 8 3 9 1 0 2]\n",
            " [7 1 6 1 7 4 8 3 2 3]\n",
            " [4 3 9 7 9 5 3 7 7 0]\n",
            " [5 1 6 3 8 0 3 1 9 8]]\n",
            "[[0 0 0 0 0]\n",
            " [0 6 3 2 7]\n",
            " [0 1 1 0 8]\n",
            " [0 4 6 4 0]\n",
            " [0 4 3 2 9]]\n"
          ]
        },
        {
          "output_type": "stream",
          "name": "stderr",
          "text": [
            "/usr/local/lib/python3.7/dist-packages/ipykernel_launcher.py:23: FutureWarning: Using a non-tuple sequence for multidimensional indexing is deprecated; use `arr[tuple(seq)]` instead of `arr[seq]`. In the future this will be interpreted as an array index, `arr[np.array(seq)]`, which will result either in an error or a different result.\n"
          ]
        }
      ],
      "source": [
        "\n",
        "Z = np.random.randint(0,10,(10,10))\n",
        "shape = (5,5)\n",
        "fill  = 0\n",
        "position = (1,1)\n",
        "\n",
        "R = np.ones(shape, dtype=Z.dtype)*fill\n",
        "P  = np.array(list(position)).astype(int)\n",
        "Rs = np.array(list(R.shape)).astype(int)\n",
        "Zs = np.array(list(Z.shape)).astype(int)\n",
        "\n",
        "R_start = np.zeros((len(shape),)).astype(int)\n",
        "R_stop  = np.array(list(shape)).astype(int)\n",
        "Z_start = (P-Rs//2)\n",
        "Z_stop  = (P+Rs//2)+Rs%2\n",
        "\n",
        "R_start = (R_start - np.minimum(Z_start,0)).tolist()\n",
        "Z_start = (np.maximum(Z_start,0)).tolist()\n",
        "R_stop = np.maximum(R_start, (R_stop - np.maximum(Z_stop-Zs,0))).tolist()\n",
        "Z_stop = (np.minimum(Z_stop,Zs)).tolist()\n",
        "\n",
        "r = [slice(start,stop) for start,stop in zip(R_start,R_stop)]\n",
        "z = [slice(start,stop) for start,stop in zip(Z_start,Z_stop)]\n",
        "R[r] = Z[z]\n",
        "print(Z)\n",
        "print(R)"
      ]
    },
    {
      "cell_type": "markdown",
      "metadata": {
        "id": "hrUppWUWvO0Z"
      },
      "source": [
        "#### 81. Consider an array Z = \\[1,2,3,4,5,6,7,8,9,10,11,12,13,14\\], how to generate an array R = \\[\\[1,2,3,4\\], \\[2,3,4,5\\], \\[3,4,5,6\\], ..., \\[11,12,13,14\\]\\]? (★★★) \n",
        "(**hint**: stride\\_tricks.as\\_strided)"
      ]
    },
    {
      "cell_type": "code",
      "execution_count": null,
      "metadata": {
        "id": "QcaQv06OvO0Z"
      },
      "outputs": [],
      "source": [
        "Z = np.arange(1,15,dtype=np.uint32)\n",
        "R = stride_tricks.as_strided(Z,(11,4),(4,4))\n",
        "print(R)\n",
        "\n",
        "Z = np.arange(1, 15, dtype=np.uint32)\n",
        "print(sliding_window_view(Z, window_shape=4))"
      ]
    },
    {
      "cell_type": "markdown",
      "metadata": {
        "id": "mb8nnKBovO0Z"
      },
      "source": [
        "#### 82. Compute a matrix rank (★★★) \n",
        "(**hint**: np.linalg.svd) (suggestion: np.linalg.svd)"
      ]
    },
    {
      "cell_type": "code",
      "execution_count": null,
      "metadata": {
        "id": "qCaBVyTmvO0Z",
        "colab": {
          "base_uri": "https://localhost:8080/"
        },
        "outputId": "af646295-bce8-410e-b505-0f1d1a3272e6"
      },
      "outputs": [
        {
          "output_type": "stream",
          "name": "stdout",
          "text": [
            "10\n"
          ]
        }
      ],
      "source": [
        "Z = np.random.uniform(0,1,(10,10))\n",
        "U, S, V = np.linalg.svd(Z) # Singular Value Decomposition\n",
        "rank = np.sum(S > 1e-10)\n",
        "print(rank)"
      ]
    },
    {
      "cell_type": "markdown",
      "metadata": {
        "id": "TVhb16x3vO0Z"
      },
      "source": [
        "#### 83. How to find the most frequent value in an array? \n",
        "(**hint**: np.bincount, argmax)"
      ]
    },
    {
      "cell_type": "code",
      "execution_count": null,
      "metadata": {
        "id": "EXzXecS0vO0a",
        "colab": {
          "base_uri": "https://localhost:8080/"
        },
        "outputId": "b4587832-46a6-4fb7-85b1-f09a2c10b8dd"
      },
      "outputs": [
        {
          "output_type": "stream",
          "name": "stdout",
          "text": [
            "3\n"
          ]
        }
      ],
      "source": [
        "Z = np.random.randint(0,10,50)\n",
        "print(np.bincount(Z).argmax())"
      ]
    },
    {
      "cell_type": "markdown",
      "metadata": {
        "id": "yyR7JwYEvO0a"
      },
      "source": [
        "#### 84. Extract all the contiguous 3x3 blocks from a random 10x10 matrix (★★★) \n",
        "(**hint**: stride\\_tricks.as\\_strided)"
      ]
    },
    {
      "cell_type": "code",
      "execution_count": null,
      "metadata": {
        "id": "a4rOfEzvvO0a",
        "colab": {
          "base_uri": "https://localhost:8080/"
        },
        "outputId": "89ca1920-7feb-4d06-e870-b004f01eebe0"
      },
      "outputs": [
        {
          "output_type": "stream",
          "name": "stdout",
          "text": [
            "[[[[1 4 3]\n",
            "   [2 1 3]\n",
            "   [0 3 4]]\n",
            "\n",
            "  [[4 3 0]\n",
            "   [1 3 4]\n",
            "   [3 4 1]]\n",
            "\n",
            "  [[3 0 4]\n",
            "   [3 4 4]\n",
            "   [4 1 2]]\n",
            "\n",
            "  [[0 4 4]\n",
            "   [4 4 1]\n",
            "   [1 2 2]]\n",
            "\n",
            "  [[4 4 1]\n",
            "   [4 1 0]\n",
            "   [2 2 4]]\n",
            "\n",
            "  [[4 1 1]\n",
            "   [1 0 1]\n",
            "   [2 4 3]]\n",
            "\n",
            "  [[1 1 4]\n",
            "   [0 1 0]\n",
            "   [4 3 3]]\n",
            "\n",
            "  [[1 4 4]\n",
            "   [1 0 3]\n",
            "   [3 3 1]]]\n",
            "\n",
            "\n",
            " [[[2 1 3]\n",
            "   [0 3 4]\n",
            "   [3 4 0]]\n",
            "\n",
            "  [[1 3 4]\n",
            "   [3 4 1]\n",
            "   [4 0 4]]\n",
            "\n",
            "  [[3 4 4]\n",
            "   [4 1 2]\n",
            "   [0 4 2]]\n",
            "\n",
            "  [[4 4 1]\n",
            "   [1 2 2]\n",
            "   [4 2 2]]\n",
            "\n",
            "  [[4 1 0]\n",
            "   [2 2 4]\n",
            "   [2 2 3]]\n",
            "\n",
            "  [[1 0 1]\n",
            "   [2 4 3]\n",
            "   [2 3 0]]\n",
            "\n",
            "  [[0 1 0]\n",
            "   [4 3 3]\n",
            "   [3 0 2]]\n",
            "\n",
            "  [[1 0 3]\n",
            "   [3 3 1]\n",
            "   [0 2 1]]]\n",
            "\n",
            "\n",
            " [[[0 3 4]\n",
            "   [3 4 0]\n",
            "   [2 4 0]]\n",
            "\n",
            "  [[3 4 1]\n",
            "   [4 0 4]\n",
            "   [4 0 1]]\n",
            "\n",
            "  [[4 1 2]\n",
            "   [0 4 2]\n",
            "   [0 1 1]]\n",
            "\n",
            "  [[1 2 2]\n",
            "   [4 2 2]\n",
            "   [1 1 2]]\n",
            "\n",
            "  [[2 2 4]\n",
            "   [2 2 3]\n",
            "   [1 2 4]]\n",
            "\n",
            "  [[2 4 3]\n",
            "   [2 3 0]\n",
            "   [2 4 2]]\n",
            "\n",
            "  [[4 3 3]\n",
            "   [3 0 2]\n",
            "   [4 2 0]]\n",
            "\n",
            "  [[3 3 1]\n",
            "   [0 2 1]\n",
            "   [2 0 3]]]\n",
            "\n",
            "\n",
            " [[[3 4 0]\n",
            "   [2 4 0]\n",
            "   [1 1 2]]\n",
            "\n",
            "  [[4 0 4]\n",
            "   [4 0 1]\n",
            "   [1 2 4]]\n",
            "\n",
            "  [[0 4 2]\n",
            "   [0 1 1]\n",
            "   [2 4 1]]\n",
            "\n",
            "  [[4 2 2]\n",
            "   [1 1 2]\n",
            "   [4 1 3]]\n",
            "\n",
            "  [[2 2 3]\n",
            "   [1 2 4]\n",
            "   [1 3 2]]\n",
            "\n",
            "  [[2 3 0]\n",
            "   [2 4 2]\n",
            "   [3 2 2]]\n",
            "\n",
            "  [[3 0 2]\n",
            "   [4 2 0]\n",
            "   [2 2 1]]\n",
            "\n",
            "  [[0 2 1]\n",
            "   [2 0 3]\n",
            "   [2 1 0]]]\n",
            "\n",
            "\n",
            " [[[2 4 0]\n",
            "   [1 1 2]\n",
            "   [0 3 1]]\n",
            "\n",
            "  [[4 0 1]\n",
            "   [1 2 4]\n",
            "   [3 1 3]]\n",
            "\n",
            "  [[0 1 1]\n",
            "   [2 4 1]\n",
            "   [1 3 1]]\n",
            "\n",
            "  [[1 1 2]\n",
            "   [4 1 3]\n",
            "   [3 1 4]]\n",
            "\n",
            "  [[1 2 4]\n",
            "   [1 3 2]\n",
            "   [1 4 2]]\n",
            "\n",
            "  [[2 4 2]\n",
            "   [3 2 2]\n",
            "   [4 2 0]]\n",
            "\n",
            "  [[4 2 0]\n",
            "   [2 2 1]\n",
            "   [2 0 1]]\n",
            "\n",
            "  [[2 0 3]\n",
            "   [2 1 0]\n",
            "   [0 1 4]]]\n",
            "\n",
            "\n",
            " [[[1 1 2]\n",
            "   [0 3 1]\n",
            "   [0 2 1]]\n",
            "\n",
            "  [[1 2 4]\n",
            "   [3 1 3]\n",
            "   [2 1 0]]\n",
            "\n",
            "  [[2 4 1]\n",
            "   [1 3 1]\n",
            "   [1 0 3]]\n",
            "\n",
            "  [[4 1 3]\n",
            "   [3 1 4]\n",
            "   [0 3 2]]\n",
            "\n",
            "  [[1 3 2]\n",
            "   [1 4 2]\n",
            "   [3 2 3]]\n",
            "\n",
            "  [[3 2 2]\n",
            "   [4 2 0]\n",
            "   [2 3 3]]\n",
            "\n",
            "  [[2 2 1]\n",
            "   [2 0 1]\n",
            "   [3 3 4]]\n",
            "\n",
            "  [[2 1 0]\n",
            "   [0 1 4]\n",
            "   [3 4 4]]]\n",
            "\n",
            "\n",
            " [[[0 3 1]\n",
            "   [0 2 1]\n",
            "   [3 3 0]]\n",
            "\n",
            "  [[3 1 3]\n",
            "   [2 1 0]\n",
            "   [3 0 2]]\n",
            "\n",
            "  [[1 3 1]\n",
            "   [1 0 3]\n",
            "   [0 2 1]]\n",
            "\n",
            "  [[3 1 4]\n",
            "   [0 3 2]\n",
            "   [2 1 2]]\n",
            "\n",
            "  [[1 4 2]\n",
            "   [3 2 3]\n",
            "   [1 2 1]]\n",
            "\n",
            "  [[4 2 0]\n",
            "   [2 3 3]\n",
            "   [2 1 4]]\n",
            "\n",
            "  [[2 0 1]\n",
            "   [3 3 4]\n",
            "   [1 4 0]]\n",
            "\n",
            "  [[0 1 4]\n",
            "   [3 4 4]\n",
            "   [4 0 2]]]\n",
            "\n",
            "\n",
            " [[[0 2 1]\n",
            "   [3 3 0]\n",
            "   [2 0 1]]\n",
            "\n",
            "  [[2 1 0]\n",
            "   [3 0 2]\n",
            "   [0 1 0]]\n",
            "\n",
            "  [[1 0 3]\n",
            "   [0 2 1]\n",
            "   [1 0 2]]\n",
            "\n",
            "  [[0 3 2]\n",
            "   [2 1 2]\n",
            "   [0 2 4]]\n",
            "\n",
            "  [[3 2 3]\n",
            "   [1 2 1]\n",
            "   [2 4 0]]\n",
            "\n",
            "  [[2 3 3]\n",
            "   [2 1 4]\n",
            "   [4 0 4]]\n",
            "\n",
            "  [[3 3 4]\n",
            "   [1 4 0]\n",
            "   [0 4 0]]\n",
            "\n",
            "  [[3 4 4]\n",
            "   [4 0 2]\n",
            "   [4 0 2]]]]\n"
          ]
        }
      ],
      "source": [
        "Z = np.random.randint(0,5,(10,10))\n",
        "n = 3\n",
        "i = 1 + (Z.shape[0]-3)\n",
        "j = 1 + (Z.shape[1]-3)\n",
        "C = stride_tricks.as_strided(Z, shape=(i, j, n, n), strides=Z.strides + Z.strides)\n",
        "print(C)"
      ]
    },
    {
      "cell_type": "markdown",
      "metadata": {
        "id": "Fdopo5MCvO0a"
      },
      "source": [
        "#### 85. Create a 2D array subclass such that Z\\[i,j\\] == Z\\[j,i\\] (★★★) \n",
        "(**hint**: class method)"
      ]
    },
    {
      "cell_type": "code",
      "execution_count": null,
      "metadata": {
        "id": "030bw1QqvO0a",
        "colab": {
          "base_uri": "https://localhost:8080/"
        },
        "outputId": "2c641f1b-e6ce-44eb-8170-304fd7a035c5"
      },
      "outputs": [
        {
          "output_type": "stream",
          "name": "stdout",
          "text": [
            "[[ 0  7  9 10  7]\n",
            " [ 7  5 16  5  3]\n",
            " [ 9 16  1 42  7]\n",
            " [10  5 42  8 12]\n",
            " [ 7  3  7 12  1]]\n"
          ]
        }
      ],
      "source": [
        "class Symetric(np.ndarray):\n",
        "  def __setitem__(self, index, value):\n",
        "    i,j = index\n",
        "    super(Symetric, self).__setitem__((i,j), value)\n",
        "    super(Symetric, self).__setitem__((j,i), value)\n",
        "\n",
        "def symetric(Z):\n",
        "  return np.asarray(Z + Z.T - np.diag(Z.diagonal())).view(Symetric)\n",
        "\n",
        "S = symetric(np.random.randint(0,10,(5,5)))\n",
        "S[2,3] = 42\n",
        "print(S)"
      ]
    },
    {
      "cell_type": "markdown",
      "metadata": {
        "id": "CepQ1CgevO0b"
      },
      "source": [
        "#### 86. Consider a set of p matrices wich shape (n,n) and a set of p vectors with shape (n,1). How to compute the sum of of the p matrix products at once? (result has shape (n,1)) (★★★) \n",
        "(**hint**: np.tensordot)"
      ]
    },
    {
      "cell_type": "code",
      "execution_count": null,
      "metadata": {
        "id": "OhoKoVJnvO0b",
        "colab": {
          "base_uri": "https://localhost:8080/"
        },
        "outputId": "35665205-398c-41eb-98e9-5d7db36fdef3"
      },
      "outputs": [
        {
          "output_type": "stream",
          "name": "stdout",
          "text": [
            "[[200.]\n",
            " [200.]\n",
            " [200.]\n",
            " [200.]\n",
            " [200.]\n",
            " [200.]\n",
            " [200.]\n",
            " [200.]\n",
            " [200.]\n",
            " [200.]\n",
            " [200.]\n",
            " [200.]\n",
            " [200.]\n",
            " [200.]\n",
            " [200.]\n",
            " [200.]\n",
            " [200.]\n",
            " [200.]\n",
            " [200.]\n",
            " [200.]]\n"
          ]
        }
      ],
      "source": [
        "p, n = 10, 20\n",
        "M = np.ones((p,n,n))\n",
        "V = np.ones((p,n,1))\n",
        "S = np.tensordot(M, V, axes=[[0, 2], [0, 1]])\n",
        "print(S)"
      ]
    },
    {
      "cell_type": "markdown",
      "metadata": {
        "id": "ykcvRoDFvO0b"
      },
      "source": [
        "#### 87. Consider a 16x16 array, how to get the block-sum (block size is 4x4)? (★★★) \n",
        "(**hint**: np.add.reduceat)"
      ]
    },
    {
      "cell_type": "code",
      "execution_count": null,
      "metadata": {
        "id": "IU0K6bEgvO0b",
        "colab": {
          "base_uri": "https://localhost:8080/"
        },
        "outputId": "5fd8eb94-76a5-4b2e-cf99-ca12ae223b12"
      },
      "outputs": [
        {
          "output_type": "stream",
          "name": "stdout",
          "text": [
            "[[16. 16. 16. 16.]\n",
            " [16. 16. 16. 16.]\n",
            " [16. 16. 16. 16.]\n",
            " [16. 16. 16. 16.]]\n"
          ]
        }
      ],
      "source": [
        "Z = np.ones((16,16))\n",
        "k = 4\n",
        "S = np.add.reduceat(np.add.reduceat(Z, np.arange(0, Z.shape[0], k), axis=0),\n",
        "                                       np.arange(0, Z.shape[1], k), axis=1)\n",
        "print(S)\n"
      ]
    },
    {
      "cell_type": "markdown",
      "metadata": {
        "id": "Ach-b1qgvO0b"
      },
      "source": [
        "#### 88. How to implement the Game of Life using numpy arrays? (★★★)"
      ]
    },
    {
      "cell_type": "code",
      "execution_count": null,
      "metadata": {
        "id": "nwNDhtwJvO0b",
        "colab": {
          "base_uri": "https://localhost:8080/"
        },
        "outputId": "8db315f4-ff4a-4692-f2a3-0e7bd8824720"
      },
      "outputs": [
        {
          "output_type": "stream",
          "name": "stdout",
          "text": [
            "[[0 0 0 ... 0 0 0]\n",
            " [0 0 0 ... 1 0 0]\n",
            " [0 0 0 ... 0 1 0]\n",
            " ...\n",
            " [0 0 0 ... 0 0 0]\n",
            " [0 0 0 ... 0 0 0]\n",
            " [0 0 0 ... 0 0 0]]\n"
          ]
        }
      ],
      "source": [
        "def iterate(Z):\n",
        "  N = (Z[0:-2,0:-2] + Z[0:-2,1:-1] + Z[0:-2,2:] +\n",
        "         Z[1:-1,0:-2]                + Z[1:-1,2:] +\n",
        "         Z[2:  ,0:-2] + Z[2:  ,1:-1] + Z[2:  ,2:])\n",
        "\n",
        "  birth = (N==3) & (Z[1:-1,1:-1]==0)\n",
        "  survive = ((N==2) | (N==3)) & (Z[1:-1,1:-1]==1)\n",
        "  Z[...] = 0\n",
        "  Z[1:-1,1:-1][birth | survive] = 1\n",
        "  return Z\n",
        "\n",
        "Z = np.random.randint(0,2,(50,50))\n",
        "for i in range(100): Z = iterate(Z)\n",
        "print(Z)"
      ]
    },
    {
      "cell_type": "markdown",
      "metadata": {
        "id": "wTnpgELWvO0b"
      },
      "source": [
        "#### 89. How to get the n largest values of an array (★★★) \n",
        "(**hint**: np.argsort | np.argpartition)"
      ]
    },
    {
      "cell_type": "code",
      "execution_count": null,
      "metadata": {
        "id": "8RCXjNQuvO0b",
        "colab": {
          "base_uri": "https://localhost:8080/"
        },
        "outputId": "3e711c40-118a-44eb-b001-4d039ab97524"
      },
      "outputs": [
        {
          "output_type": "stream",
          "name": "stdout",
          "text": [
            "[9995 9996 9997 9998 9999]\n",
            "[9998 9999 9997 9996 9995]\n"
          ]
        }
      ],
      "source": [
        "Z = np.arange(10000)\n",
        "np.random.shuffle(Z)\n",
        "n = 5\n",
        "\n",
        "print (Z[np.argsort(Z)[-n:]])\n",
        "\n",
        "print (Z[np.argpartition(-Z,n)[:n]])"
      ]
    },
    {
      "cell_type": "markdown",
      "metadata": {
        "id": "SsSH2t_6vO0b"
      },
      "source": [
        "#### 90. Given an arbitrary number of vectors, build the cartesian product (every combinations of every item) (★★★) \n",
        "(**hint**: np.indices)"
      ]
    },
    {
      "cell_type": "code",
      "execution_count": null,
      "metadata": {
        "scrolled": true,
        "id": "N2PeaaGyvO0c",
        "colab": {
          "base_uri": "https://localhost:8080/"
        },
        "outputId": "4df30bdd-10b4-4223-f8a1-9059b4d1896a"
      },
      "outputs": [
        {
          "output_type": "stream",
          "name": "stdout",
          "text": [
            "[[1 4 6]\n",
            " [1 4 7]\n",
            " [1 5 6]\n",
            " [1 5 7]\n",
            " [2 4 6]\n",
            " [2 4 7]\n",
            " [2 5 6]\n",
            " [2 5 7]\n",
            " [3 4 6]\n",
            " [3 4 7]\n",
            " [3 5 6]\n",
            " [3 5 7]]\n"
          ]
        }
      ],
      "source": [
        "def cartesian(arrays):\n",
        "  arrays = [np.asarray(a) for a in arrays]\n",
        "  shape = (len(x) for x in arrays)\n",
        "\n",
        "  ix = np.indices(shape, dtype=int)\n",
        "  ix = ix.reshape(len(arrays), -1).T\n",
        "\n",
        "  for n, arr in enumerate(arrays):\n",
        "        ix[:, n] = arrays[n][ix[:, n]]\n",
        "\n",
        "  return ix\n",
        "\n",
        "print (cartesian(([1, 2, 3], [4, 5], [6, 7])))"
      ]
    },
    {
      "cell_type": "markdown",
      "metadata": {
        "id": "OiSvr6SgvO0c"
      },
      "source": [
        "#### 91. How to create a record array from a regular array? (★★★) \n",
        "(**hint**: np.core.records.fromarrays)"
      ]
    },
    {
      "cell_type": "code",
      "execution_count": null,
      "metadata": {
        "id": "eJG6LruXvO0c",
        "colab": {
          "base_uri": "https://localhost:8080/"
        },
        "outputId": "7c617844-c2e7-4e2d-d3d4-783764f01c08"
      },
      "outputs": [
        {
          "output_type": "stream",
          "name": "stdout",
          "text": [
            "[(b'Hello', 2.5, 3) (b'World', 3.6, 2)]\n"
          ]
        }
      ],
      "source": [
        "Z = np.array([(\"Hello\", 2.5, 3),\n",
        "              (\"World\", 3.6, 2)])\n",
        "R = np.core.records.fromarrays(Z.T,\n",
        "                               names='col1, col2, col3',\n",
        "                               formats = 'S8, f8, i8')\n",
        "print(R)"
      ]
    },
    {
      "cell_type": "markdown",
      "metadata": {
        "id": "9UdWBevuvO0c"
      },
      "source": [
        "#### 92. Consider a large vector Z, compute Z to the power of 3 using 3 different methods (★★★) \n",
        "(**hint**: np.power, \\*, np.einsum)"
      ]
    },
    {
      "cell_type": "code",
      "execution_count": null,
      "metadata": {
        "id": "1eviTDHavO0c",
        "colab": {
          "base_uri": "https://localhost:8080/"
        },
        "outputId": "b964f765-5eff-4d09-b46a-17f640cbf04d"
      },
      "outputs": [
        {
          "output_type": "stream",
          "name": "stdout",
          "text": [
            "3.78 s ± 166 ms per loop (mean ± std. dev. of 7 runs, 1 loop each)\n",
            "151 ms ± 9.99 ms per loop (mean ± std. dev. of 7 runs, 10 loops each)\n",
            "127 ms ± 8.26 ms per loop (mean ± std. dev. of 7 runs, 10 loops each)\n"
          ]
        }
      ],
      "source": [
        "x = np.random.rand(int(5e7))\n",
        "\n",
        "%timeit np.power(x,3)\n",
        "%timeit x*x*x\n",
        "%timeit np.einsum('i,i,i->i',x,x,x)"
      ]
    },
    {
      "cell_type": "markdown",
      "metadata": {
        "id": "lFI2v6UjvO0c"
      },
      "source": [
        "#### 93. Consider two arrays A and B of shape (8,3) and (2,2). How to find rows of A that contain elements of each row of B regardless of the order of the elements in B? (★★★) \n",
        "(**hint**: np.where)"
      ]
    },
    {
      "cell_type": "code",
      "execution_count": null,
      "metadata": {
        "id": "ndOEmLngvO0c",
        "colab": {
          "base_uri": "https://localhost:8080/"
        },
        "outputId": "5d727322-fa2d-49cc-b985-bf9c0b5ed676"
      },
      "outputs": [
        {
          "output_type": "stream",
          "name": "stdout",
          "text": [
            "[0 2 3 4 7]\n"
          ]
        }
      ],
      "source": [
        "A = np.random.randint(0,5,(8,3))\n",
        "B = np.random.randint(0,5,(2,2))\n",
        "\n",
        "C = (A[..., np.newaxis, np.newaxis] == B)\n",
        "rows = np.where(C.any((3,1)).all(1))[0]\n",
        "print(rows)"
      ]
    },
    {
      "cell_type": "markdown",
      "metadata": {
        "id": "AQ9qLz20vO0c"
      },
      "source": [
        "#### 94. Considering a 10x3 matrix, extract rows with unequal values (e.g. \\[2,2,3\\]) (★★★)"
      ]
    },
    {
      "cell_type": "code",
      "execution_count": null,
      "metadata": {
        "id": "aBTm47Q2vO0d",
        "colab": {
          "base_uri": "https://localhost:8080/"
        },
        "outputId": "7dd19ed6-e793-4df2-89db-bb445fface16"
      },
      "outputs": [
        {
          "output_type": "stream",
          "name": "stdout",
          "text": [
            "[[0 0 0]\n",
            " [0 4 4]\n",
            " [3 4 2]\n",
            " [2 1 2]\n",
            " [2 4 1]\n",
            " [2 4 3]\n",
            " [2 0 1]\n",
            " [1 1 3]\n",
            " [0 0 1]\n",
            " [3 2 3]]\n",
            "[[0 4 4]\n",
            " [3 4 2]\n",
            " [2 1 2]\n",
            " [2 4 1]\n",
            " [2 4 3]\n",
            " [2 0 1]\n",
            " [1 1 3]\n",
            " [0 0 1]\n",
            " [3 2 3]]\n",
            "[[0 4 4]\n",
            " [3 4 2]\n",
            " [2 1 2]\n",
            " [2 4 1]\n",
            " [2 4 3]\n",
            " [2 0 1]\n",
            " [1 1 3]\n",
            " [0 0 1]\n",
            " [3 2 3]]\n"
          ]
        }
      ],
      "source": [
        "Z = np.random.randint(0,5,(10,3))\n",
        "print(Z)\n",
        "\n",
        "E = np.all(Z[:,1:] == Z[:,:-1], axis=1)\n",
        "U = Z[~E]\n",
        "print(U)\n",
        "\n",
        "U = Z[Z.max(axis=1) != Z.min(axis=1),:]\n",
        "print(U)"
      ]
    },
    {
      "cell_type": "markdown",
      "metadata": {
        "id": "-un_WPWvvO0d"
      },
      "source": [
        "#### 95. Convert a vector of ints into a matrix binary representation (★★★) \n",
        "(**hint**: np.unpackbits)"
      ]
    },
    {
      "cell_type": "code",
      "execution_count": null,
      "metadata": {
        "id": "eGcuAdw7vO0d",
        "colab": {
          "base_uri": "https://localhost:8080/"
        },
        "outputId": "7ed3b332-f240-45ca-fb6a-75d04dddef50"
      },
      "outputs": [
        {
          "output_type": "stream",
          "name": "stdout",
          "text": [
            "[[0 0 0 0 0 0 0 0]\n",
            " [0 0 0 0 0 0 0 1]\n",
            " [0 0 0 0 0 0 1 0]\n",
            " [0 0 0 0 0 0 1 1]\n",
            " [0 0 0 0 1 1 1 1]\n",
            " [0 0 0 1 0 0 0 0]\n",
            " [0 0 1 0 0 0 0 0]\n",
            " [0 1 0 0 0 0 0 0]\n",
            " [1 0 0 0 0 0 0 0]]\n",
            "[[0 0 0 0 0 0 0 0]\n",
            " [0 0 0 0 0 0 0 1]\n",
            " [0 0 0 0 0 0 1 0]\n",
            " [0 0 0 0 0 0 1 1]\n",
            " [0 0 0 0 1 1 1 1]\n",
            " [0 0 0 1 0 0 0 0]\n",
            " [0 0 1 0 0 0 0 0]\n",
            " [0 1 0 0 0 0 0 0]\n",
            " [1 0 0 0 0 0 0 0]]\n"
          ]
        }
      ],
      "source": [
        "I = np.array([0, 1, 2, 3, 15, 16, 32, 64, 128])\n",
        "B = ((I.reshape(-1,1) & (2**np.arange(8))) != 0).astype(int)\n",
        "print(B[:,::-1])\n",
        "\n",
        "I = np.array([0, 1, 2, 3, 15, 16, 32, 64, 128], dtype=np.uint8)\n",
        "print(np.unpackbits(I[:, np.newaxis], axis=1))"
      ]
    },
    {
      "cell_type": "markdown",
      "metadata": {
        "id": "Y9ekbLbuvO0d"
      },
      "source": [
        "#### 96. Given a two dimensional array, how to extract unique rows? (★★★) \n",
        "(**hint**: np.ascontiguousarray)"
      ]
    },
    {
      "cell_type": "code",
      "execution_count": null,
      "metadata": {
        "id": "30vVFhtPvO0d",
        "colab": {
          "base_uri": "https://localhost:8080/"
        },
        "outputId": "057d52e2-c127-416a-9ad2-bd1cd2aeed87"
      },
      "outputs": [
        {
          "output_type": "stream",
          "name": "stdout",
          "text": [
            "[[0 0 0]\n",
            " [0 0 1]\n",
            " [0 1 1]\n",
            " [1 0 1]]\n",
            "[[0 0 0]\n",
            " [0 0 1]\n",
            " [0 1 1]\n",
            " [1 0 1]]\n"
          ]
        }
      ],
      "source": [
        "Z = np.random.randint(0,2,(6,3))\n",
        "T = np.ascontiguousarray(Z).view(np.dtype((np.void, Z.dtype.itemsize * Z.shape[1])))\n",
        "_, idx = np.unique(T, return_index=True)\n",
        "uZ = Z[idx]\n",
        "print(uZ)\n",
        "\n",
        "uZ = np.unique(Z, axis=0)\n",
        "print(uZ)"
      ]
    },
    {
      "cell_type": "markdown",
      "metadata": {
        "id": "F3TXVnbBvO0d"
      },
      "source": [
        "#### 97. Considering 2 vectors A & B, write the einsum equivalent of inner, outer, sum, and mul function (★★★) \n",
        "(**hint**: np.einsum)"
      ]
    },
    {
      "cell_type": "code",
      "execution_count": null,
      "metadata": {
        "id": "o7cQEMkfvO0d",
        "colab": {
          "base_uri": "https://localhost:8080/"
        },
        "outputId": "7c28ec2d-b83a-432f-c48b-fcf7caa963a4"
      },
      "outputs": [
        {
          "output_type": "execute_result",
          "data": {
            "text/plain": [
              "array([[0.03135757, 0.19441659, 0.14808233, 0.09387937, 0.02831261,\n",
              "        0.06097364, 0.0822554 , 0.01101575, 0.03375715, 0.1619534 ],\n",
              "       [0.14079873, 0.87295057, 0.66490494, 0.42152808, 0.12712654,\n",
              "        0.27377793, 0.36933525, 0.04946187, 0.15157309, 0.72718751],\n",
              "       [0.14208464, 0.88092319, 0.67097749, 0.42537788, 0.12828758,\n",
              "        0.27627833, 0.37270837, 0.04991361, 0.1529574 , 0.73382888],\n",
              "       [0.07407539, 0.45926662, 0.34981206, 0.22176946, 0.06688234,\n",
              "        0.14403686, 0.19431037, 0.02602231, 0.07974387, 0.38257945],\n",
              "       [0.10573937, 0.65558293, 0.49934136, 0.31656617, 0.0954716 ,\n",
              "        0.2056063 , 0.27736952, 0.0371457 , 0.11383088, 0.54611536],\n",
              "       [0.07323735, 0.45407077, 0.34585451, 0.2192605 , 0.06612567,\n",
              "        0.14240732, 0.19211207, 0.02572791, 0.0788417 , 0.37825118],\n",
              "       [0.06693201, 0.41497769, 0.31607828, 0.20038334, 0.0604326 ,\n",
              "        0.13014681, 0.17557224, 0.02351287, 0.07205385, 0.34568577],\n",
              "       [0.08677354, 0.53799497, 0.40977751, 0.2597856 , 0.07834743,\n",
              "        0.16872793, 0.22761942, 0.0304831 , 0.09341372, 0.44816194],\n",
              "       [0.04233445, 0.26247311, 0.1999193 , 0.12674232, 0.03822358,\n",
              "        0.08231777, 0.11104932, 0.01487187, 0.04557401, 0.21864601],\n",
              "       [0.10816327, 0.67061107, 0.51078793, 0.32382292, 0.09766013,\n",
              "        0.21031948, 0.28372775, 0.0379972 , 0.11644026, 0.55863414]])"
            ]
          },
          "metadata": {},
          "execution_count": 252
        }
      ],
      "source": [
        "A = np.random.uniform(0,1,10)\n",
        "B = np.random.uniform(0,1,10)\n",
        "\n",
        "np.einsum('i->', A)    \n",
        "np.einsum('i,i->i', A, B) \n",
        "np.einsum('i,i', A, B)   \n",
        "np.einsum('i,j->ij', A, B)    "
      ]
    },
    {
      "cell_type": "markdown",
      "metadata": {
        "id": "DOK60Zc7vO0e"
      },
      "source": [
        "#### 98. Considering a path described by two vectors (X,Y), how to sample it using equidistant samples (★★★)? \n",
        "(**hint**: np.cumsum, np.interp)"
      ]
    },
    {
      "cell_type": "code",
      "execution_count": null,
      "metadata": {
        "collapsed": true,
        "id": "ypGPv4UavO0e"
      },
      "outputs": [],
      "source": [
        "phi = np.arange(0, 10*np.pi, 0.1)\n",
        "a = 1\n",
        "x = a*phi*np.cos(phi)\n",
        "y = a*phi*np.sin(phi)\n",
        "\n",
        "dr = (np.diff(x)**2 + np.diff(y)**2)**.5 \n",
        "r = np.zeros_like(x)\n",
        "r[1:] = np.cumsum(dr)             \n",
        "r_int = np.linspace(0, r.max(), \n",
        "x_int = np.interp(r_int, r, x)     \n",
        "y_int = np.interp(r_int, r, y)"
      ]
    },
    {
      "cell_type": "markdown",
      "metadata": {
        "id": "7oFpnsJyvO0e"
      },
      "source": [
        "#### 99. Given an integer n and a 2D array X, select from X the rows which can be interpreted as draws from a multinomial distribution with n degrees, i.e., the rows which only contain integers and which sum to n. (★★★) \n",
        "(**hint**: np.logical\\_and.reduce, np.mod)"
      ]
    },
    {
      "cell_type": "code",
      "execution_count": null,
      "metadata": {
        "id": "Zoexm8DtvO0e",
        "colab": {
          "base_uri": "https://localhost:8080/"
        },
        "outputId": "c300d5c4-7f54-4a5e-acd5-dbcf129c2645"
      },
      "outputs": [
        {
          "output_type": "stream",
          "name": "stdout",
          "text": [
            "[[2. 0. 1. 1.]]\n"
          ]
        }
      ],
      "source": [
        "X = np.asarray([[1.0, 0.0, 3.0, 8.0],\n",
        "                [2.0, 0.0, 1.0, 1.0],\n",
        "                [1.5, 2.5, 1.0, 0.0]])\n",
        "n = 4\n",
        "M = np.logical_and.reduce(np.mod(X, 1) == 0, axis=-1)\n",
        "M &= (X.sum(axis=-1) == n)\n",
        "print(X[M])"
      ]
    },
    {
      "cell_type": "markdown",
      "metadata": {
        "id": "xY_ZDFHkvO0e"
      },
      "source": [
        "#### 100. Compute bootstrapped 95% confidence intervals for the mean of a 1D array X (i.e., resample the elements of an array with replacement N times, compute the mean of each sample, and then compute percentiles over the means). (★★★) \n",
        "(**hint**: np.percentile)"
      ]
    },
    {
      "cell_type": "code",
      "execution_count": null,
      "metadata": {
        "id": "EnoIq9gfvO0e",
        "colab": {
          "base_uri": "https://localhost:8080/"
        },
        "outputId": "4d869694-632a-4f68-a442-6a1e44d7609c"
      },
      "outputs": [
        {
          "output_type": "stream",
          "name": "stdout",
          "text": [
            "[-0.34766927  0.06817891]\n"
          ]
        }
      ],
      "source": [
        "X = np.random.randn(100) # random 1D array\n",
        "N = 1000 # number of bootstrap samples\n",
        "idx = np.random.randint(0, X.size, (N, X.size))\n",
        "means = X[idx].mean(axis=1)\n",
        "confint = np.percentile(means, [2.5, 97.5])\n",
        "print(confint)"
      ]
    }
  ],
  "metadata": {
    "kernelspec": {
      "display_name": "Python 3",
      "language": "python",
      "name": "python3"
    },
    "language_info": {
      "codemirror_mode": {
        "name": "ipython",
        "version": 3
      },
      "file_extension": ".py",
      "mimetype": "text/x-python",
      "name": "python",
      "nbconvert_exporter": "python",
      "pygments_lexer": "ipython3",
      "version": "3.8.3"
    },
    "colab": {
      "provenance": [],
      "include_colab_link": true
    }
  },
  "nbformat": 4,
  "nbformat_minor": 0
}